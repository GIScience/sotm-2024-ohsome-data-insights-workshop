{
 "cells": [
  {
   "cell_type": "markdown",
   "id": "4db2bafd-697e-4c56-a0aa-9aba263c72d6",
   "metadata": {},
   "source": [
    "# Development of highways over time\n",
    "(pyiceberg -> **duckdb** -> lonboard map)\n",
    "In this notebook we demonstrate how to analyze and visualize the development highways in OSM over time.\n",
    "\n",
    "These are the steps you see further down:\n",
    "\n",
    "* Set the query params\n",
    "* Set the connection params to Iceberg Rest Catalog and Minio S3 Storage\n",
    "* Prepare the data in 3 steps\n",
    "    * Do an iceberg table scan with a pre-filter\n",
    "    * Fine filter the data in a Dataframe after download\n",
    "    * Transform the columns into the format that we need for mapping the features with `lonboard`\n",
    "* Create a **Map**, an **interactive Slider** to filter the map data and display the data as a **mapping saturation chart**   "
   ]
  },
  {
   "cell_type": "code",
   "execution_count": 16,
   "id": "4d64f0da-e22d-4900-860e-067681e57486",
   "metadata": {},
   "outputs": [],
   "source": [
    "import os\n",
    "import datetime\n",
    "\n",
    "import duckdb\n",
    "import polars as pl\n",
    "import pandas as pd\n",
    "import geopandas as gpd\n",
    "\n",
    "from pyiceberg.catalog.rest import RestCatalog\n",
    "\n",
    "import ipywidgets as widgets\n",
    "from lonboard.layer_extension import DataFilterExtension\n",
    "from lonboard import Map, ScatterplotLayer, PolygonLayer, SolidPolygonLayer, basemap\n",
    "from lonboard.colormap import apply_continuous_cmap\n",
    "from palettable.matplotlib import Viridis_20\n",
    "from ipywidgets import FloatRangeSlider, jsdlink, Layout\n",
    "from IPython.display import display, HTML"
   ]
  },
  {
   "cell_type": "markdown",
   "id": "1e02ab50-4b81-446d-a152-11fa37e9aedd",
   "metadata": {},
   "source": [
    "## Prepare the Iceberg connection"
   ]
  },
  {
   "cell_type": "code",
   "execution_count": 17,
   "id": "599c75fb-bbc1-4501-ac2d-756c2e4db16c",
   "metadata": {},
   "outputs": [],
   "source": [
    "s3_user = os.environ[\"S3_ACCESS_KEY_ID\"]  # add your user here\n",
    "s3_password = os.environ[\"S3_SECRET_ACCESS_KEY\"]  # add your password here"
   ]
  },
  {
   "cell_type": "code",
   "execution_count": 18,
   "id": "18cb06ed-1704-481d-84c8-4c630ad1a2f2",
   "metadata": {},
   "outputs": [],
   "source": [
    "catalog = RestCatalog(\n",
    "    name=\"default\",\n",
    "    **{\n",
    "        \"uri\": \"https://sotm2024.iceberg.ohsome.org\",\n",
    "        \"s3.endpoint\": \"https://sotm2024.minio.heigit.org\",\n",
    "        \"py-io-impl\": \"pyiceberg.io.pyarrow.PyArrowFileIO\",\n",
    "        \"s3.access-key-id\": s3_user,\n",
    "        \"s3.secret-access-key\": s3_password,\n",
    "        \"s3.region\": \"eu-central-1\"\n",
    "    }\n",
    ")"
   ]
  },
  {
   "cell_type": "markdown",
   "id": "ebb6119d-dfeb-4fb9-9ad1-1309676a0f06",
   "metadata": {},
   "source": [
    "## Prepare DuckDB"
   ]
  },
  {
   "cell_type": "code",
   "execution_count": 19,
   "id": "e13c4fb1-84b2-49ae-a7b4-881b348e7c3f",
   "metadata": {},
   "outputs": [],
   "source": [
    "con = duckdb.connect(\n",
    "    config={\n",
    "        'threads': 32,\n",
    "        'max_memory': '50GB'\n",
    "    }\n",
    ")\n",
    "con.install_extension(\"spatial\")\n",
    "con.load_extension(\"spatial\")"
   ]
  },
  {
   "cell_type": "markdown",
   "id": "965c038e-e46d-4199-be9d-818c7196a77f",
   "metadata": {},
   "source": [
    "## Prepare the input params for your map"
   ]
  },
  {
   "cell_type": "code",
   "execution_count": 21,
   "id": "2a62de7d-f335-4ad7-84e9-2fdbc6d9f671",
   "metadata": {},
   "outputs": [],
   "source": [
    "bboxes = {\n",
    "    'heidelberg': (8.629761, 49.379556, 8.742371, 49.437890),  #  ~20.000 buildings\n",
    "    'nairobi': (36.650938, -1.444471, 37.103887, -1.163522),\n",
    "    'mannheim': (8.41416, 49.410362, 8.58999, 49.590489),  #  ~100.000 buildings\n",
    "    'berlin': (13.088345, 52.338271, 13.761161, 52.675509)  # ~700.000 buildings\n",
    "}\n",
    "\n",
    "# select your input params\n",
    "\n",
    "# bbox\n",
    "(xmin, ymin, xmax, ymax) = bboxes['heidelberg']\n",
    "\n",
    "# date only, do not appent timepart\n",
    "(min_valid_from, max_valid_from) = ('2019-01-01', '2025-01-01')\n",
    "\n",
    "# iceberg table\n",
    "namespace = 'geo_sort'\n",
    "tablename = 'contributions_germany'\n",
    "icebergtable = catalog.load_table((namespace, tablename))"
   ]
  },
  {
   "cell_type": "code",
   "execution_count": 5,
   "id": "c1ca0749-59a9-4cac-887c-93a143ebc5ee",
   "metadata": {},
   "outputs": [],
   "source": [
    "bboxes = {\n",
    "    'heidelberg': (8.629761, 49.379556, 8.742371, 49.437890),  #  ~ 150.000 highways --> mapped to  ~2 Mio. for monthly snapshots\n",
    "    'nairobi': (36.650938, -1.444471, 37.103887, -1.163522),\n",
    "    'mannheim': (8.41416, 49.410362, 8.58999, 49.590489),      #  ~ 440.000 highways --> mapped to  ~7 Mio. for monthly snapshots\n",
    "    'berlin': (13.088345, 52.338271, 13.761161, 52.675509)     # ~3.000.000 highways --> mapped to ~36 Mio. for monthly snapshots\n",
    "}\n",
    "\n",
    "# select your input params\n",
    "\n",
    "# bbox\n",
    "(xmin, ymin, xmax, ymax) = bboxes['heidelberg']\n",
    "\n",
    "# date only, do not appent timepart\n",
    "(min_valid_from, max_valid_from) = ('2019-01-01', '2025-01-01')\n",
    "\n",
    "# iceberg table\n",
    "namespace = 'geo_sort'\n",
    "tablename = 'contributions_germany'"
   ]
  },
  {
   "cell_type": "markdown",
   "id": "7ba0bcf1-dea8-4caa-9e03-504e3b49e3c7",
   "metadata": {},
   "source": [
    "## Get the data\n",
    "\n",
    "### 1st Filter step: Define a pre-filter for the iceberg table scan\n",
    "\n",
    "Based in this pre-filter pyIceberg will use the Iceberg Tables Metadata to minimize the number of parquet files which have to be touched.  "
   ]
  },
  {
   "cell_type": "code",
   "execution_count": 22,
   "id": "89d29fb8-14ce-495a-af12-b2fa6d1e5d24",
   "metadata": {},
   "outputs": [],
   "source": [
    "ice = icebergtable.scan(\n",
    "    row_filter=f\"\"\"\n",
    "        (status = 'latest' or status = 'history')\n",
    "        and geometry_type = 'LineString'\n",
    "        and valid_from < '{max_valid_from}T00:00:00'\n",
    "        and valid_from >= '{min_valid_from}T00:00:00' \n",
    "        and (xmax >= {xmin} and xmin <= {xmax})\n",
    "        and (ymax >= {ymin} and ymin <= {ymax})   \n",
    "    \"\"\",\n",
    "    selected_fields=(\n",
    "        \"osm_id\",\n",
    "        \"valid_from\",\n",
    "        \"valid_to\",\n",
    "        \"road_length\",\n",
    "        \"tags\",\n",
    "        \"geometry\"\n",
    "    )\n",
    ")"
   ]
  },
  {
   "cell_type": "markdown",
   "id": "fec0e813-d126-48a7-8992-c716e4929806",
   "metadata": {},
   "source": [
    "### 2nd filter step: Further filter the data \n",
    "\n",
    "Some properties are not reflected in the Iceberg Metadata and must be fine filtered after fetching the parquet data."
   ]
  },
  {
   "cell_type": "code",
   "execution_count": 23,
   "id": "e15bcf32-3fb9-493b-8255-09ff88c47d81",
   "metadata": {},
   "outputs": [
    {
     "data": {
      "application/vnd.jupyter.widget-view+json": {
       "model_id": "41ef812d0b984849ae607a5650f4fce5",
       "version_major": 2,
       "version_minor": 0
      },
      "text/plain": [
       "FloatProgress(value=0.0, layout=Layout(width='auto'), style=ProgressStyle(bar_color='black'))"
      ]
     },
     "metadata": {},
     "output_type": "display_data"
    },
    {
     "data": {
      "text/html": [
       "<h2>Attention</h2><p style=\"font-size:large\">You are going to download <strong>79118</strong> features.</p>"
      ],
      "text/plain": [
       "<IPython.core.display.HTML object>"
      ]
     },
     "metadata": {},
     "output_type": "display_data"
    }
   ],
   "source": [
    "con = ice.to_duckdb('prefiltered_osm', connection=con)\n",
    "\n",
    "query = f\"\"\"\n",
    "SELECT\n",
    "    osm_id,\n",
    "    valid_from,\n",
    "    valid_to,\n",
    "    road_length,\n",
    "    tags,\n",
    "    ST_AsWKB(ST_Intersection(ST_GeomFromWKB(geometry),\n",
    "    st_makeenvelope({xmin},{ymin},{xmax},{ymax}))) as geometry\n",
    "FROM prefiltered_osm\n",
    "WHERE 1=1\n",
    "    and tags['highway'][1] is not null\n",
    "ORDER BY valid_from ASC\n",
    ";\n",
    "\"\"\"\n",
    "\n",
    "duckdb_table = con.sql(query)\n",
    "num_features = duckdb_table.count('*').fetchnumpy().get('count_star()').item()\n",
    "display(HTML(\n",
    "    f\"\"\"<h2>Attention</h2><p style=\"font-size:large\">You are going to download <strong>{num_features}</strong> features.</p>\"\"\"))"
   ]
  },
  {
   "cell_type": "code",
   "execution_count": null,
   "id": "ff149fef-9f16-47fb-8f5d-953ca5b4b53c",
   "metadata": {},
   "outputs": [],
   "source": []
  }
 ],
 "metadata": {
  "kernelspec": {
   "display_name": "Python 3 (ipykernel)",
   "language": "python",
   "name": "python3"
  },
  "language_info": {
   "codemirror_mode": {
    "name": "ipython",
    "version": 3
   },
   "file_extension": ".py",
   "mimetype": "text/x-python",
   "name": "python",
   "nbconvert_exporter": "python",
   "pygments_lexer": "ipython3",
   "version": "3.12.3"
  }
 },
 "nbformat": 4,
 "nbformat_minor": 5
}
