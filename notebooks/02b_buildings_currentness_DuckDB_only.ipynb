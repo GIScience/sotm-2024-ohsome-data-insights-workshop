{
 "cells": [
  {
   "cell_type": "markdown",
   "id": "376bf8342197f6a6",
   "metadata": {},
   "source": [
    "# Currentness of Buildings\n",
    "In this notebook we demonstrate how to analyze and visualize the up-to-date-ness or currentness of the latest OSM data.\n",
    "\n",
    "These are the steps you see further down:\n",
    "\n",
    "* Set the connection parameters.\n",
    "* Prepare your input parameters, e.g. define area of interest and OSM tag filter.\n",
    "* **Download data** using DuckDB.\n",
    "* Plot **currentness chart** with Polars.\n",
    "* Create a **Map**, an **interactive Slider** to filter the map data. "
   ]
  },
  {
   "cell_type": "markdown",
   "id": "23f48837-22c6-4c12-ab34-a99881cd844b",
   "metadata": {},
   "source": [
    "# Getting started\n",
    "Set connection params."
   ]
  },
  {
   "cell_type": "code",
   "execution_count": 1,
   "id": "331fd063-1ce7-46c9-96ea-e2984cf5459b",
   "metadata": {},
   "outputs": [],
   "source": [
    "import os\n",
    "\n",
    "s3_user = os.environ[\"S3_ACCESS_KEY_ID\"]  # add your user here\n",
    "s3_password = os.environ[\"S3_SECRET_ACCESS_KEY\"]  # add your password here"
   ]
  },
  {
   "cell_type": "markdown",
   "id": "31ceb832-6d27-4b40-b7fd-9905d9f8af13",
   "metadata": {},
   "source": [
    "Configure DuckDB."
   ]
  },
  {
   "cell_type": "code",
   "execution_count": 2,
   "id": "96acb582-a7e9-440d-914d-969fcf25a5c1",
   "metadata": {},
   "outputs": [],
   "source": [
    "import duckdb\n",
    "\n",
    "con = duckdb.connect(\n",
    "    config={\n",
    "        'threads': 8,\n",
    "        'max_memory': '8GB'\n",
    "    }\n",
    ")\n",
    "con.install_extension(\"spatial\")\n",
    "con.load_extension(\"spatial\")"
   ]
  },
  {
   "cell_type": "markdown",
   "id": "bea906d3-d6b0-46bf-a772-c2d8829d7d81",
   "metadata": {},
   "source": [
    "Set connection to MinIO object storage."
   ]
  },
  {
   "cell_type": "code",
   "execution_count": 3,
   "id": "d668f6b2-5d83-43d0-8f36-93f676385216",
   "metadata": {},
   "outputs": [
    {
     "name": "stdout",
     "output_type": "stream",
     "text": [
      "┌─────────┐\n",
      "│ Success │\n",
      "│ boolean │\n",
      "├─────────┤\n",
      "│ true    │\n",
      "└─────────┘\n",
      "\n"
     ]
    }
   ],
   "source": [
    "query = f\"\"\"\n",
    "DROP SECRET IF EXISTS \"__default_s3\";\n",
    "CREATE SECRET (\n",
    "      TYPE S3,\n",
    "      KEY_ID '{s3_user}',\n",
    "      SECRET '{s3_password}',\n",
    "      REGION 'eu-central-1',\n",
    "      endpoint 'sotm2024.minio.heigit.org',\n",
    "      use_ssl true,\n",
    "      url_style 'path'\n",
    "  );\n",
    "\"\"\"\n",
    "con.sql(query).show()"
   ]
  },
  {
   "cell_type": "markdown",
   "id": "7cacf3cf2ce91a41",
   "metadata": {},
   "source": [
    "## Prepare the input params for your analysis"
   ]
  },
  {
   "cell_type": "code",
   "execution_count": 37,
   "id": "f79d24f5f976b9e3",
   "metadata": {
    "ExecuteTime": {
     "end_time": "2024-08-16T08:47:02.611845Z",
     "start_time": "2024-08-16T08:47:02.601357Z"
    }
   },
   "outputs": [],
   "source": [
    "# Set s3 path for parquet input data\n",
    "parquet_data_path = \"s3a://heigit-ohsome-sotm24/data/geo_sort_ext/contributions_germany/**\"\n",
    "\n",
    "# Define status filter\n",
    "status = 'latest'\n",
    "\n",
    "# Define location filter\n",
    "bboxes = {\n",
    "    'heidelberg': (8.629761, 49.379556, 8.742371, 49.437890),\n",
    "    'nairobi': (36.650938, -1.444471, 37.103887, -1.163522),\n",
    "    'mannheim': (8.41416, 49.410362, 8.58999, 49.590489), \n",
    "    'berlin': (13.088345, 52.338271, 13.761161, 52.675509)\n",
    "}\n",
    "\n",
    "selected_region = 'mannheim'\n",
    "xmin, ymin, xmax, ymax = bboxes[selected_region]\n",
    "area_of_interest_file =f\"../data/{selected_region}.geojson\"\n",
    "\n",
    "# Define geometry type filter\n",
    "geometry_type = 'Polygon'"
   ]
  },
  {
   "cell_type": "markdown",
   "id": "fc4cd889-af4b-4706-9efc-37b2f4495c2d",
   "metadata": {},
   "source": [
    "## Get the Data"
   ]
  },
  {
   "cell_type": "code",
   "execution_count": 38,
   "id": "4c0e802d-013b-43ac-87fa-5b22059f93fa",
   "metadata": {},
   "outputs": [
    {
     "data": {
      "application/vnd.jupyter.widget-view+json": {
       "model_id": "92211a2c48ac4efbbc8b0f4ab6f87f59",
       "version_major": 2,
       "version_minor": 0
      },
      "text/plain": [
       "FloatProgress(value=0.0, layout=Layout(width='auto'), style=ProgressStyle(bar_color='black'))"
      ]
     },
     "metadata": {},
     "output_type": "display_data"
    },
    {
     "name": "stdout",
     "output_type": "stream",
     "text": [
      "download took 7.011 sec.\n"
     ]
    }
   ],
   "source": [
    "import time\n",
    "start_time = time.time()\n",
    "\n",
    "query = f\"\"\"\n",
    "DROP TABLE IF EXISTS osm_data;\n",
    "CREATE TABLE osm_data AS \n",
    "(\n",
    "SELECT\n",
    "    a.valid_from,\n",
    "    a.tags,\n",
    "    a.geometry   \n",
    "FROM\n",
    "    read_parquet('{parquet_data_path}', hive_partitioning=true) as a,\n",
    "    st_read('{area_of_interest_file}') as aoi\n",
    "WHERE 1=1\n",
    "    and status = 'latest'\n",
    "    and geometry_type = 'Polygon'\n",
    "    and tags['building'][1] is not null\n",
    "    and tags['building'][1] != 'no'\n",
    "    -- spatial filtering part\n",
    "    and (a.bbox.xmax >= {xmin} AND a.bbox.xmin <= {xmax})\n",
    "    and (a.bbox.ymax >= {ymin} AND a.bbox.ymin <= {ymax})\n",
    "    and ST_Intersects(st_GeomFromText(a.geometry), aoi.geom)\n",
    ")\n",
    ";\n",
    "\"\"\"\n",
    "con.sql(query)\n",
    "\n",
    "download_time = round(time.time() - start_time, 3)\n",
    "print(f\"download took {download_time} sec.\")"
   ]
  },
  {
   "cell_type": "markdown",
   "id": "68ed309a-2e60-4ad5-aa00-c2edcd858cf5",
   "metadata": {},
   "source": [
    "\n",
    "## Plot currentness chart with polars and hvplot"
   ]
  },
  {
   "cell_type": "code",
   "execution_count": 39,
   "id": "07f16b43-3cda-4a76-a99d-1ce96633ca66",
   "metadata": {},
   "outputs": [
    {
     "data": {},
     "metadata": {},
     "output_type": "display_data"
    },
    {
     "data": {
      "application/vnd.holoviews_exec.v0+json": "",
      "text/html": [
       "<div id='p1339'>\n",
       "  <div id=\"e7186b7f-1b97-453b-9a0e-60267c11e088\" data-root-id=\"p1339\" style=\"display: contents;\"></div>\n",
       "</div>\n",
       "<script type=\"application/javascript\">(function(root) {\n",
       "  var docs_json = {\"73cc10c0-0a4d-46ce-a7d1-2db98fb47d59\":{\"version\":\"3.4.3\",\"title\":\"Bokeh Application\",\"roots\":[{\"type\":\"object\",\"name\":\"Row\",\"id\":\"p1339\",\"attributes\":{\"name\":\"Row01643\",\"tags\":[\"embedded\"],\"stylesheets\":[\"\\n:host(.pn-loading):before, .pn-loading:before {\\n  background-color: #c3c3c3;\\n  mask-size: auto calc(min(50%, 400px));\\n  -webkit-mask-size: auto calc(min(50%, 400px));\\n}\",{\"type\":\"object\",\"name\":\"ImportedStyleSheet\",\"id\":\"p1342\",\"attributes\":{\"url\":\"https://cdn.holoviz.org/panel/1.4.5/dist/css/loading.css\"}},{\"type\":\"object\",\"name\":\"ImportedStyleSheet\",\"id\":\"p1410\",\"attributes\":{\"url\":\"https://cdn.holoviz.org/panel/1.4.5/dist/css/listpanel.css\"}},{\"type\":\"object\",\"name\":\"ImportedStyleSheet\",\"id\":\"p1340\",\"attributes\":{\"url\":\"https://cdn.holoviz.org/panel/1.4.5/dist/bundled/theme/default.css\"}},{\"type\":\"object\",\"name\":\"ImportedStyleSheet\",\"id\":\"p1341\",\"attributes\":{\"url\":\"https://cdn.holoviz.org/panel/1.4.5/dist/bundled/theme/native.css\"}}],\"min_width\":700,\"margin\":0,\"sizing_mode\":\"stretch_width\",\"align\":\"start\",\"children\":[{\"type\":\"object\",\"name\":\"Spacer\",\"id\":\"p1343\",\"attributes\":{\"name\":\"HSpacer01650\",\"stylesheets\":[\"\\n:host(.pn-loading):before, .pn-loading:before {\\n  background-color: #c3c3c3;\\n  mask-size: auto calc(min(50%, 400px));\\n  -webkit-mask-size: auto calc(min(50%, 400px));\\n}\",{\"id\":\"p1342\"},{\"id\":\"p1340\"},{\"id\":\"p1341\"}],\"margin\":0,\"sizing_mode\":\"stretch_width\",\"align\":\"start\"}},{\"type\":\"object\",\"name\":\"Figure\",\"id\":\"p1351\",\"attributes\":{\"width\":700,\"height\":300,\"margin\":[5,10],\"sizing_mode\":\"fixed\",\"align\":\"start\",\"x_range\":{\"type\":\"object\",\"name\":\"Range1d\",\"id\":\"p1344\",\"attributes\":{\"tags\":[[[\"month\",null]],[]],\"start\":1267401600000.0,\"end\":1719792000000.0,\"reset_start\":1267401600000.0,\"reset_end\":1719792000000.0}},\"y_range\":{\"type\":\"object\",\"name\":\"Range1d\",\"id\":\"p1345\",\"attributes\":{\"tags\":[[[\"n_edits\",null]],{\"type\":\"map\",\"entries\":[[\"invert_yaxis\",false],[\"autorange\",false]]}],\"start\":-867.9000000000001,\"end\":9558.9,\"reset_start\":-867.9000000000001,\"reset_end\":9558.9}},\"x_scale\":{\"type\":\"object\",\"name\":\"LinearScale\",\"id\":\"p1361\"},\"y_scale\":{\"type\":\"object\",\"name\":\"LinearScale\",\"id\":\"p1362\"},\"title\":{\"type\":\"object\",\"name\":\"Title\",\"id\":\"p1354\",\"attributes\":{\"text_color\":\"black\",\"text_font_size\":\"12pt\"}},\"renderers\":[{\"type\":\"object\",\"name\":\"GlyphRenderer\",\"id\":\"p1403\",\"attributes\":{\"data_source\":{\"type\":\"object\",\"name\":\"ColumnDataSource\",\"id\":\"p1394\",\"attributes\":{\"selected\":{\"type\":\"object\",\"name\":\"Selection\",\"id\":\"p1395\",\"attributes\":{\"indices\":[],\"line_indices\":[]}},\"selection_policy\":{\"type\":\"object\",\"name\":\"UnionRenderers\",\"id\":\"p1396\"},\"data\":{\"type\":\"map\",\"entries\":[[\"month\",{\"type\":\"ndarray\",\"array\":{\"type\":\"bytes\",\"data\":\"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\"},\"shape\":[328],\"dtype\":\"float64\",\"order\":\"little\"}],[\"n_edits\",{\"type\":\"ndarray\",\"array\":{\"type\":\"bytes\",\"data\":\"AQAAAAEAAAACAAAAAgAAACgAAAAoAAAABgAAAAYAAAAjAAAAIwAAAC4AAAAuAAAABgAAAAYAAAAFAAAABQAAAAEAAAABAAAAAQAAAAEAAAATAAAAEwAAAAYAAAAGAAAAAQAAAAEAAAARAAAAEQAAAAsAAAALAAAAQgAAAEIAAACtAAAArQAAAM0AAADNAAAAJAAAACQAAAApAAAAKQAAADYAAAA2AAAAvgAAAL4AAAABAAAAAQAAAAMAAAADAAAADQAAAA0AAAAXAAAAFwAAAA0AAAANAAAA5gAAAOYAAAC8AQAAvAEAADYBAAA2AQAAQAIAAEACAAAdAgAAHQIAAAwAAAAMAAAANwAAADcAAAA6AAAAOgAAACYQAAAmEAAAaAAAAGgAAABDAQAAQwEAAEUAAABFAAAA1AAAANQAAADZAwAA2QMAABgBAAAYAQAAQwEAAEMBAAAEAQAABAEAALYAAAC2AAAA4AAAAOAAAABDAQAAQwEAANAAAADQAAAAUwEAAFMBAAAoAQAAKAEAAM4BAADOAQAA0gEAANIBAAB5BAAAeQQAABsBAAAbAQAAegAAAHoAAABpAQAAaQEAAFgAAABYAAAAYQAAAGEAAACOAAAAjgAAAAYBAAAGAQAAwwAAAMMAAADDAAAAwwAAAN4AAADeAAAA4wAAAOMAAADBAAAAwQAAAL4AAAC+AAAAtQAAALUAAAB4AAAAeAAAAJ4AAACeAAAAgQAAAIEAAADhAAAA4QAAAJsAAACbAAAAZgAAAGYAAACVAAAAlQAAAMwAAADMAAAA3AAAANwAAAAaAAAAGgAAACIAAAAiAAAANAAAADQAAAAWAAAAFgAAAAECAAABAgAAWgIAAFoCAAAhAAAAIQAAAMUAAADFAAAA4AMAAOADAAABAwAAAQMAABMBAAATAQAA5QEAAOUBAACBAQAAgQEAAOwBAADsAQAAQgEAAEIBAADUAAAA1AAAAJcCAACXAgAAuQIAALkCAABLAAAASwAAAHkAAAB5AAAA7QAAAO0AAAAyAwAAMgMAALcAAAC3AAAA/AIAAPwCAABbAQAAWwEAAFoBAABaAQAATgAAAE4AAABXAAAAVwAAAF8CAABfAgAAJwIAACcCAAA0AAAANAAAAB8AAAAfAAAAWAAAAFgAAABMAAAATAAAAFAAAABQAAAAWAAAAFgAAACXAAAAlwAAAMEAAADBAAAAwQIAAMECAABgAgAAYAIAAMMCAADDAgAAxAIAAMQCAAAoAgAAKAIAAOkBAADpAQAAugEAALoBAAAoAQAAKAEAAA0BAAANAQAACAEAAAgBAAANAQAADQEAAOsAAADrAAAA+AIAAPgCAABvAAAAbwAAAFICAABSAgAA+QEAAPkBAAD/AAAA/wAAAMsAAADLAAAAowEAAKMBAABQAgAAUAIAAGMDAABjAwAACAEAAAgBAADgAQAA4AEAAG8CAABvAgAAYAIAAGACAADOAAAAzgAAAIMKAACDCgAAMwIAADMCAABfAwAAXwMAAIQCAACEAgAAfAsAAHwLAAAnAgAAJwIAAFUBAABVAQAAbQIAAG0CAAAmBgAAJgYAAAEDAAABAwAAtwIAALcCAACpAQAAqQEAAFIBAABSAQAAuwIAALsCAABpBwAAaQcAAE4DAABOAwAAEQEAABEBAAAMAQAADAEAAIYBAACGAQAA9AAAAPQAAABjAgAAYwIAAD0BAAA9AQAA8iEAAPIhAADqBgAA6gYAAA==\"},\"shape\":[328],\"dtype\":\"int32\",\"order\":\"little\"}]]}}},\"view\":{\"type\":\"object\",\"name\":\"CDSView\",\"id\":\"p1404\",\"attributes\":{\"filter\":{\"type\":\"object\",\"name\":\"AllIndices\",\"id\":\"p1405\"}}},\"glyph\":{\"type\":\"object\",\"name\":\"Line\",\"id\":\"p1400\",\"attributes\":{\"tags\":[\"apply_ranges\"],\"x\":{\"type\":\"field\",\"field\":\"month\"},\"y\":{\"type\":\"field\",\"field\":\"n_edits\"},\"line_color\":\"#30a2da\",\"line_width\":2}},\"selection_glyph\":{\"type\":\"object\",\"name\":\"Line\",\"id\":\"p1406\",\"attributes\":{\"tags\":[\"apply_ranges\"],\"x\":{\"type\":\"field\",\"field\":\"month\"},\"y\":{\"type\":\"field\",\"field\":\"n_edits\"},\"line_color\":\"#30a2da\",\"line_width\":2}},\"nonselection_glyph\":{\"type\":\"object\",\"name\":\"Line\",\"id\":\"p1401\",\"attributes\":{\"tags\":[\"apply_ranges\"],\"x\":{\"type\":\"field\",\"field\":\"month\"},\"y\":{\"type\":\"field\",\"field\":\"n_edits\"},\"line_color\":\"#30a2da\",\"line_alpha\":0.1,\"line_width\":2}},\"muted_glyph\":{\"type\":\"object\",\"name\":\"Line\",\"id\":\"p1402\",\"attributes\":{\"tags\":[\"apply_ranges\"],\"x\":{\"type\":\"field\",\"field\":\"month\"},\"y\":{\"type\":\"field\",\"field\":\"n_edits\"},\"line_color\":\"#30a2da\",\"line_alpha\":0.2,\"line_width\":2}}}}],\"toolbar\":{\"type\":\"object\",\"name\":\"Toolbar\",\"id\":\"p1360\",\"attributes\":{\"tools\":[{\"type\":\"object\",\"name\":\"WheelZoomTool\",\"id\":\"p1349\",\"attributes\":{\"tags\":[\"hv_created\"],\"renderers\":\"auto\",\"zoom_together\":\"none\"}},{\"type\":\"object\",\"name\":\"HoverTool\",\"id\":\"p1350\",\"attributes\":{\"tags\":[\"hv_created\"],\"renderers\":[{\"id\":\"p1403\"}],\"tooltips\":[[\"month\",\"@{month}{%F %T}\"],[\"n_edits\",\"@{n_edits}\"]],\"formatters\":{\"type\":\"map\",\"entries\":[[\"@{month}\",\"datetime\"]]}}},{\"type\":\"object\",\"name\":\"SaveTool\",\"id\":\"p1385\"},{\"type\":\"object\",\"name\":\"PanTool\",\"id\":\"p1386\"},{\"type\":\"object\",\"name\":\"BoxZoomTool\",\"id\":\"p1387\",\"attributes\":{\"overlay\":{\"type\":\"object\",\"name\":\"BoxAnnotation\",\"id\":\"p1388\",\"attributes\":{\"syncable\":false,\"level\":\"overlay\",\"visible\":false,\"left\":{\"type\":\"number\",\"value\":\"nan\"},\"right\":{\"type\":\"number\",\"value\":\"nan\"},\"top\":{\"type\":\"number\",\"value\":\"nan\"},\"bottom\":{\"type\":\"number\",\"value\":\"nan\"},\"left_units\":\"canvas\",\"right_units\":\"canvas\",\"top_units\":\"canvas\",\"bottom_units\":\"canvas\",\"line_color\":\"black\",\"line_alpha\":1.0,\"line_width\":2,\"line_dash\":[4,4],\"fill_color\":\"lightgrey\",\"fill_alpha\":0.5}}}},{\"type\":\"object\",\"name\":\"ResetTool\",\"id\":\"p1393\"}],\"active_drag\":{\"id\":\"p1386\"},\"active_scroll\":{\"id\":\"p1349\"}}},\"left\":[{\"type\":\"object\",\"name\":\"LinearAxis\",\"id\":\"p1380\",\"attributes\":{\"ticker\":{\"type\":\"object\",\"name\":\"BasicTicker\",\"id\":\"p1381\",\"attributes\":{\"mantissas\":[1,2,5]}},\"formatter\":{\"type\":\"object\",\"name\":\"BasicTickFormatter\",\"id\":\"p1382\"},\"axis_label\":\"n_edits\",\"major_label_policy\":{\"type\":\"object\",\"name\":\"AllLabels\",\"id\":\"p1383\"}}}],\"below\":[{\"type\":\"object\",\"name\":\"DatetimeAxis\",\"id\":\"p1363\",\"attributes\":{\"ticker\":{\"type\":\"object\",\"name\":\"DatetimeTicker\",\"id\":\"p1364\",\"attributes\":{\"num_minor_ticks\":5,\"tickers\":[{\"type\":\"object\",\"name\":\"AdaptiveTicker\",\"id\":\"p1365\",\"attributes\":{\"num_minor_ticks\":0,\"mantissas\":[1,2,5],\"max_interval\":500.0}},{\"type\":\"object\",\"name\":\"AdaptiveTicker\",\"id\":\"p1366\",\"attributes\":{\"num_minor_ticks\":0,\"base\":60,\"mantissas\":[1,2,5,10,15,20,30],\"min_interval\":1000.0,\"max_interval\":1800000.0}},{\"type\":\"object\",\"name\":\"AdaptiveTicker\",\"id\":\"p1367\",\"attributes\":{\"num_minor_ticks\":0,\"base\":24,\"mantissas\":[1,2,4,6,8,12],\"min_interval\":3600000.0,\"max_interval\":43200000.0}},{\"type\":\"object\",\"name\":\"DaysTicker\",\"id\":\"p1368\",\"attributes\":{\"days\":[1,2,3,4,5,6,7,8,9,10,11,12,13,14,15,16,17,18,19,20,21,22,23,24,25,26,27,28,29,30,31]}},{\"type\":\"object\",\"name\":\"DaysTicker\",\"id\":\"p1369\",\"attributes\":{\"days\":[1,4,7,10,13,16,19,22,25,28]}},{\"type\":\"object\",\"name\":\"DaysTicker\",\"id\":\"p1370\",\"attributes\":{\"days\":[1,8,15,22]}},{\"type\":\"object\",\"name\":\"DaysTicker\",\"id\":\"p1371\",\"attributes\":{\"days\":[1,15]}},{\"type\":\"object\",\"name\":\"MonthsTicker\",\"id\":\"p1372\",\"attributes\":{\"months\":[0,1,2,3,4,5,6,7,8,9,10,11]}},{\"type\":\"object\",\"name\":\"MonthsTicker\",\"id\":\"p1373\",\"attributes\":{\"months\":[0,2,4,6,8,10]}},{\"type\":\"object\",\"name\":\"MonthsTicker\",\"id\":\"p1374\",\"attributes\":{\"months\":[0,4,8]}},{\"type\":\"object\",\"name\":\"MonthsTicker\",\"id\":\"p1375\",\"attributes\":{\"months\":[0,6]}},{\"type\":\"object\",\"name\":\"YearsTicker\",\"id\":\"p1376\"}]}},\"formatter\":{\"type\":\"object\",\"name\":\"DatetimeTickFormatter\",\"id\":\"p1377\"},\"axis_label\":\"month\",\"major_label_policy\":{\"type\":\"object\",\"name\":\"AllLabels\",\"id\":\"p1378\"}}}],\"center\":[{\"type\":\"object\",\"name\":\"Grid\",\"id\":\"p1379\",\"attributes\":{\"axis\":{\"id\":\"p1363\"},\"grid_line_color\":null}},{\"type\":\"object\",\"name\":\"Grid\",\"id\":\"p1384\",\"attributes\":{\"dimension\":1,\"axis\":{\"id\":\"p1380\"},\"grid_line_color\":null}}],\"min_border_top\":10,\"min_border_bottom\":10,\"min_border_left\":10,\"min_border_right\":10,\"output_backend\":\"webgl\"}},{\"type\":\"object\",\"name\":\"Spacer\",\"id\":\"p1408\",\"attributes\":{\"name\":\"HSpacer01651\",\"stylesheets\":[\"\\n:host(.pn-loading):before, .pn-loading:before {\\n  background-color: #c3c3c3;\\n  mask-size: auto calc(min(50%, 400px));\\n  -webkit-mask-size: auto calc(min(50%, 400px));\\n}\",{\"id\":\"p1342\"},{\"id\":\"p1340\"},{\"id\":\"p1341\"}],\"margin\":0,\"sizing_mode\":\"stretch_width\",\"align\":\"start\"}}]}}],\"defs\":[{\"type\":\"model\",\"name\":\"ReactiveHTML1\"},{\"type\":\"model\",\"name\":\"FlexBox1\",\"properties\":[{\"name\":\"align_content\",\"kind\":\"Any\",\"default\":\"flex-start\"},{\"name\":\"align_items\",\"kind\":\"Any\",\"default\":\"flex-start\"},{\"name\":\"flex_direction\",\"kind\":\"Any\",\"default\":\"row\"},{\"name\":\"flex_wrap\",\"kind\":\"Any\",\"default\":\"wrap\"},{\"name\":\"gap\",\"kind\":\"Any\",\"default\":\"\"},{\"name\":\"justify_content\",\"kind\":\"Any\",\"default\":\"flex-start\"}]},{\"type\":\"model\",\"name\":\"FloatPanel1\",\"properties\":[{\"name\":\"config\",\"kind\":\"Any\",\"default\":{\"type\":\"map\"}},{\"name\":\"contained\",\"kind\":\"Any\",\"default\":true},{\"name\":\"position\",\"kind\":\"Any\",\"default\":\"right-top\"},{\"name\":\"offsetx\",\"kind\":\"Any\",\"default\":null},{\"name\":\"offsety\",\"kind\":\"Any\",\"default\":null},{\"name\":\"theme\",\"kind\":\"Any\",\"default\":\"primary\"},{\"name\":\"status\",\"kind\":\"Any\",\"default\":\"normalized\"}]},{\"type\":\"model\",\"name\":\"GridStack1\",\"properties\":[{\"name\":\"mode\",\"kind\":\"Any\",\"default\":\"warn\"},{\"name\":\"ncols\",\"kind\":\"Any\",\"default\":null},{\"name\":\"nrows\",\"kind\":\"Any\",\"default\":null},{\"name\":\"allow_resize\",\"kind\":\"Any\",\"default\":true},{\"name\":\"allow_drag\",\"kind\":\"Any\",\"default\":true},{\"name\":\"state\",\"kind\":\"Any\",\"default\":[]}]},{\"type\":\"model\",\"name\":\"drag1\",\"properties\":[{\"name\":\"slider_width\",\"kind\":\"Any\",\"default\":5},{\"name\":\"slider_color\",\"kind\":\"Any\",\"default\":\"black\"},{\"name\":\"value\",\"kind\":\"Any\",\"default\":50}]},{\"type\":\"model\",\"name\":\"click1\",\"properties\":[{\"name\":\"terminal_output\",\"kind\":\"Any\",\"default\":\"\"},{\"name\":\"debug_name\",\"kind\":\"Any\",\"default\":\"\"},{\"name\":\"clears\",\"kind\":\"Any\",\"default\":0}]},{\"type\":\"model\",\"name\":\"FastWrapper1\",\"properties\":[{\"name\":\"object\",\"kind\":\"Any\",\"default\":null},{\"name\":\"style\",\"kind\":\"Any\",\"default\":null}]},{\"type\":\"model\",\"name\":\"NotificationAreaBase1\",\"properties\":[{\"name\":\"js_events\",\"kind\":\"Any\",\"default\":{\"type\":\"map\"}},{\"name\":\"position\",\"kind\":\"Any\",\"default\":\"bottom-right\"},{\"name\":\"_clear\",\"kind\":\"Any\",\"default\":0}]},{\"type\":\"model\",\"name\":\"NotificationArea1\",\"properties\":[{\"name\":\"js_events\",\"kind\":\"Any\",\"default\":{\"type\":\"map\"}},{\"name\":\"notifications\",\"kind\":\"Any\",\"default\":[]},{\"name\":\"position\",\"kind\":\"Any\",\"default\":\"bottom-right\"},{\"name\":\"_clear\",\"kind\":\"Any\",\"default\":0},{\"name\":\"types\",\"kind\":\"Any\",\"default\":[{\"type\":\"map\",\"entries\":[[\"type\",\"warning\"],[\"background\",\"#ffc107\"],[\"icon\",{\"type\":\"map\",\"entries\":[[\"className\",\"fas fa-exclamation-triangle\"],[\"tagName\",\"i\"],[\"color\",\"white\"]]}]]},{\"type\":\"map\",\"entries\":[[\"type\",\"info\"],[\"background\",\"#007bff\"],[\"icon\",{\"type\":\"map\",\"entries\":[[\"className\",\"fas fa-info-circle\"],[\"tagName\",\"i\"],[\"color\",\"white\"]]}]]}]}]},{\"type\":\"model\",\"name\":\"Notification\",\"properties\":[{\"name\":\"background\",\"kind\":\"Any\",\"default\":null},{\"name\":\"duration\",\"kind\":\"Any\",\"default\":3000},{\"name\":\"icon\",\"kind\":\"Any\",\"default\":null},{\"name\":\"message\",\"kind\":\"Any\",\"default\":\"\"},{\"name\":\"notification_type\",\"kind\":\"Any\",\"default\":null},{\"name\":\"_destroyed\",\"kind\":\"Any\",\"default\":false}]},{\"type\":\"model\",\"name\":\"TemplateActions1\",\"properties\":[{\"name\":\"open_modal\",\"kind\":\"Any\",\"default\":0},{\"name\":\"close_modal\",\"kind\":\"Any\",\"default\":0}]},{\"type\":\"model\",\"name\":\"BootstrapTemplateActions1\",\"properties\":[{\"name\":\"open_modal\",\"kind\":\"Any\",\"default\":0},{\"name\":\"close_modal\",\"kind\":\"Any\",\"default\":0}]},{\"type\":\"model\",\"name\":\"TemplateEditor1\",\"properties\":[{\"name\":\"layout\",\"kind\":\"Any\",\"default\":[]}]},{\"type\":\"model\",\"name\":\"MaterialTemplateActions1\",\"properties\":[{\"name\":\"open_modal\",\"kind\":\"Any\",\"default\":0},{\"name\":\"close_modal\",\"kind\":\"Any\",\"default\":0}]},{\"type\":\"model\",\"name\":\"copy_to_clipboard1\",\"properties\":[{\"name\":\"fill\",\"kind\":\"Any\",\"default\":\"none\"},{\"name\":\"value\",\"kind\":\"Any\",\"default\":null}]}]}};\n",
       "  var render_items = [{\"docid\":\"73cc10c0-0a4d-46ce-a7d1-2db98fb47d59\",\"roots\":{\"p1339\":\"e7186b7f-1b97-453b-9a0e-60267c11e088\"},\"root_ids\":[\"p1339\"]}];\n",
       "  var docs = Object.values(docs_json)\n",
       "  if (!docs) {\n",
       "    return\n",
       "  }\n",
       "  const py_version = docs[0].version.replace('rc', '-rc.').replace('.dev', '-dev.')\n",
       "  async function embed_document(root) {\n",
       "    var Bokeh = get_bokeh(root)\n",
       "    await Bokeh.embed.embed_items_notebook(docs_json, render_items);\n",
       "    for (const render_item of render_items) {\n",
       "      for (const root_id of render_item.root_ids) {\n",
       "\tconst id_el = document.getElementById(root_id)\n",
       "\tif (id_el.children.length && id_el.children[0].hasAttribute('data-root-id')) {\n",
       "\t  const root_el = id_el.children[0]\n",
       "\t  root_el.id = root_el.id + '-rendered'\n",
       "\t  for (const child of root_el.children) {\n",
       "            // Ensure JupyterLab does not capture keyboard shortcuts\n",
       "            // see: https://jupyterlab.readthedocs.io/en/4.1.x/extension/notebook.html#keyboard-interaction-model\n",
       "\t    child.setAttribute('data-lm-suppress-shortcuts', 'true')\n",
       "\t  }\n",
       "\t}\n",
       "      }\n",
       "    }\n",
       "  }\n",
       "  function get_bokeh(root) {\n",
       "    if (root.Bokeh === undefined) {\n",
       "      return null\n",
       "    } else if (root.Bokeh.version !== py_version) {\n",
       "      if (root.Bokeh.versions === undefined || !root.Bokeh.versions.has(py_version)) {\n",
       "\treturn null\n",
       "      }\n",
       "      return root.Bokeh.versions.get(py_version);\n",
       "    } else if (root.Bokeh.version === py_version) {\n",
       "      return root.Bokeh\n",
       "    }\n",
       "    return null\n",
       "  }\n",
       "  function is_loaded(root) {\n",
       "    var Bokeh = get_bokeh(root)\n",
       "    return (Bokeh != null && Bokeh.Panel !== undefined)\n",
       "  }\n",
       "  if (is_loaded(root)) {\n",
       "    embed_document(root);\n",
       "  } else {\n",
       "    var attempts = 0;\n",
       "    var timer = setInterval(function(root) {\n",
       "      if (is_loaded(root)) {\n",
       "        clearInterval(timer);\n",
       "        embed_document(root);\n",
       "      } else if (document.readyState == \"complete\") {\n",
       "        attempts++;\n",
       "        if (attempts > 200) {\n",
       "          clearInterval(timer);\n",
       "\t  var Bokeh = get_bokeh(root)\n",
       "\t  if (Bokeh == null || Bokeh.Panel == null) {\n",
       "            console.warn(\"Panel: ERROR: Unable to run Panel code because Bokeh or Panel library is missing\");\n",
       "\t  } else {\n",
       "\t    console.warn(\"Panel: WARNING: Attempting to render but not all required libraries could be resolved.\")\n",
       "\t    embed_document(root)\n",
       "\t  }\n",
       "        }\n",
       "      }\n",
       "    }, 25, root)\n",
       "  }\n",
       "})(window);</script>"
      ],
      "text/plain": [
       ":Curve   [month]   (n_edits)"
      ]
     },
     "execution_count": 39,
     "metadata": {
      "application/vnd.holoviews_exec.v0+json": {
       "id": "p1339"
      }
     },
     "output_type": "execute_result"
    }
   ],
   "source": [
    "import polars as pl\n",
    "\n",
    "chart_query = \"\"\"\n",
    "SELECT\n",
    "    date_trunc('month', valid_from) as month,\n",
    "    count(*) as n_edits\n",
    "    FROM osm_data\n",
    "    GROUP BY month\n",
    "    ORDER BY month\n",
    "\"\"\"\n",
    "\n",
    "df = con.sql(chart_query).pl()\n",
    "df.plot.step(\n",
    "    x=\"month\",\n",
    "    y=\"n_edits\"\n",
    ")"
   ]
  },
  {
   "cell_type": "markdown",
   "id": "d01df2fe0eea7c06",
   "metadata": {},
   "source": [
    "## Display currentness of OSM features on map\n",
    "Get data from DucDKB into GeoPandas dataframe.\n"
   ]
  },
  {
   "cell_type": "code",
   "execution_count": 40,
   "id": "9550233a-592f-4d4c-9d97-f334bdd503d2",
   "metadata": {},
   "outputs": [],
   "source": [
    "import geopandas as gpd\n",
    "\n",
    "map_query = \"\"\"\n",
    "    SELECT\n",
    "        epoch_ms(valid_from) as valid_from,\n",
    "        geometry\n",
    "    FROM osm_data;\n",
    "\"\"\"\n",
    "\n",
    "df = con.sql(map_query).df()\n",
    "\n",
    "# convert the data to geodata\n",
    "gdf = gpd.GeoDataFrame(\n",
    "    df,\n",
    "    geometry=gpd.GeoSeries.from_wkt(df['geometry'])\n",
    ").set_crs('epsg:4326')"
   ]
  },
  {
   "cell_type": "markdown",
   "id": "5210192e-6497-458b-8da0-12683f865cc1",
   "metadata": {},
   "source": [
    "Define map parameters and style."
   ]
  },
  {
   "cell_type": "code",
   "execution_count": 44,
   "id": "6d5bf28a-a70c-4cc6-8633-8dad9d36a744",
   "metadata": {},
   "outputs": [],
   "source": [
    "import datetime\n",
    "import lonboard\n",
    "import ipywidgets\n",
    "from palettable.matplotlib import Viridis_20\n",
    "\n",
    "\n",
    "# compute lonboard color style for contious color map\n",
    "min_valid_from = 1000 * datetime.datetime(2007,1,1).timestamp()\n",
    "max_valid_from = 1000 * datetime.datetime(2024,6,1).timestamp()\n",
    "\n",
    "# normalized color values from 0 to 1\n",
    "valid_from_style = gdf[\"valid_from\"].apply(\n",
    "    lambda x: (x - min_valid_from) / (max_valid_from - min_valid_from))\n",
    "\n",
    "\n",
    "# the lonboard map definition\n",
    "layer = lonboard.SolidPolygonLayer.from_geopandas(\n",
    "    gdf,\n",
    "    extensions=[lonboard.layer_extension.DataFilterExtension(filter_size=1)],\n",
    "    get_filter_value=gdf[\"valid_from\"],  # replace with desired column\n",
    "    filter_range=[min_valid_from, max_valid_from],  # replace with desired filter range\n",
    "    get_fill_color=lonboard.colormap.apply_continuous_cmap(valid_from_style, Viridis_20, alpha=1)\n",
    "\n",
    ")\n",
    "\n",
    "currentness_map = lonboard.Map(\n",
    "    basemap_style=lonboard.basemap.CartoBasemap.DarkMatter,\n",
    "    layers=[layer]\n",
    ")"
   ]
  },
  {
   "cell_type": "markdown",
   "id": "eb992d0f-1fd1-49b0-ada7-ee5960f0e0f1",
   "metadata": {},
   "source": [
    "Define Dates Slider Selection Widget and link to map filter range."
   ]
  },
  {
   "cell_type": "code",
   "execution_count": 45,
   "id": "95b75d40-3a35-40a3-b215-6e673892af7e",
   "metadata": {},
   "outputs": [
    {
     "data": {
      "text/plain": [
       "<traitlets.traitlets.directional_link at 0x7bc5655c7bf0>"
      ]
     },
     "execution_count": 45,
     "metadata": {},
     "output_type": "execute_result"
    }
   ],
   "source": [
    "from datetime import date, timedelta\n",
    "from traitlets import directional_link\n",
    "\n",
    "start = datetime.datetime(2007,1,1)\n",
    "end = datetime.datetime(2024,6,1)\n",
    "delta = end - start   # returns timedelta\n",
    "dates = [start + timedelta(days=i) for i in range(delta.days + 1)]\n",
    "options = [(i.strftime('%d-%b-%Y'), int(1000* i.timestamp())) for i in dates]\n",
    "\n",
    "date_slider = ipywidgets.SelectionRangeSlider(\n",
    "    options=options,\n",
    "    index=(0, len(dates)-1),\n",
    "    description='Last Edit:',\n",
    "    layout=ipywidgets.Layout(width='1000px'),\n",
    "    disabled=False\n",
    ")\n",
    "\n",
    "directional_link(\n",
    "    (date_slider, 'value'),\n",
    "    (layer, \"filter_range\"),\n",
    "    #(slider, 'value')\n",
    ")"
   ]
  },
  {
   "cell_type": "markdown",
   "id": "a1d9503c-c51f-42d0-8215-992eeacf9084",
   "metadata": {},
   "source": [
    "Display the map. Have fun exploring and moving around the time slider!"
   ]
  },
  {
   "cell_type": "code",
   "execution_count": 46,
   "id": "d79e15a5-d969-4fb6-a548-06d147334c1b",
   "metadata": {},
   "outputs": [
    {
     "data": {
      "application/vnd.jupyter.widget-view+json": {
       "model_id": "19a33f99ecee4754aa85ac48901146b6",
       "version_major": 2,
       "version_minor": 1
      },
      "text/plain": [
       "Map(basemap_style=<CartoBasemap.DarkMatter: 'https://basemaps.cartocdn.com/gl/dark-matter-gl-style/style.json'…"
      ]
     },
     "metadata": {},
     "output_type": "display_data"
    },
    {
     "data": {
      "application/vnd.jupyter.widget-view+json": {
       "model_id": "ec0102dce3e8497c89ee322ad9ded45f",
       "version_major": 2,
       "version_minor": 0
      },
      "text/plain": [
       "SelectionRangeSlider(description='Last Edit:', index=(0, 6361), layout=Layout(width='1000px'), options=(('01-J…"
      ]
     },
     "metadata": {},
     "output_type": "display_data"
    }
   ],
   "source": [
    "display(currentness_map, date_slider)"
   ]
  }
 ],
 "metadata": {
  "kernelspec": {
   "display_name": "Python 3 (ipykernel)",
   "language": "python",
   "name": "python3"
  },
  "language_info": {
   "codemirror_mode": {
    "name": "ipython",
    "version": 3
   },
   "file_extension": ".py",
   "mimetype": "text/x-python",
   "name": "python",
   "nbconvert_exporter": "python",
   "pygments_lexer": "ipython3",
   "version": "3.12.3"
  }
 },
 "nbformat": 4,
 "nbformat_minor": 5
}
