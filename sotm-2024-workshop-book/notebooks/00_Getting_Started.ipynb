{
 "cells": [
  {
   "cell_type": "code",
   "execution_count": 1,
   "id": "9682aa64-27d7-4b95-98e4-cb49b5a0c4c6",
   "metadata": {},
   "outputs": [],
   "source": [
    "import os\n",
    "import duckdb\n",
    "\n",
    "con = duckdb.connect(\n",
    "    config={\n",
    "        'threads': 32,\n",
    "        'max_memory': '50GB',\n",
    "    }\n",
    ")\n",
    "con.install_extension(\"spatial\")\n",
    "con.load_extension(\"spatial\")"
   ]
  },
  {
   "cell_type": "code",
   "execution_count": 2,
   "id": "c3c9bc77-45da-4c7e-8ec5-1276c5bf92f6",
   "metadata": {},
   "outputs": [],
   "source": [
    "s3_user = os.environ[\"S3_ACCESS_KEY_ID\"]  # add your user here\n",
    "s3_password = os.environ[\"S3_SECRET_ACCESS_KEY\"]  # add your password here"
   ]
  },
  {
   "cell_type": "markdown",
   "id": "e1589972-7ef6-4a21-9bca-9b5f5303faa3",
   "metadata": {},
   "source": [
    "## Connect to MinIO Object Storage"
   ]
  },
  {
   "cell_type": "code",
   "execution_count": 3,
   "id": "289148f3-be4f-4650-946e-6e50e85dbc82",
   "metadata": {},
   "outputs": [
    {
     "name": "stdout",
     "output_type": "stream",
     "text": [
      "┌─────────┐\n",
      "│ Success │\n",
      "│ boolean │\n",
      "├─────────┤\n",
      "│ true    │\n",
      "└─────────┘\n",
      "\n"
     ]
    }
   ],
   "source": [
    "query = f\"\"\"\n",
    "DROP SECRET IF EXISTS \"__default_s3\";\n",
    "CREATE SECRET (\n",
    "      TYPE S3,\n",
    "      KEY_ID '{s3_user}',\n",
    "      SECRET '{s3_password}',\n",
    "      REGION 'eu-central-1',\n",
    "      endpoint 'sotm2024.minio.heigit.org',\n",
    "      use_ssl true,\n",
    "      url_style 'path'\n",
    "  );\n",
    "\"\"\"\n",
    "con.sql(query).show()"
   ]
  },
  {
   "cell_type": "code",
   "execution_count": null,
   "id": "edc5c4a3-8ee8-40fd-b27d-055c2642fab6",
   "metadata": {},
   "outputs": [],
   "source": []
  }
 ],
 "metadata": {
  "kernelspec": {
   "display_name": "Python 3 (ipykernel)",
   "language": "python",
   "name": "python3"
  },
  "language_info": {
   "codemirror_mode": {
    "name": "ipython",
    "version": 3
   },
   "file_extension": ".py",
   "mimetype": "text/x-python",
   "name": "python",
   "nbconvert_exporter": "python",
   "pygments_lexer": "ipython3",
   "version": "3.12.3"
  }
 },
 "nbformat": 4,
 "nbformat_minor": 5
}
