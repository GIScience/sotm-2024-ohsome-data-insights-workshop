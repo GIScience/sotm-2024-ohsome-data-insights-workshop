{
 "cells": [
  {
   "cell_type": "markdown",
   "id": "4883fea5-bd05-4af4-ba4d-4aaffa7b8bdb",
   "metadata": {},
   "source": [
    "# YouthMappers HOT Tasking Manager project analysis\n",
    "In this notebook we demonstrate how to combine two datasets: HOT Tasking Manager project data and OSM contributions.\n",
    "\n",
    "We want to investigate all contributions that have been made in OSM via HOT's Tasking Manager. We will furthermore filter these contributions by using the **OSM Changeset** information.\n",
    "\n",
    "These are the steps you see further down:\n",
    "* Set the connection parameters.\n",
    "* Prepare your input parameters, e.g. define HOT Tasking Manager project ID.\n",
    "* Download data using DuckDB. This time we also download HOT project data.\n",
    "* Filter OSM contributions using changeset attributes.\n",
    "* Display both datasets on a map."
   ]
  },
  {
   "cell_type": "markdown",
   "id": "e1f3f905-3bea-40ba-b986-952783ac9a85",
   "metadata": {},
   "source": [
    "## Getting started\n",
    "Set connection params."
   ]
  },
  {
   "cell_type": "code",
   "execution_count": 1,
   "id": "9c08ddfe-f347-4b71-b050-94f5a7b898cb",
   "metadata": {},
   "outputs": [
    {
     "data": {
      "text/plain": [
       "True"
      ]
     },
     "execution_count": 1,
     "metadata": {},
     "output_type": "execute_result"
    }
   ],
   "source": [
    "from dotenv import load_dotenv\n",
    "load_dotenv()"
   ]
  },
  {
   "cell_type": "code",
   "execution_count": 2,
   "id": "9a59cafb-f25b-4c89-a16b-84f6cf56f01c",
   "metadata": {},
   "outputs": [],
   "source": [
    "import os\n",
    "\n",
    "s3_user = os.environ[\"S3_ACCESS_KEY_ID\"]  # add your user here\n",
    "s3_password = os.environ[\"S3_SECRET_ACCESS_KEY\"]  # add your password here"
   ]
  },
  {
   "cell_type": "markdown",
   "id": "12ea8d06-22f1-450f-8dd6-07d586b3474e",
   "metadata": {},
   "source": [
    "Configure DuckDB."
   ]
  },
  {
   "cell_type": "code",
   "execution_count": null,
   "id": "70afcb51-f86a-4c16-8e91-9ca85fb8927c",
   "metadata": {},
   "outputs": [],
   "source": [
    "!pip install duckdb==1.0.0"
   ]
  },
  {
   "cell_type": "code",
   "execution_count": 3,
   "id": "ffbc947a-5c8a-48d9-be29-37ed5e164edf",
   "metadata": {},
   "outputs": [],
   "source": [
    "import duckdb\n",
    "\n",
    "con = duckdb.connect(\n",
    "    config={\n",
    "        'threads': 32,\n",
    "        'max_memory': '50GB',\n",
    "        # 'enable_object_cache': True\n",
    "    }\n",
    ")\n",
    "con.install_extension(\"spatial\")\n",
    "con.load_extension(\"spatial\")"
   ]
  },
  {
   "cell_type": "markdown",
   "id": "60ac368b-04b1-4ee9-8ecb-ccaf008f2db4",
   "metadata": {},
   "source": [
    "Set the connection params to Iceberg Rest Catalog. (We need this for the OSM data.)"
   ]
  },
  {
   "cell_type": "code",
   "execution_count": 4,
   "id": "5c114d03-44bf-4f0d-be28-fc4be2908903",
   "metadata": {},
   "outputs": [],
   "source": [
    "from pyiceberg.catalog.rest import RestCatalog\n",
    "\n",
    "catalog = RestCatalog(\n",
    "    name=\"default\",\n",
    "    **{\n",
    "        \"uri\": \"https://sotm2024.iceberg.ohsome.org\",\n",
    "        \"s3.endpoint\": \"https://sotm2024.minio.heigit.org\",\n",
    "        \"py-io-impl\": \"pyiceberg.io.pyarrow.PyArrowFileIO\",\n",
    "        \"s3.access-key-id\": s3_user,\n",
    "        \"s3.secret-access-key\": s3_password,\n",
    "        \"s3.region\": \"eu-central-1\"\n",
    "    }\n",
    ")"
   ]
  },
  {
   "cell_type": "markdown",
   "id": "2fac105d-c1eb-43fd-8187-017575848f54",
   "metadata": {},
   "source": [
    "Set connection to MinIO object storage. (We need this for HOT Tasking Manager data)"
   ]
  },
  {
   "cell_type": "code",
   "execution_count": 5,
   "id": "aa7c0a7e-e8f0-447b-bdff-04eefdb1a840",
   "metadata": {},
   "outputs": [
    {
     "name": "stdout",
     "output_type": "stream",
     "text": [
      "┌─────────┐\n",
      "│ Success │\n",
      "│ boolean │\n",
      "├─────────┤\n",
      "│ true    │\n",
      "└─────────┘\n",
      "\n"
     ]
    }
   ],
   "source": [
    "query = f\"\"\"\n",
    "DROP SECRET IF EXISTS \"__default_s3\";\n",
    "CREATE SECRET (\n",
    "      TYPE S3,\n",
    "      KEY_ID '{s3_user}',\n",
    "      SECRET '{s3_password}',\n",
    "      REGION 'eu-central-1',\n",
    "      endpoint 'sotm2024.minio.heigit.org',\n",
    "      use_ssl true,\n",
    "      url_style 'path'\n",
    "  );\n",
    "\"\"\"\n",
    "con.sql(query).show()"
   ]
  },
  {
   "cell_type": "markdown",
   "id": "c4a85ce3-0798-4d49-acd2-9b056ad47d9e",
   "metadata": {},
   "source": [
    "## Prepare the input parameters for your analysis"
   ]
  },
  {
   "cell_type": "code",
   "execution_count": 6,
   "id": "b0228089-e9cf-4c27-8e31-189da7696563",
   "metadata": {},
   "outputs": [],
   "source": [
    "\n",
    "# Set iceberg table\n",
    "namespace = 'geo_sort'\n",
    "tablename = 'contributions'\n",
    "icebergtable = catalog.load_table((namespace, tablename))\n",
    "\n",
    "hot_tm_project_ids = [\n",
    "    13582,\n",
    "    16369,\n",
    "    16512,\n",
    "    13046,\n",
    "    12975,\n",
    "    12761,\n",
    "    12760,\n",
    "    12707,\n",
    "    12661,\n",
    "    15996\n",
    "]\n",
    "\n",
    "teach_osm_project_ids = [\n",
    "    1450,\n",
    "    1457,\n",
    "    1247,\n",
    "    1525,\n",
    "    1502,\n",
    "    1470,\n",
    "    1595,\n",
    "    1488\n",
    "]"
   ]
  },
  {
   "cell_type": "markdown",
   "id": "51735253-fa2f-4157-bb0e-c4e2d940106e",
   "metadata": {},
   "source": [
    "## Get Information about HOT Tasking Manager project"
   ]
  },
  {
   "cell_type": "code",
   "execution_count": 7,
   "id": "bf188254-007a-4619-b0db-2cdf7bc2ccac",
   "metadata": {},
   "outputs": [],
   "source": [
    "import geopandas as gpd\n",
    "\n",
    "def get_hot_tm_project_info(project_id):\n",
    "    hot_tm_parquet_data_path = \"s3a://heigit-ohsome-sotm24/data/hot_tasking_manager/**\"\n",
    "    \n",
    "    query = f\"\"\"\n",
    "    SELECT *\n",
    "    FROM read_parquet('{hot_tm_parquet_data_path}') a\n",
    "    WHERE project_id = {project_id};\n",
    "    \"\"\"\n",
    "    df = con.sql(query).df()\n",
    "    \n",
    "    bbox = df[\"bbox\"].values[0]\n",
    "    \n",
    "    # convert the data to geodata\n",
    "    gdf = gpd.GeoDataFrame(\n",
    "        df,\n",
    "        geometry=gpd.GeoSeries.from_wkt(df['geometry'])\n",
    "    ).set_crs('epsg:4326')\n",
    "\n",
    "    return gdf, bbox"
   ]
  },
  {
   "cell_type": "markdown",
   "id": "5e77aa44-cd72-4706-bb88-3123662725cc",
   "metadata": {},
   "source": [
    "Display where the project is located."
   ]
  },
  {
   "cell_type": "markdown",
   "id": "0ce9e670-b716-48c6-985b-f0799478169c",
   "metadata": {},
   "source": [
    "## Get Teach OSM project info"
   ]
  },
  {
   "cell_type": "code",
   "execution_count": 25,
   "id": "a7dece86-fce2-469f-b1d4-27ebefe48aac",
   "metadata": {},
   "outputs": [],
   "source": [
    "def get_teach_osm_tm_project_info(project_id):\n",
    "\n",
    "    url = f\"https://tasking-manager-tm4-teachosm-api.hotosm.org/api/v2/projects/{project_id}/queries/aoi/\"\n",
    "    gdf = gpd.read_file(url)\n",
    "    bbox = {\n",
    "        \"xmin\": gdf.bounds[\"minx\"][0],\n",
    "        \"xmax\": gdf.bounds[\"maxx\"][0],\n",
    "        \"ymin\": gdf.bounds[\"miny\"][0],\n",
    "        \"ymax\": gdf.bounds[\"maxy\"][0] \n",
    "    }\n",
    "    return gdf, bbox"
   ]
  },
  {
   "cell_type": "markdown",
   "id": "46e7a9ac-4d0c-4f7b-a9a1-984be5f2fc5a",
   "metadata": {},
   "source": [
    "## Download data OSM Data"
   ]
  },
  {
   "cell_type": "code",
   "execution_count": 9,
   "id": "1da08bb8-97a7-42ab-8515-54915db1407d",
   "metadata": {},
   "outputs": [],
   "source": [
    "import time\n",
    "\n",
    "\n",
    "def download_osm_data(bbox):\n",
    "    start_time = time.time()\n",
    "    osm_data = icebergtable.scan(\n",
    "        row_filter=(\n",
    "            f\"( status = 'latest' or status = 'history' )\"\n",
    "            f\"and (xmax >= {bbox['xmin']} and xmin <= {bbox['xmax']}) \"\n",
    "            f\"and (ymax >= {bbox['ymin']} and ymin <= {bbox['ymax']}) \"\n",
    "        ),\n",
    "        selected_fields=(\n",
    "            \"user_id\",\n",
    "            \"osm_id\",\n",
    "            \"osm_version\",\n",
    "            \"valid_from\",\n",
    "            \"valid_to\",\n",
    "            \"tags\",\n",
    "            \"tags_before\",\n",
    "            \"changeset\",\n",
    "            \"geometry\",\n",
    "        ),\n",
    "    )\n",
    "    \n",
    "    download_time = round(time.time() - start_time, 3)\n",
    "    print(f\"iceberg scan took {download_time} sec.\")\n",
    "\n",
    "    return osm_data"
   ]
  },
  {
   "cell_type": "markdown",
   "id": "66d2ea11-df31-492a-aa29-b4c70b457af6",
   "metadata": {},
   "source": [
    "## Save as parquet files"
   ]
  },
  {
   "cell_type": "code",
   "execution_count": 10,
   "id": "5c3dca30-f2b9-43e6-9df8-a6f1ebf649f6",
   "metadata": {},
   "outputs": [],
   "source": [
    "def save_as_parquet(osm_data, outfile_name):\n",
    "    start_time = time.time()\n",
    "    \n",
    "    osm_data.to_duckdb('raw_osm_data',connection=con)\n",
    "\n",
    "    query = f\"\"\"\n",
    "    COPY \n",
    "    (\n",
    "    SELECT * FROM raw_osm_data\n",
    "    ) TO '{outfile_name}' WITH (\n",
    "        FORMAT PARQUET,\n",
    "        COMPRESSION ZSTD\n",
    "    )\n",
    "    \"\"\"\n",
    "\n",
    "    con.sql(query)\n",
    "    download_time = round(time.time() - start_time, 3)\n",
    "    print(f\"download took {download_time} sec.\")"
   ]
  },
  {
   "cell_type": "markdown",
   "id": "5c14b1e6-78cf-42fe-816d-2a2ca7a259a4",
   "metadata": {},
   "source": [
    "## Loop throug all projects"
   ]
  },
  {
   "cell_type": "code",
   "execution_count": 22,
   "id": "3af38cf8-4966-40e2-8879-b4a6cab83e8a",
   "metadata": {
    "scrolled": true
   },
   "outputs": [
    {
     "name": "stdout",
     "output_type": "stream",
     "text": [
      "start for hot tm project: 13582\n",
      "iceberg scan took 0.108 sec.\n",
      "download took 38.379 sec.\n",
      "finish for hot tm project: 13582\n",
      "start for hot tm project: 16369\n",
      "iceberg scan took 0.007 sec.\n",
      "download took 31.071 sec.\n",
      "finish for hot tm project: 16369\n",
      "start for hot tm project: 16512\n",
      "iceberg scan took 0.007 sec.\n",
      "download took 37.277 sec.\n",
      "finish for hot tm project: 16512\n",
      "start for hot tm project: 13046\n"
     ]
    },
    {
     "data": {
      "application/vnd.jupyter.widget-view+json": {
       "model_id": "2cd15ee6b51e48369bddba1eaf5be1e5",
       "version_major": 2,
       "version_minor": 0
      },
      "text/plain": [
       "FloatProgress(value=0.0, layout=Layout(width='auto'), style=ProgressStyle(bar_color='black'))"
      ]
     },
     "metadata": {},
     "output_type": "display_data"
    },
    {
     "name": "stdout",
     "output_type": "stream",
     "text": [
      "iceberg scan took 0.007 sec.\n",
      "download took 43.53 sec.\n",
      "finish for hot tm project: 13046\n",
      "start for hot tm project: 12975\n",
      "iceberg scan took 0.095 sec.\n"
     ]
    },
    {
     "data": {
      "application/vnd.jupyter.widget-view+json": {
       "model_id": "0f2dee6b27e0434cb9bb8d73253d89b0",
       "version_major": 2,
       "version_minor": 0
      },
      "text/plain": [
       "FloatProgress(value=0.0, layout=Layout(width='auto'), style=ProgressStyle(bar_color='black'))"
      ]
     },
     "metadata": {},
     "output_type": "display_data"
    },
    {
     "name": "stdout",
     "output_type": "stream",
     "text": [
      "download took 36.747 sec.\n",
      "finish for hot tm project: 12975\n",
      "start for hot tm project: 12761\n",
      "iceberg scan took 0.007 sec.\n"
     ]
    },
    {
     "data": {
      "application/vnd.jupyter.widget-view+json": {
       "model_id": "72250dc7264d427986a0be871738c986",
       "version_major": 2,
       "version_minor": 0
      },
      "text/plain": [
       "FloatProgress(value=0.0, layout=Layout(width='auto'), style=ProgressStyle(bar_color='black'))"
      ]
     },
     "metadata": {},
     "output_type": "display_data"
    },
    {
     "name": "stdout",
     "output_type": "stream",
     "text": [
      "download took 39.712 sec.\n",
      "finish for hot tm project: 12761\n",
      "start for hot tm project: 12760\n",
      "iceberg scan took 0.008 sec.\n"
     ]
    },
    {
     "data": {
      "application/vnd.jupyter.widget-view+json": {
       "model_id": "fc750f4200ac4c9bacc317fdfcb6fff6",
       "version_major": 2,
       "version_minor": 0
      },
      "text/plain": [
       "FloatProgress(value=0.0, layout=Layout(width='auto'), style=ProgressStyle(bar_color='black'))"
      ]
     },
     "metadata": {},
     "output_type": "display_data"
    },
    {
     "name": "stdout",
     "output_type": "stream",
     "text": [
      "download took 41.552 sec.\n",
      "finish for hot tm project: 12760\n",
      "start for hot tm project: 12707\n",
      "iceberg scan took 0.01 sec.\n"
     ]
    },
    {
     "data": {
      "application/vnd.jupyter.widget-view+json": {
       "model_id": "8cc3a665020b45a1954d9a50252a3768",
       "version_major": 2,
       "version_minor": 0
      },
      "text/plain": [
       "FloatProgress(value=0.0, layout=Layout(width='auto'), style=ProgressStyle(bar_color='black'))"
      ]
     },
     "metadata": {},
     "output_type": "display_data"
    },
    {
     "name": "stdout",
     "output_type": "stream",
     "text": [
      "download took 39.172 sec.\n",
      "finish for hot tm project: 12707\n",
      "start for hot tm project: 12661\n",
      "iceberg scan took 0.007 sec.\n",
      "download took 39.669 sec.\n",
      "finish for hot tm project: 12661\n",
      "start for hot tm project: 15996\n",
      "iceberg scan took 0.093 sec.\n"
     ]
    },
    {
     "data": {
      "application/vnd.jupyter.widget-view+json": {
       "model_id": "2bef267252774c5aa9f7de66f22f7c9d",
       "version_major": 2,
       "version_minor": 0
      },
      "text/plain": [
       "FloatProgress(value=0.0, layout=Layout(width='auto'), style=ProgressStyle(bar_color='black'))"
      ]
     },
     "metadata": {},
     "output_type": "display_data"
    },
    {
     "name": "stdout",
     "output_type": "stream",
     "text": [
      "download took 39.217 sec.\n",
      "finish for hot tm project: 15996\n"
     ]
    }
   ],
   "source": [
    "for project_id in hot_tm_project_ids:\n",
    "    print(f\"start for hot tm project: {project_id}\")\n",
    "    gdf, bbox = get_hot_tm_project_info(project_id)\n",
    "    osm_data = download_osm_data(bbox)\n",
    "\n",
    "    outfile = f\"s3a://heigit-ohsome-sotm24/data/youthmappers/hot_tm_project_contributions_{project_id}.parquet\"\n",
    "    save_as_parquet(osm_data, outfile)\n",
    "    \n",
    "    print(f\"finish for hot tm project: {project_id}\")"
   ]
  },
  {
   "cell_type": "markdown",
   "id": "619bdd65-e480-4c58-b54b-bdc4fa1b7268",
   "metadata": {},
   "source": [
    "## Teach OSM projects"
   ]
  },
  {
   "cell_type": "code",
   "execution_count": 27,
   "id": "0d1e3c4d-275b-4855-a0e0-305e52c5157c",
   "metadata": {},
   "outputs": [
    {
     "name": "stdout",
     "output_type": "stream",
     "text": [
      "start for hot tm project: 1450\n",
      "iceberg scan took 0.142 sec.\n",
      "download took 26.949 sec.\n",
      "finish for teach osm tm project: 1450\n",
      "start for hot tm project: 1457\n",
      "iceberg scan took 0.007 sec.\n",
      "download took 24.674 sec.\n",
      "finish for teach osm tm project: 1457\n",
      "start for hot tm project: 1247\n",
      "iceberg scan took 0.016 sec.\n",
      "download took 39.18 sec.\n",
      "finish for teach osm tm project: 1247\n",
      "start for hot tm project: 1525\n",
      "iceberg scan took 0.017 sec.\n"
     ]
    },
    {
     "data": {
      "application/vnd.jupyter.widget-view+json": {
       "model_id": "f5f6e2231aa644e7a58f905106268c7c",
       "version_major": 2,
       "version_minor": 0
      },
      "text/plain": [
       "FloatProgress(value=0.0, layout=Layout(width='auto'), style=ProgressStyle(bar_color='black'))"
      ]
     },
     "metadata": {},
     "output_type": "display_data"
    },
    {
     "name": "stdout",
     "output_type": "stream",
     "text": [
      "download took 38.336 sec.\n",
      "finish for teach osm tm project: 1525\n",
      "start for hot tm project: 1502\n",
      "iceberg scan took 0.016 sec.\n",
      "download took 41.367 sec.\n",
      "finish for teach osm tm project: 1502\n",
      "start for hot tm project: 1470\n",
      "iceberg scan took 0.007 sec.\n"
     ]
    },
    {
     "data": {
      "application/vnd.jupyter.widget-view+json": {
       "model_id": "3a814def6cd248d787f13fe75e75a3ca",
       "version_major": 2,
       "version_minor": 0
      },
      "text/plain": [
       "FloatProgress(value=0.0, layout=Layout(width='auto'), style=ProgressStyle(bar_color='black'))"
      ]
     },
     "metadata": {},
     "output_type": "display_data"
    },
    {
     "name": "stdout",
     "output_type": "stream",
     "text": [
      "download took 38.616 sec.\n",
      "finish for teach osm tm project: 1470\n",
      "start for hot tm project: 1595\n",
      "iceberg scan took 0.007 sec.\n"
     ]
    },
    {
     "data": {
      "application/vnd.jupyter.widget-view+json": {
       "model_id": "bc24c206819a4ddd91e85ef7bf4589ee",
       "version_major": 2,
       "version_minor": 0
      },
      "text/plain": [
       "FloatProgress(value=0.0, layout=Layout(width='auto'), style=ProgressStyle(bar_color='black'))"
      ]
     },
     "metadata": {},
     "output_type": "display_data"
    },
    {
     "name": "stdout",
     "output_type": "stream",
     "text": [
      "download took 40.785 sec.\n",
      "finish for teach osm tm project: 1595\n",
      "start for hot tm project: 1488\n",
      "iceberg scan took 0.012 sec.\n"
     ]
    },
    {
     "data": {
      "application/vnd.jupyter.widget-view+json": {
       "model_id": "e2949972867141c1a91d96fffbbcf6a7",
       "version_major": 2,
       "version_minor": 0
      },
      "text/plain": [
       "FloatProgress(value=0.0, layout=Layout(width='auto'), style=ProgressStyle(bar_color='black'))"
      ]
     },
     "metadata": {},
     "output_type": "display_data"
    },
    {
     "name": "stdout",
     "output_type": "stream",
     "text": [
      "download took 42.5 sec.\n",
      "finish for teach osm tm project: 1488\n"
     ]
    }
   ],
   "source": [
    "for project_id in teach_osm_project_ids:\n",
    "    print(f\"start for hot tm project: {project_id}\")\n",
    "    gdf, bbox = get_teach_osm_tm_project_info(project_id)\n",
    "    osm_data = download_osm_data(bbox)\n",
    "    \n",
    "    outfile = f\"s3a://heigit-ohsome-sotm24/data/youthmappers/teach_osm_tm_project_contributions_{project_id}.parquet\"\n",
    "    save_as_parquet(osm_data, outfile)\n",
    "    \n",
    "    print(f\"finish for teach osm tm project: {project_id}\")"
   ]
  },
  {
   "cell_type": "code",
   "execution_count": null,
   "id": "f1aa293a-4056-43a1-a139-637d6ffeb7b5",
   "metadata": {},
   "outputs": [],
   "source": []
  }
 ],
 "metadata": {
  "kernelspec": {
   "display_name": "Python 3 (ipykernel)",
   "language": "python",
   "name": "python3"
  },
  "language_info": {
   "codemirror_mode": {
    "name": "ipython",
    "version": 3
   },
   "file_extension": ".py",
   "mimetype": "text/x-python",
   "name": "python",
   "nbconvert_exporter": "python",
   "pygments_lexer": "ipython3",
   "version": "3.12.3"
  }
 },
 "nbformat": 4,
 "nbformat_minor": 5
}
