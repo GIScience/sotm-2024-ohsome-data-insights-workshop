{
 "cells": [
  {
   "cell_type": "markdown",
   "id": "3c1d3bd8-2d15-4699-afb6-0fb2a20d9921",
   "metadata": {},
   "source": [
    "# Completeness of OSM building data"
   ]
  },
  {
   "cell_type": "markdown",
   "id": "4b10fd63-2f4d-4279-b4e5-b28ff4de2275",
   "metadata": {},
   "source": [
    "In this notebook, we demonstrate how to analyze the completeness of OSM building data for different study areas across the globe. \n",
    "\n",
    "The task can be done by only using data provided by the [Overture Maps Foundation](https://overturemaps.org/), a collaborative initiative to gather  geodata and provide open and global map data. The building data on Overture containes data of OpenStreetMaps, as well as other sources. We can use the labeled data to compare the OSM building data in Overture with data of other sources and get the completness of OSM building data.\n",
    "\n",
    "The notebook contains following steps:\n",
    "\n",
    "* Importing necessary libraries\n",
    "* Create bounding boxes\n",
    "* Downloading data from Overture Maps\n",
    "* Data processing\n",
    "* Visualizing the results"
   ]
  },
  {
   "cell_type": "markdown",
   "id": "48cbfd9b-4ee2-4943-9280-996fbc44f063",
   "metadata": {},
   "source": [
    "## Import packages\n",
    "For handling the data we use the database system duckdb. Feel free to use the database management system you feel most confortable with. Please make sure that your chosen system supports the Structured Query Language (SQL)."
   ]
  },
  {
   "cell_type": "code",
   "execution_count": 1,
   "id": "5f90d824-f2af-4241-8f56-facf894ed92b",
   "metadata": {},
   "outputs": [],
   "source": [
    "import duckdb\n",
    "import pandas as pd\n",
    "import geopandas as gpd\n",
    "import time\n",
    "import matplotlib.pyplot as plt"
   ]
  },
  {
   "cell_type": "markdown",
   "id": "85f26c51-011d-4364-b1ea-f1df5428ba47",
   "metadata": {},
   "source": [
    "## Create bounding boxes\n",
    "With this method, you can check the completeness from any given area you are interested in. You only need to provide the coordinates of your area of interest as a bounding box. Here we have set a list of multiple bounding boxes of different cities as an example. Please note that downloading all the data of the example bounding boxes can last a few minutes. To speed the process up, you can adjust the bounding box list and shrink down the area of interest or put your own bounding box."
   ]
  },
  {
   "cell_type": "code",
   "execution_count": 2,
   "id": "14abb63f-aecd-42a9-a94e-3ac67facf3d6",
   "metadata": {},
   "outputs": [],
   "source": [
    "bboxes = {    \n",
    "    'Berlin': (13.088345,52.338271,13.761161,52.675509),\n",
    "    'Kathmandu': (85.188235,27.5701,85.565959,27.818056),\n",
    "    'Vienna': (16.181831, 48.117907, 16.577513, 48.322668),\n",
    "    'Nairobi': (36.650938,-1.444471,37.103887,-1.163522),\n",
    "    'Rio_de_Janeiro':(-43.796252,-23.082705,-43.099081,-22.746088)\n",
    "}"
   ]
  },
  {
   "cell_type": "markdown",
   "id": "8acb6a02-199b-4d75-964e-d61464e48d5d",
   "metadata": {},
   "source": [
    "## Downloading data from Overture Maps\n",
    "Configuring DuckDB"
   ]
  },
  {
   "cell_type": "code",
   "execution_count": 3,
   "id": "d20574fc-bee1-4eb0-99df-f7e54fa11b87",
   "metadata": {},
   "outputs": [],
   "source": [
    "con = duckdb.connect(\n",
    "    config={\n",
    "        'threads': 8,\n",
    "        'max_memory': '8GB',\n",
    "    }\n",
    ")"
   ]
  },
  {
   "cell_type": "markdown",
   "id": "2b392afc-21de-45c6-a30b-ef90c7ea5c50",
   "metadata": {},
   "source": [
    "This function is downloading building data from Overture Maps for the defined study areas using DuckDB. "
   ]
  },
  {
   "cell_type": "code",
   "execution_count": 4,
   "id": "c3586591-87b9-428a-8907-09d378dc45ba",
   "metadata": {},
   "outputs": [],
   "source": [
    "def overture_download(region_name, xmin, ymin, xmax, ymax):\n",
    "\n",
    "    query = f\"\"\"\n",
    "    SET s3_region='us-west-2';\n",
    "\n",
    "    CREATE OR REPLACE TABLE buildings_Overture_{region_name} AS\n",
    "        (SELECT \n",
    "            id, \n",
    "            bbox,\n",
    "            sources, \n",
    "            geometry\n",
    "        FROM read_parquet('s3://overturemaps-us-west-2/release/2024-11-13.0/theme=buildings/type=building/*', filename=true, hive_partitioning=1)\n",
    "        WHERE bbox.xmin > {xmin}\n",
    "        AND bbox.ymin > {ymin}\n",
    "        AND bbox.xmax < {xmax}\n",
    "        AND bbox.ymax < {ymax}\n",
    "        );\n",
    "    \"\"\"\n",
    "    con.sql(query)\n",
    "\n",
    "    print(f\"Overture download completed for {region_name}\")\n",
    "    print(\"\\n\")\n"
   ]
  },
  {
   "cell_type": "markdown",
   "id": "68253645-5ff5-43c1-9a57-b74cecf5ac75",
   "metadata": {},
   "source": [
    "The download function is called and we define the study areas as our bounding box list. This step of downloading can last a few minutes."
   ]
  },
  {
   "cell_type": "code",
   "execution_count": 5,
   "id": "187563a7-c2cb-41fb-bf48-77f301cd6916",
   "metadata": {},
   "outputs": [
    {
     "data": {
      "application/vnd.jupyter.widget-view+json": {
       "model_id": "ac3260665a67413c8176974f58c01eb0",
       "version_major": 2,
       "version_minor": 0
      },
      "text/plain": [
       "FloatProgress(value=0.0, layout=Layout(width='auto'), style=ProgressStyle(bar_color='black'))"
      ]
     },
     "metadata": {},
     "output_type": "display_data"
    },
    {
     "name": "stdout",
     "output_type": "stream",
     "text": [
      "Overture download completed for Berlin\n",
      "\n",
      "\n"
     ]
    },
    {
     "data": {
      "application/vnd.jupyter.widget-view+json": {
       "model_id": "8759259bdd634ad6be91748d33f3d635",
       "version_major": 2,
       "version_minor": 0
      },
      "text/plain": [
       "FloatProgress(value=0.0, layout=Layout(width='auto'), style=ProgressStyle(bar_color='black'))"
      ]
     },
     "metadata": {},
     "output_type": "display_data"
    },
    {
     "name": "stdout",
     "output_type": "stream",
     "text": [
      "Overture download completed for Kathmandu\n",
      "\n",
      "\n"
     ]
    },
    {
     "data": {
      "application/vnd.jupyter.widget-view+json": {
       "model_id": "54f7cb85545a4b3e8cb1439932b2e18d",
       "version_major": 2,
       "version_minor": 0
      },
      "text/plain": [
       "FloatProgress(value=0.0, layout=Layout(width='auto'), style=ProgressStyle(bar_color='black'))"
      ]
     },
     "metadata": {},
     "output_type": "display_data"
    },
    {
     "name": "stdout",
     "output_type": "stream",
     "text": [
      "Overture download completed for Vienna\n",
      "\n",
      "\n"
     ]
    },
    {
     "data": {
      "application/vnd.jupyter.widget-view+json": {
       "model_id": "5fb507754e97410ebb88c9213f0702de",
       "version_major": 2,
       "version_minor": 0
      },
      "text/plain": [
       "FloatProgress(value=0.0, layout=Layout(width='auto'), style=ProgressStyle(bar_color='black'))"
      ]
     },
     "metadata": {},
     "output_type": "display_data"
    },
    {
     "name": "stdout",
     "output_type": "stream",
     "text": [
      "Overture download completed for Nairobi\n",
      "\n",
      "\n"
     ]
    },
    {
     "data": {
      "application/vnd.jupyter.widget-view+json": {
       "model_id": "376e06018d9b49528502a6f502944a4c",
       "version_major": 2,
       "version_minor": 0
      },
      "text/plain": [
       "FloatProgress(value=0.0, layout=Layout(width='auto'), style=ProgressStyle(bar_color='black'))"
      ]
     },
     "metadata": {},
     "output_type": "display_data"
    },
    {
     "name": "stdout",
     "output_type": "stream",
     "text": [
      "Overture download completed for Rio_de_Janeiro\n",
      "\n",
      "\n"
     ]
    }
   ],
   "source": [
    "for region_name, value in bboxes.items():\n",
    "    xmin, ymin, xmax, ymax = bboxes[region_name]\n",
    "    overture_download(region_name, xmin, ymin, xmax, ymax)"
   ]
  },
  {
   "cell_type": "markdown",
   "id": "f055f552-2e6a-4c7b-b2b6-470b945c4aa9",
   "metadata": {},
   "source": [
    "## Data processing\n",
    "We first make sure that the data download was successful and contains all the regions of the bounding box list."
   ]
  },
  {
   "cell_type": "code",
   "execution_count": 6,
   "id": "4c1bca04-0966-465c-894d-355a02039b1a",
   "metadata": {},
   "outputs": [
    {
     "name": "stdout",
     "output_type": "stream",
     "text": [
      "┌───────────────────────────────────┐\n",
      "│               name                │\n",
      "│              varchar              │\n",
      "├───────────────────────────────────┤\n",
      "│ buildings_Overture_Berlin         │\n",
      "│ buildings_Overture_Kathmandu      │\n",
      "│ buildings_Overture_Nairobi        │\n",
      "│ buildings_Overture_Rio_de_Janeiro │\n",
      "│ buildings_Overture_Vienna         │\n",
      "└───────────────────────────────────┘\n",
      "\n"
     ]
    }
   ],
   "source": [
    "query = f\"\"\"\n",
    "show tables \n",
    "\"\"\"\n",
    "con.sql(query).show()"
   ]
  },
  {
   "cell_type": "markdown",
   "id": "d6b8709f-c4b5-42f0-bb0b-199c014867c4",
   "metadata": {},
   "source": [
    "A loop is employed to run over all created tables and give back the number of buildings with OpenStreetMap as source, buildings with other source and the percentage of OSM building of the total count. Those numbers are saved in a data frame."
   ]
  },
  {
   "cell_type": "code",
   "execution_count": 7,
   "id": "c05d06b4-bed1-4057-b962-25a6d7c5c356",
   "metadata": {},
   "outputs": [
    {
     "data": {
      "text/html": [
       "<div>\n",
       "<style scoped>\n",
       "    .dataframe tbody tr th:only-of-type {\n",
       "        vertical-align: middle;\n",
       "    }\n",
       "\n",
       "    .dataframe tbody tr th {\n",
       "        vertical-align: top;\n",
       "    }\n",
       "\n",
       "    .dataframe thead th {\n",
       "        text-align: right;\n",
       "    }\n",
       "</style>\n",
       "<table border=\"1\" class=\"dataframe\">\n",
       "  <thead>\n",
       "    <tr style=\"text-align: right;\">\n",
       "      <th></th>\n",
       "      <th>Region</th>\n",
       "      <th>OSM</th>\n",
       "      <th>Other Sources</th>\n",
       "      <th>Total Count</th>\n",
       "      <th>OSM Completeness</th>\n",
       "    </tr>\n",
       "  </thead>\n",
       "  <tbody>\n",
       "    <tr>\n",
       "      <th>0</th>\n",
       "      <td>Berlin</td>\n",
       "      <td>706122</td>\n",
       "      <td>185767</td>\n",
       "      <td>891889</td>\n",
       "      <td>0.79</td>\n",
       "    </tr>\n",
       "    <tr>\n",
       "      <th>1</th>\n",
       "      <td>Kathmandu</td>\n",
       "      <td>494058</td>\n",
       "      <td>419939</td>\n",
       "      <td>913997</td>\n",
       "      <td>0.54</td>\n",
       "    </tr>\n",
       "    <tr>\n",
       "      <th>2</th>\n",
       "      <td>Vienna</td>\n",
       "      <td>295496</td>\n",
       "      <td>15974</td>\n",
       "      <td>311470</td>\n",
       "      <td>0.95</td>\n",
       "    </tr>\n",
       "    <tr>\n",
       "      <th>3</th>\n",
       "      <td>Nairobi</td>\n",
       "      <td>535583</td>\n",
       "      <td>782270</td>\n",
       "      <td>1317853</td>\n",
       "      <td>0.41</td>\n",
       "    </tr>\n",
       "    <tr>\n",
       "      <th>4</th>\n",
       "      <td>Rio_de_Janeiro</td>\n",
       "      <td>322461</td>\n",
       "      <td>1769997</td>\n",
       "      <td>2092458</td>\n",
       "      <td>0.15</td>\n",
       "    </tr>\n",
       "  </tbody>\n",
       "</table>\n",
       "</div>"
      ],
      "text/plain": [
       "           Region     OSM  Other Sources  Total Count  OSM Completeness\n",
       "0          Berlin  706122         185767       891889              0.79\n",
       "1       Kathmandu  494058         419939       913997              0.54\n",
       "2          Vienna  295496          15974       311470              0.95\n",
       "3         Nairobi  535583         782270      1317853              0.41\n",
       "4  Rio_de_Janeiro  322461        1769997      2092458              0.15"
      ]
     },
     "metadata": {},
     "output_type": "display_data"
    }
   ],
   "source": [
    "results = []\n",
    "\n",
    "for region_name in bboxes.keys():\n",
    "    query = f\"\"\"\n",
    "    SELECT \n",
    "        '{region_name}' AS region, \n",
    "        SUM(CASE\n",
    "            WHEN sources[1]['dataset'] = 'OpenStreetMap' THEN 1\n",
    "            ELSE 0\n",
    "        END) AS osm_count,\n",
    "  \n",
    "        SUM(CASE\n",
    "            WHEN sources[1]['dataset'] != 'OpenStreetMap' THEN 1\n",
    "            ELSE 0\n",
    "        END) AS other_count,\n",
    "        \n",
    "        COUNT(*) AS total_count,\n",
    "        ROUND((osm_count * 1.0 / total_count), 2) AS osm_completeness \n",
    "    FROM buildings_Overture_{region_name}\n",
    "    \"\"\"\n",
    "\n",
    "    df = pd.DataFrame(\n",
    "        con.sql(query).fetchall(), \n",
    "        columns=['Region', 'OSM', 'Other Sources', 'Total Count', 'OSM Completeness']\n",
    "    )\n",
    "    \n",
    "    results.append(df)\n",
    "\n",
    "final_result = pd.concat(results, ignore_index=True)\n",
    "\n",
    "display(final_result)"
   ]
  },
  {
   "cell_type": "markdown",
   "id": "1fc6c44f-a691-4621-bccc-afa3bcf37fdd",
   "metadata": {},
   "source": [
    "## Visualize the completeness of OSM buildings\n",
    "### Visualize results with a standard bar chart\n",
    "The results can be visualized in different ways. We chose a bar chart to highlight how much the completeness of OSM building data can differ from region to region. "
   ]
  },
  {
   "cell_type": "code",
   "execution_count": 8,
   "id": "67d13ff5-d386-48c8-9e39-8138995a1489",
   "metadata": {},
   "outputs": [
    {
     "data": {
      "image/png": "[encoded data removed]",
      "text/plain": [
       "<Figure size 700x400 with 1 Axes>"
      ]
     },
     "metadata": {},
     "output_type": "display_data"
    }
   ],
   "source": [
    "sorted_results = final_result.sort_values(by='OSM Completeness', ascending=True)\n",
    "\n",
    "plt.figure(figsize=(7, 4)) \n",
    "\n",
    "bars = plt.barh(\n",
    "    sorted_results['Region'], \n",
    "    100*sorted_results['OSM Completeness'], \n",
    "    color='y'\n",
    ")\n",
    "\n",
    "plt.bar_label(\n",
    "    bars, \n",
    "    labels=[f'{x:.1f}%' for x in 100 * sorted_results['OSM Completeness']], \n",
    "    label_type='center',\n",
    "    color='grey'\n",
    ")\n",
    "\n",
    "plt.title('Completeness of OSM buildings')\n",
    "plt.xlabel('OSM Completeness in %')\n",
    "\n",
    "plt.xlim([0,100])\n",
    "\n",
    "plt.tight_layout()\n",
    "plt.show()"
   ]
  },
  {
   "cell_type": "markdown",
   "id": "c9dd3038",
   "metadata": {},
   "source": [
    "### Visualize results with a lonboard map\n",
    "The statistics and charts can give us overall numbers on the completeness, but we can access more detailed information by loading the results into a map. Here we have can see exacltly which buildings are included and which are missing in the OSM dataset.\n",
    "\n",
    "For loading the results in a map we use [lonboard](https://developmentseed.org/lonboard/latest/). We visualized the results of the city Berlin. Feel free to try it with your own area of interest.\n",
    "\n",
    "Herefore, we first need to access the spatial dimensions of our downloaded data, transfere it into a geodataframe and transform it to a suitable coordinate reference system."
   ]
  },
  {
   "cell_type": "code",
   "execution_count": 9,
   "id": "25d91599-f98b-41e2-8b30-dd8389b3eb02",
   "metadata": {},
   "outputs": [],
   "source": [
    "con.sql(\"INSTALL spatial;\")\n",
    "con.sql(\"LOAD spatial;\")"
   ]
  },
  {
   "cell_type": "markdown",
   "id": "0b7b9d37-5af1-4276-85a9-3e11239e8b7c",
   "metadata": {},
   "source": [
    "Calling the data from DuckDB."
   ]
  },
  {
   "cell_type": "code",
   "execution_count": 10,
   "id": "99bb464a-0548-46bc-a25e-0dfb813eacf6",
   "metadata": {},
   "outputs": [],
   "source": [
    "region_name = \"Berlin\"\n",
    "\n",
    "query = f\"\"\"\n",
    "SELECT \n",
    "    ST_AsText(ST_GeomFromWKB(geometry)) AS geometry,\n",
    "    sources[1]['dataset'] AS source\n",
    "FROM buildings_Overture_{region_name}\n",
    "\"\"\"\n",
    "df = con.sql(query).df()"
   ]
  },
  {
   "cell_type": "markdown",
   "id": "06b5ac9d-a65d-45ef-9651-010f68f39590",
   "metadata": {},
   "source": [
    "Setting up the geodataframe."
   ]
  },
  {
   "cell_type": "code",
   "execution_count": 11,
   "id": "7e473916-3171-418f-bfdd-873bf1796a61",
   "metadata": {},
   "outputs": [],
   "source": [
    "gdf = gpd.GeoDataFrame(\n",
    "    df,\n",
    "    geometry=gpd.GeoSeries.from_wkt(df['geometry'])\n",
    ").set_crs('epsg:4326')"
   ]
  },
  {
   "cell_type": "markdown",
   "id": "cf38d01d-12aa-41d1-8080-cf82c4a4e254",
   "metadata": {},
   "source": [
    "We want the colour codes shown in the map to be based on the source of the building data (OSM or other source). Here we convert the source into a cathegory."
   ]
  },
  {
   "cell_type": "code",
   "execution_count": 12,
   "id": "71f01f4d-4a59-4dfe-8a67-3c52359200d4",
   "metadata": {},
   "outputs": [],
   "source": [
    "gdf[\"source_codes\"] = 1\n",
    "gdf.loc[gdf['source'] == 'OpenStreetMap', 'source_codes'] = 0"
   ]
  },
  {
   "cell_type": "markdown",
   "id": "93c5b67a",
   "metadata": {},
   "source": [
    "Let's have a look at our geodataframe and the different the categories we have set up."
   ]
  },
  {
   "cell_type": "code",
   "execution_count": 18,
   "id": "f2d0941f",
   "metadata": {},
   "outputs": [
    {
     "data": {
      "text/html": [
       "<div>\n",
       "<style scoped>\n",
       "    .dataframe tbody tr th:only-of-type {\n",
       "        vertical-align: middle;\n",
       "    }\n",
       "\n",
       "    .dataframe tbody tr th {\n",
       "        vertical-align: top;\n",
       "    }\n",
       "\n",
       "    .dataframe thead th {\n",
       "        text-align: right;\n",
       "    }\n",
       "</style>\n",
       "<table border=\"1\" class=\"dataframe\">\n",
       "  <thead>\n",
       "    <tr style=\"text-align: right;\">\n",
       "      <th></th>\n",
       "      <th>geometry</th>\n",
       "      <th>source</th>\n",
       "      <th>source_codes</th>\n",
       "    </tr>\n",
       "  </thead>\n",
       "  <tbody>\n",
       "    <tr>\n",
       "      <th>0</th>\n",
       "      <td>POLYGON ((13.09111 52.33882, 13.0913 52.33875,...</td>\n",
       "      <td>OpenStreetMap</td>\n",
       "      <td>0</td>\n",
       "    </tr>\n",
       "    <tr>\n",
       "      <th>1</th>\n",
       "      <td>POLYGON ((13.09142 52.33869, 13.09138 52.3387,...</td>\n",
       "      <td>OpenStreetMap</td>\n",
       "      <td>0</td>\n",
       "    </tr>\n",
       "    <tr>\n",
       "      <th>2</th>\n",
       "      <td>POLYGON ((13.092 52.33853, 13.09195 52.33848, ...</td>\n",
       "      <td>OpenStreetMap</td>\n",
       "      <td>0</td>\n",
       "    </tr>\n",
       "    <tr>\n",
       "      <th>3</th>\n",
       "      <td>POLYGON ((13.09216 52.33845, 13.0921 52.33841,...</td>\n",
       "      <td>OpenStreetMap</td>\n",
       "      <td>0</td>\n",
       "    </tr>\n",
       "    <tr>\n",
       "      <th>4</th>\n",
       "      <td>POLYGON ((13.09165 52.33855, 13.09168 52.33858...</td>\n",
       "      <td>OpenStreetMap</td>\n",
       "      <td>0</td>\n",
       "    </tr>\n",
       "    <tr>\n",
       "      <th>...</th>\n",
       "      <td>...</td>\n",
       "      <td>...</td>\n",
       "      <td>...</td>\n",
       "    </tr>\n",
       "    <tr>\n",
       "      <th>891891</th>\n",
       "      <td>POLYGON ((13.72285 52.66864, 13.72285 52.6685,...</td>\n",
       "      <td>OpenStreetMap</td>\n",
       "      <td>0</td>\n",
       "    </tr>\n",
       "    <tr>\n",
       "      <th>891892</th>\n",
       "      <td>POLYGON ((13.74536 52.67531, 13.7453 52.67531,...</td>\n",
       "      <td>Microsoft ML Buildings</td>\n",
       "      <td>1</td>\n",
       "    </tr>\n",
       "    <tr>\n",
       "      <th>891893</th>\n",
       "      <td>POLYGON ((13.74532 52.67532, 13.74539 52.67531...</td>\n",
       "      <td>Microsoft ML Buildings</td>\n",
       "      <td>1</td>\n",
       "    </tr>\n",
       "    <tr>\n",
       "      <th>891894</th>\n",
       "      <td>POLYGON ((13.74539 52.67541, 13.74536 52.67538...</td>\n",
       "      <td>Microsoft ML Buildings</td>\n",
       "      <td>1</td>\n",
       "    </tr>\n",
       "    <tr>\n",
       "      <th>891895</th>\n",
       "      <td>POLYGON ((13.75248 52.67421, 13.75251 52.6742,...</td>\n",
       "      <td>Esri Community Maps</td>\n",
       "      <td>1</td>\n",
       "    </tr>\n",
       "  </tbody>\n",
       "</table>\n",
       "<p>891896 rows × 3 columns</p>\n",
       "</div>"
      ],
      "text/plain": [
       "                                                 geometry  \\\n",
       "0       POLYGON ((13.09111 52.33882, 13.0913 52.33875,...   \n",
       "1       POLYGON ((13.09142 52.33869, 13.09138 52.3387,...   \n",
       "2       POLYGON ((13.092 52.33853, 13.09195 52.33848, ...   \n",
       "3       POLYGON ((13.09216 52.33845, 13.0921 52.33841,...   \n",
       "4       POLYGON ((13.09165 52.33855, 13.09168 52.33858...   \n",
       "...                                                   ...   \n",
       "891891  POLYGON ((13.72285 52.66864, 13.72285 52.6685,...   \n",
       "891892  POLYGON ((13.74536 52.67531, 13.7453 52.67531,...   \n",
       "891893  POLYGON ((13.74532 52.67532, 13.74539 52.67531...   \n",
       "891894  POLYGON ((13.74539 52.67541, 13.74536 52.67538...   \n",
       "891895  POLYGON ((13.75248 52.67421, 13.75251 52.6742,...   \n",
       "\n",
       "                        source  source_codes  \n",
       "0                OpenStreetMap             0  \n",
       "1                OpenStreetMap             0  \n",
       "2                OpenStreetMap             0  \n",
       "3                OpenStreetMap             0  \n",
       "4                OpenStreetMap             0  \n",
       "...                        ...           ...  \n",
       "891891           OpenStreetMap             0  \n",
       "891892  Microsoft ML Buildings             1  \n",
       "891893  Microsoft ML Buildings             1  \n",
       "891894  Microsoft ML Buildings             1  \n",
       "891895     Esri Community Maps             1  \n",
       "\n",
       "[891896 rows x 3 columns]"
      ]
     },
     "metadata": {},
     "output_type": "display_data"
    },
    {
     "data": {
      "text/plain": [
       "array(['OpenStreetMap', 'Esri Community Maps', 'Microsoft ML Buildings'],\n",
       "      dtype=object)"
      ]
     },
     "metadata": {},
     "output_type": "display_data"
    }
   ],
   "source": [
    "display(gdf)\n",
    "display(gdf['source'].unique())"
   ]
  },
  {
   "cell_type": "markdown",
   "id": "6a0d0875-0d3e-40b2-891e-79f351c91343",
   "metadata": {},
   "source": [
    "Now we can define the lonboard map layout."
   ]
  },
  {
   "cell_type": "code",
   "execution_count": 14,
   "id": "71e7e49f-40f9-40f0-bae2-28bd6837ef64",
   "metadata": {},
   "outputs": [],
   "source": [
    "import lonboard\n",
    "\n",
    "# adjust color values\n",
    "source_colormap = {\n",
    "    0: [55, 126, 184, 255],\n",
    "    1: [152, 78, 163, 255]\n",
    "}\n",
    "\n",
    "colors = lonboard.colormap.apply_categorical_cmap(\n",
    "    gdf[\"source_codes\"],\n",
    "    source_colormap,\n",
    "    alpha=1\n",
    ")\n",
    "\n",
    "layer = lonboard.SolidPolygonLayer.from_geopandas(\n",
    "    gdf,\n",
    "    get_fill_color=colors,\n",
    "    extensions=[lonboard.layer_extension.DataFilterExtension(filter_size=1)],\n",
    "    get_filter_value=gdf[\"source_codes\"].astype('float'),  # Numerische Werte für den Filter\n",
    "    filter_range=[0.0, 1.0],\n",
    ")"
   ]
  },
  {
   "cell_type": "markdown",
   "id": "b1218621-3976-4470-93f8-3fb2c88f207a",
   "metadata": {},
   "source": [
    "Including toggle buttons"
   ]
  },
  {
   "cell_type": "code",
   "execution_count": 15,
   "id": "d4779ea1-1a90-44fb-9001-914038ea1088",
   "metadata": {},
   "outputs": [
    {
     "data": {
      "text/plain": [
       "<traitlets.traitlets.directional_link at 0x1bf722936d0>"
      ]
     },
     "execution_count": 15,
     "metadata": {},
     "output_type": "execute_result"
    }
   ],
   "source": [
    "import ipywidgets\n",
    "from traitlets import directional_link\n",
    "\n",
    "# define toogle button name and value\n",
    "group_options = [\n",
    "    (\"OpenStreetMap\", 0),\n",
    "    (\"Other\", 1)\n",
    "]\n",
    "\n",
    "source_toggle = ipywidgets.ToggleButtons(\n",
    "    options=group_options,\n",
    "    disabled=False,\n",
    ")\n",
    "\n",
    "directional_link(\n",
    "    (source_toggle, 'value'),\n",
    "    (layer, \"filter_range\"),\n",
    "    transform=lambda v: (v, v)\n",
    ")"
   ]
  },
  {
   "cell_type": "markdown",
   "id": "69cf6392-073b-4a2b-a960-3e42b739cac9",
   "metadata": {},
   "source": [
    "Let's have a look at our map, displaying OSM building data and missing building data. Soom into the map to get a more detailed depiction."
   ]
  },
  {
   "cell_type": "code",
   "execution_count": 19,
   "id": "2764161f-5617-4173-a58a-76ffb2962929",
   "metadata": {},
   "outputs": [
    {
     "data": {
      "application/vnd.jupyter.widget-view+json": {
       "model_id": "8c2446366c704e1a8051b3e5f4391fbc",
       "version_major": 2,
       "version_minor": 1
      },
      "text/plain": [
       "Map(basemap_style=<CartoBasemap.Positron: 'https://basemaps.cartocdn.com/gl/positron-gl-style/style.json'>, cu…"
      ]
     },
     "metadata": {},
     "output_type": "display_data"
    },
    {
     "data": {
      "application/vnd.jupyter.widget-view+json": {
       "model_id": "f61044963a4d459a8fdf1446b5eed86d",
       "version_major": 2,
       "version_minor": 0
      },
      "text/plain": [
       "ToggleButtons(options=(('OpenStreetMap', 0), ('Other', 1)), value=0)"
      ]
     },
     "metadata": {},
     "output_type": "display_data"
    }
   ],
   "source": [
    "building_map = lonboard.Map(\n",
    "    basemap_style=lonboard.basemap.CartoBasemap.Positron,\n",
    "    layers=[layer],\n",
    ")\n",
    "\n",
    "display(building_map, source_toggle)"
   ]
  },
  {
   "cell_type": "code",
   "execution_count": null,
   "id": "1bb86ed0",
   "metadata": {},
   "outputs": [],
   "source": []
  }
 ],
 "metadata": {
  "kernelspec": {
   "display_name": "Python 3 (ipykernel)",
   "language": "python",
   "name": "python3"
  },
  "language_info": {
   "codemirror_mode": {
    "name": "ipython",
    "version": 3
   },
   "file_extension": ".py",
   "mimetype": "text/x-python",
   "name": "python",
   "nbconvert_exporter": "python",
   "pygments_lexer": "ipython3",
   "version": "3.12.3"
  }
 },
 "nbformat": 4,
 "nbformat_minor": 5
}
