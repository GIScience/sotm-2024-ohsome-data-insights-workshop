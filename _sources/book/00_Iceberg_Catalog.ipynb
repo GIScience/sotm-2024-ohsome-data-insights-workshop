{
 "cells": [
  {
   "cell_type": "markdown",
   "id": "0aabe61e-c6fe-49e5-babf-3108f7aef591",
   "metadata": {},
   "source": [
    "# Connect to Apache Iceberg\n",
    "\n",
    "## What is Apache Iceberg?\n",
    "* Iceberg brings together MinIO object store and things you are used to have from a database"
   ]
  },
  {
   "cell_type": "markdown",
   "id": "dcb06ce8-3974-436b-9c1b-f994e2b4093f",
   "metadata": {},
   "source": [
    "## Connect to Apache Iceberg Catalog via PyIceberg"
   ]
  },
  {
   "cell_type": "markdown",
   "id": "22b5dd18-6672-48f8-bddc-1f0cae1962bd",
   "metadata": {},
   "source": [
    "Adjust the code below and add your MinIO access keys in there:"
   ]
  },
  {
   "cell_type": "code",
   "execution_count": 1,
   "id": "b79af493-a3cd-4e08-9b3b-4a5fa7e19329",
   "metadata": {},
   "outputs": [],
   "source": [
    "import os\n",
    "\n",
    "s3_user = os.environ[\"S3_ACCESS_KEY_ID\"]  # add your user here\n",
    "s3_password = os.environ[\"S3_SECRET_ACCESS_KEY\"]  # add your password here"
   ]
  },
  {
   "cell_type": "markdown",
   "id": "6609c52a-a0ef-46b9-b021-a09a6cd80167",
   "metadata": {},
   "source": [
    "Run this line if you haven't installed the python libraries yet, e.g. when you are running this in Google Colab."
   ]
  },
  {
   "cell_type": "code",
   "execution_count": null,
   "id": "d65fa4ba-39b7-40fa-9dad-f8d2832e3aba",
   "metadata": {},
   "outputs": [],
   "source": [
    "!pip install \"pyiceberg[s3fs,duckdb,sql-sqlite,pyarrow]\""
   ]
  },
  {
   "cell_type": "markdown",
   "id": "d2e411c4-3aa9-41e4-8dc1-65932496caae",
   "metadata": {},
   "source": [
    "Set up connection to Iceberg catalog."
   ]
  },
  {
   "cell_type": "code",
   "execution_count": 3,
   "id": "120d9b6c-5786-4fd3-b8f1-e327d97c4a01",
   "metadata": {},
   "outputs": [],
   "source": [
    "from pyiceberg.catalog.rest import RestCatalog\n",
    "\n",
    "catalog = RestCatalog(\n",
    "    name=\"default\",\n",
    "    **{\n",
    "        \"uri\": \"https://sotm2024.iceberg.ohsome.org\",\n",
    "        \"s3.endpoint\": \"https://sotm2024.minio.heigit.org\",\n",
    "        \"py-io-impl\": \"pyiceberg.io.pyarrow.PyArrowFileIO\",\n",
    "        \"s3.access-key-id\": s3_user,\n",
    "        \"s3.secret-access-key\": s3_password,\n",
    "        \"s3.region\": \"eu-central-1\"\n",
    "    }\n",
    ")"
   ]
  },
  {
   "cell_type": "markdown",
   "id": "2bb7b974-13ac-46ea-89e3-fe5f1192193d",
   "metadata": {},
   "source": [
    "## Get an overview\n",
    "Find out what data exists and where to find it.\n",
    "Tables in Iceberg are organized in groups called NAMESPACES. \n",
    "1. List all existing namespaces\n",
    "2. List the tables that exist in a namespace\n",
    "3. Get some table metadata"
   ]
  },
  {
   "cell_type": "markdown",
   "id": "3f3b44bf-9762-4b01-9ab4-4a0962acc4aa",
   "metadata": {},
   "source": [
    "Currently this catalog consists of only a single namespace. You can think of namespaces like a `schema` in postgres or other databases."
   ]
  },
  {
   "cell_type": "code",
   "execution_count": 5,
   "id": "4eeb0dda-4cf9-48bd-8f56-42e9605d6fd7",
   "metadata": {},
   "outputs": [
    {
     "data": {
      "text/plain": [
       "[('geo_sort',)]"
      ]
     },
     "execution_count": 5,
     "metadata": {},
     "output_type": "execute_result"
    }
   ],
   "source": [
    "catalog.list_namespaces()"
   ]
  },
  {
   "cell_type": "markdown",
   "id": "0ea360c7-b3c9-41e8-9388-d17038706e4a",
   "metadata": {},
   "source": [
    "In this step we list which tables are available in this namespace."
   ]
  },
  {
   "cell_type": "code",
   "execution_count": 6,
   "id": "041f29b6-e207-4004-a97c-053173fbf735",
   "metadata": {},
   "outputs": [
    {
     "data": {
      "text/plain": [
       "[('geo_sort', 'benni_test_heidelberg'),\n",
       " ('geo_sort', 'contributions'),\n",
       " ('geo_sort', 'contributions_germany')]"
      ]
     },
     "execution_count": 6,
     "metadata": {},
     "output_type": "execute_result"
    }
   ],
   "source": [
    "catalog.list_tables('geo_sort')"
   ]
  },
  {
   "cell_type": "markdown",
   "id": "da820525-03fd-4241-ba2c-7e4e5f4e5b47",
   "metadata": {},
   "source": [
    "Let's inspect a single Iceberg table and list all columns / attributes from this table. (We will explain these in detail again on the next page.)"
   ]
  },
  {
   "cell_type": "code",
   "execution_count": 10,
   "id": "7232059f-142b-4e4d-9b9a-5df7701bc64e",
   "metadata": {},
   "outputs": [
    {
     "data": {
      "text/plain": [
       "contributions(\n",
       "  1: user_id: optional int,\n",
       "  2: valid_from: optional timestamp,\n",
       "  3: valid_to: optional timestamp,\n",
       "  4: osm_type: optional string,\n",
       "  5: osm_id: optional string,\n",
       "  6: osm_version: optional int,\n",
       "  7: contrib_type: optional string,\n",
       "  8: members: optional list<struct<32: type: optional string, 33: id: optional long, 34: role: optional string, 35: geometry: optional binary>>,\n",
       "  9: status: optional string,\n",
       "  10: changeset: optional struct<36: id: optional long, 37: timestamp: optional timestamp, 38: tags: optional map<string, string>, 39: hashtags: optional list<string>, 40: editor: optional string>,\n",
       "  11: tags: optional map<string, string>,\n",
       "  12: tags_before: optional map<string, string>,\n",
       "  13: map_features: optional struct<48: aerialway: optional boolean, 49: aeroway: optional boolean, 50: amenity: optional boolean, 51: barrier: optional boolean, 52: boundary: optional boolean, 53: building: optional boolean, 54: craft: optional boolean, 55: emergency: optional boolean, 56: geological: optional boolean, 57: healthcare: optional boolean, 58: highway: optional boolean, 59: historic: optional boolean, 60: landuse: optional boolean, 61: leisure: optional boolean, 62: man_made: optional boolean, 63: military: optional boolean, 64: natural: optional boolean, 65: office: optional boolean, 66: place: optional boolean, 67: power: optional boolean, 68: public_transport: optional boolean, 69: railway: optional boolean, 70: route: optional boolean, 71: shop: optional boolean, 72: sport: optional boolean, 73: telecom: optional boolean, 74: water: optional boolean, 75: waterway: optional boolean>,\n",
       "  14: area: optional long,\n",
       "  15: area_delta: optional long,\n",
       "  16: length: optional long,\n",
       "  17: length_delta: optional long,\n",
       "  18: xzcode: optional struct<76: level: optional int, 77: code: optional long>,\n",
       "  19: country_iso_a3: optional list<string>,\n",
       "  20: bbox: optional struct<79: xmin: optional double, 80: ymin: optional double, 81: xmax: optional double, 82: ymax: optional double>,\n",
       "  21: xmin: optional double,\n",
       "  22: xmax: optional double,\n",
       "  23: ymin: optional double,\n",
       "  24: ymax: optional double,\n",
       "  25: centroid: optional struct<83: x: optional double, 84: y: optional double>,\n",
       "  26: quadkey_z10: optional string,\n",
       "  27: h3_r5: optional long,\n",
       "  28: geometry_type: optional string,\n",
       "  29: geometry_valid: optional boolean,\n",
       "  30: geometry: optional string\n",
       "),\n",
       "partition by: [status, geometry_type],\n",
       "sort order: [],\n",
       "snapshot: Operation.APPEND: id=1440840715635230871, schema_id=0"
      ]
     },
     "metadata": {},
     "output_type": "display_data"
    }
   ],
   "source": [
    "iceberg_table = catalog.load_table(('geo_sort', 'contributions'))\n",
    "display(iceberg_table)"
   ]
  },
  {
   "cell_type": "markdown",
   "id": "845ce15e-a61e-4e2f-be53-3bc8fa49c5b3",
   "metadata": {},
   "source": [
    "Let's dive deeper now into the data structure and what you can expect for your data analysis."
   ]
  }
 ],
 "metadata": {
  "kernelspec": {
   "display_name": "Python 3 (ipykernel)",
   "language": "python",
   "name": "python3"
  },
  "language_info": {
   "codemirror_mode": {
    "name": "ipython",
    "version": 3
   },
   "file_extension": ".py",
   "mimetype": "text/x-python",
   "name": "python",
   "nbconvert_exporter": "python",
   "pygments_lexer": "ipython3",
   "version": "3.12.3"
  }
 },
 "nbformat": 4,
 "nbformat_minor": 5
}
