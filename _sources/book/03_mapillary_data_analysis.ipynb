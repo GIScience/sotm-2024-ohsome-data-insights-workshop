{
 "cells": [
  {
   "cell_type": "markdown",
   "id": "92ed789b-0939-4569-b6df-59a7d1fe84b6",
   "metadata": {},
   "source": [
    "# DuckDB: Mapillary Coverage Analysis"
   ]
  },
  {
   "cell_type": "markdown",
   "id": "aa99de28-f2d2-4655-b1ad-b0ef18742434",
   "metadata": {},
   "source": [
    "In this notebook we demonstrate how to combine two datasets: Mapillary sequences and OSM road network.\n",
    "\n",
    "We want to find out which parts of the road network in a city are not yet covered by Mapillary street level imagery.\n",
    "\n",
    "These are the steps you see further down:\n",
    "* Set the connection parameters.\n",
    "* Prepare your input parameters, e.g. define area of interest and OSM tag filter.\n",
    "* Download data using DuckDB. This time we also download Mapillary data.\n",
    "* Display both datasets on a map.\n",
    "* Overlay OSM and Mapillary data using DuckDB."
   ]
  },
  {
   "cell_type": "markdown",
   "id": "e82e4711-603e-48cf-b354-98c747369b6f",
   "metadata": {},
   "source": [
    "# Getting started\n",
    "Set connection params."
   ]
  },
  {
   "cell_type": "code",
   "execution_count": 1,
   "id": "e4b65819-7f54-4274-bce1-a3fff65f6622",
   "metadata": {},
   "outputs": [],
   "source": [
    "import os\n",
    "\n",
    "s3_user = os.environ[\"S3_ACCESS_KEY_ID\"]  # add your user here\n",
    "s3_password = os.environ[\"S3_SECRET_ACCESS_KEY\"]  # add your password here"
   ]
  },
  {
   "cell_type": "markdown",
   "id": "fe553bde-8423-4e8f-b207-66738cc08389",
   "metadata": {},
   "source": [
    "Configure DuckDB, e.g. set available RAM and CPUs."
   ]
  },
  {
   "cell_type": "code",
   "execution_count": 2,
   "id": "96689ade-33d6-4ec2-8891-0064b091e492",
   "metadata": {},
   "outputs": [],
   "source": [
    "import duckdb\n",
    "\n",
    "con = duckdb.connect(\n",
    "    config={\n",
    "        'threads': 8,\n",
    "        'max_memory': '8GB'\n",
    "    }\n",
    ")\n",
    "con.install_extension(\"spatial\")\n",
    "con.load_extension(\"spatial\")"
   ]
  },
  {
   "cell_type": "markdown",
   "id": "f887fd5d-12c5-4b40-ac81-9d5335e8ae72",
   "metadata": {},
   "source": [
    "Set connection to MinIO object storage."
   ]
  },
  {
   "cell_type": "code",
   "execution_count": 3,
   "id": "e706d9de-d90e-4f7d-8ee3-c59dce2eb211",
   "metadata": {},
   "outputs": [
    {
     "name": "stdout",
     "output_type": "stream",
     "text": [
      "┌─────────┐\n",
      "│ Success │\n",
      "│ boolean │\n",
      "├─────────┤\n",
      "│ true    │\n",
      "└─────────┘\n",
      "\n"
     ]
    }
   ],
   "source": [
    "query = f\"\"\"\n",
    "DROP SECRET IF EXISTS \"__default_s3\";\n",
    "CREATE SECRET (\n",
    "      TYPE S3,\n",
    "      KEY_ID '{s3_user}',\n",
    "      SECRET '{s3_password}',\n",
    "      REGION 'eu-central-1',\n",
    "      endpoint 'sotm2024.minio.heigit.org',\n",
    "      use_ssl true,\n",
    "      url_style 'path'\n",
    "  );\n",
    "\"\"\"\n",
    "con.sql(query).show()"
   ]
  },
  {
   "cell_type": "markdown",
   "id": "fb8fc48c-9d2a-4799-a77c-7ed333cd610a",
   "metadata": {},
   "source": [
    "## Prepare the input parameters for your analysis"
   ]
  },
  {
   "cell_type": "code",
   "execution_count": 4,
   "id": "3c96e350-9ee5-4ce3-ac6f-bc36f58069da",
   "metadata": {},
   "outputs": [],
   "source": [
    "# Set s3 path for parquet input data\n",
    "osm_parquet_data_path = \"s3a://heigit-ohsome-sotm24/data/geo_sort_ext/contributions_germany/**\"\n",
    "#osm_parquet_data_path = \"s3a://heigit-ohsome-sotm24/data/geo_sort_ext/global_wkt_smaller/**\"\n",
    "\n",
    "\n",
    "mapillary_parquet_data_path = \"s3a://heigit-ohsome-sotm24/data/mapillary_sequences/*\"\n",
    "\n",
    "# Define status filter\n",
    "status = 'latest'\n",
    "\n",
    "# Define location filter\n",
    "bboxes = {\n",
    "    'heidelberg': (8.629761, 49.379556, 8.742371, 49.437890),\n",
    "    'mannheim': (8.41416, 49.410362, 8.58999, 49.590489),\n",
    "    'nairobi': (36.650938, -1.444471, 37.103887, -1.163522),\n",
    "    'berlin': (13.088345, 52.338271, 13.761161, 52.675509)\n",
    "}\n",
    "\n",
    "selected_region = 'nairobi'\n",
    "xmin, ymin, xmax, ymax = bboxes[selected_region]\n",
    "area_of_interest_file =f\"../data/{selected_region}.geojson\"\n",
    "\n",
    "epsg_codes = {\n",
    "    'heidelberg': 'EPSG:32632',\n",
    "    'mannheim': 'EPSG:32632',\n",
    "    'nairobi': 'EPSG:32737',\n",
    "    'berlin': 'EPSG:32632'\n",
    "}\n",
    "espg_code = epsg_codes[selected_region]\n",
    "\n",
    "\n",
    "# Define geometry type filter\n",
    "geometry_type = 'LineString'"
   ]
  },
  {
   "cell_type": "markdown",
   "id": "46b5e594-4809-494d-b57d-21be66ba6dda",
   "metadata": {},
   "source": [
    "# Get OSM data"
   ]
  },
  {
   "cell_type": "code",
   "execution_count": 5,
   "id": "5242ac0a-b4dd-4ee0-9b25-870c14eb85df",
   "metadata": {},
   "outputs": [
    {
     "name": "stdout",
     "output_type": "stream",
     "text": [
      "download took 1.619 sec.\n"
     ]
    }
   ],
   "source": [
    "import time\n",
    "start_time = time.time()\n",
    "\n",
    "query = f\"\"\"\n",
    "DROP TABLE IF EXISTS osm_data;\n",
    "CREATE TABLE osm_data AS \n",
    "(\n",
    "SELECT\n",
    "    a.osm_id,\n",
    "    a.tags,\n",
    "    tags['highway'][1] as highway_value,\n",
    "    ST_GeomFromText(a.geometry) as geometry,\n",
    "    a.geometry.ST_GeomFromText().ST_Length_Spheroid() / 1000 as length_km,\n",
    "FROM\n",
    "    read_parquet('{osm_parquet_data_path}', hive_partitioning=true) as a,\n",
    "    st_read('{area_of_interest_file}') as aoi\n",
    "WHERE 1=1\n",
    "    and status = '{status}'\n",
    "    and geometry_type = '{geometry_type}'\n",
    "    and tags['highway'][1] is not null\n",
    "    -- spatial filtering part\n",
    "    and (a.bbox.xmax >= {xmin} AND a.bbox.xmin <= {xmax})\n",
    "    and (a.bbox.ymax >= {ymin} AND a.bbox.ymin <= {ymax})\n",
    "    and ST_Intersects(st_GeomFromText(a.geometry), aoi.geom)\n",
    ")\n",
    ";\n",
    "\"\"\"\n",
    "con.sql(query)\n",
    "\n",
    "download_time = round(time.time() - start_time, 3)\n",
    "print(f\"download took {download_time} sec.\")"
   ]
  },
  {
   "cell_type": "markdown",
   "id": "e56b851e-11db-4303-8932-12465b74aec7",
   "metadata": {},
   "source": [
    "Display OSM data."
   ]
  },
  {
   "cell_type": "code",
   "execution_count": 6,
   "id": "88978e29-f19f-406b-8c55-adf8b7165ba2",
   "metadata": {},
   "outputs": [],
   "source": [
    "import geopandas as gpd\n",
    "\n",
    "map_query = \"\"\"\n",
    "    SELECT osm_id, tags, ST_AsText(geometry) as geometry, highway_value, length_km FROM osm_data;\n",
    "\"\"\"\n",
    "\n",
    "osm_data_df = con.sql(map_query).df()\n",
    "\n",
    "# convert the data to geodata\n",
    "osm_data_gdf = gpd.GeoDataFrame(\n",
    "    osm_data_df,\n",
    "    geometry=gpd.GeoSeries.from_wkt(osm_data_df['geometry'])\n",
    ").set_crs('epsg:4326')"
   ]
  },
  {
   "cell_type": "code",
   "execution_count": 7,
   "id": "bfb73ca1-53f5-4b89-b33a-26966bf03a17",
   "metadata": {},
   "outputs": [
    {
     "ename": "ValueError",
     "evalue": "Geometry type combination is not supported ([])",
     "output_type": "error",
     "traceback": [
      "\u001b[0;31m---------------------------------------------------------------------------\u001b[0m",
      "\u001b[0;31mValueError\u001b[0m                                Traceback (most recent call last)",
      "Cell \u001b[0;32mIn[7], line 4\u001b[0m\n\u001b[1;32m      1\u001b[0m \u001b[38;5;28;01mimport\u001b[39;00m \u001b[38;5;21;01mlonboard\u001b[39;00m\n\u001b[1;32m      3\u001b[0m \u001b[38;5;66;03m# the lonboard map definition\u001b[39;00m\n\u001b[0;32m----> 4\u001b[0m osm_layer \u001b[38;5;241m=\u001b[39m \u001b[43mlonboard\u001b[49m\u001b[38;5;241;43m.\u001b[39;49m\u001b[43mPathLayer\u001b[49m\u001b[38;5;241;43m.\u001b[39;49m\u001b[43mfrom_geopandas\u001b[49m\u001b[43m(\u001b[49m\n\u001b[1;32m      5\u001b[0m \u001b[43m    \u001b[49m\u001b[43mosm_data_gdf\u001b[49m\u001b[43m,\u001b[49m\n\u001b[1;32m      6\u001b[0m \u001b[43m    \u001b[49m\u001b[43mget_color\u001b[49m\u001b[38;5;241;43m=\u001b[39;49m\u001b[43m[\u001b[49m\u001b[38;5;241;43m0\u001b[39;49m\u001b[43m,\u001b[49m\u001b[38;5;241;43m255\u001b[39;49m\u001b[43m,\u001b[49m\u001b[38;5;241;43m255\u001b[39;49m\u001b[43m,\u001b[49m\u001b[38;5;241;43m255\u001b[39;49m\u001b[43m]\u001b[49m\u001b[43m,\u001b[49m\n\u001b[1;32m      7\u001b[0m \u001b[43m)\u001b[49m\n\u001b[1;32m      9\u001b[0m view_state \u001b[38;5;241m=\u001b[39m {\n\u001b[1;32m     10\u001b[0m     \u001b[38;5;124m\"\u001b[39m\u001b[38;5;124mlongitude\u001b[39m\u001b[38;5;124m\"\u001b[39m: xmin \u001b[38;5;241m+\u001b[39m ((xmax \u001b[38;5;241m-\u001b[39m xmin) \u001b[38;5;241m/\u001b[39m \u001b[38;5;241m2\u001b[39m),\n\u001b[1;32m     11\u001b[0m     \u001b[38;5;124m\"\u001b[39m\u001b[38;5;124mlatitude\u001b[39m\u001b[38;5;124m\"\u001b[39m: ymin \u001b[38;5;241m+\u001b[39m ((ymax \u001b[38;5;241m-\u001b[39m ymin) \u001b[38;5;241m/\u001b[39m \u001b[38;5;241m2\u001b[39m),\n\u001b[1;32m     12\u001b[0m     \u001b[38;5;124m\"\u001b[39m\u001b[38;5;124mzoom\u001b[39m\u001b[38;5;124m\"\u001b[39m: \u001b[38;5;241m12\u001b[39m\n\u001b[1;32m     13\u001b[0m }\n\u001b[1;32m     15\u001b[0m osm_map \u001b[38;5;241m=\u001b[39m lonboard\u001b[38;5;241m.\u001b[39mMap(\n\u001b[1;32m     16\u001b[0m     basemap_style\u001b[38;5;241m=\u001b[39mlonboard\u001b[38;5;241m.\u001b[39mbasemap\u001b[38;5;241m.\u001b[39mCartoBasemap\u001b[38;5;241m.\u001b[39mPositron,\n\u001b[1;32m     17\u001b[0m     layers\u001b[38;5;241m=\u001b[39m[osm_layer],\n\u001b[1;32m     18\u001b[0m     view_state\u001b[38;5;241m=\u001b[39mview_state\n\u001b[1;32m     19\u001b[0m )\n",
      "File \u001b[0;32m~/GIT_REPOS/sotm-2024-ohsome-data-insights-workshop/venv/lib/python3.12/site-packages/lonboard/_layer.py:1211\u001b[0m, in \u001b[0;36mPathLayer.from_geopandas\u001b[0;34m(cls, gdf, auto_downcast, **kwargs)\u001b[0m\n\u001b[1;32m   1203\u001b[0m \u001b[38;5;129m@classmethod\u001b[39m\n\u001b[1;32m   1204\u001b[0m \u001b[38;5;28;01mdef\u001b[39;00m \u001b[38;5;21mfrom_geopandas\u001b[39m(\n\u001b[1;32m   1205\u001b[0m     \u001b[38;5;28mcls\u001b[39m,\n\u001b[0;32m   (...)\u001b[0m\n\u001b[1;32m   1209\u001b[0m     \u001b[38;5;241m*\u001b[39m\u001b[38;5;241m*\u001b[39mkwargs: Unpack[PathLayerKwargs],\n\u001b[1;32m   1210\u001b[0m ) \u001b[38;5;241m-\u001b[39m\u001b[38;5;241m>\u001b[39m Self:\n\u001b[0;32m-> 1211\u001b[0m     \u001b[38;5;28;01mreturn\u001b[39;00m \u001b[38;5;28;43msuper\u001b[39;49m\u001b[43m(\u001b[49m\u001b[43m)\u001b[49m\u001b[38;5;241;43m.\u001b[39;49m\u001b[43mfrom_geopandas\u001b[49m\u001b[43m(\u001b[49m\u001b[43mgdf\u001b[49m\u001b[38;5;241;43m=\u001b[39;49m\u001b[43mgdf\u001b[49m\u001b[43m,\u001b[49m\u001b[43m \u001b[49m\u001b[43mauto_downcast\u001b[49m\u001b[38;5;241;43m=\u001b[39;49m\u001b[43mauto_downcast\u001b[49m\u001b[43m,\u001b[49m\u001b[43m \u001b[49m\u001b[38;5;241;43m*\u001b[39;49m\u001b[38;5;241;43m*\u001b[39;49m\u001b[43mkwargs\u001b[49m\u001b[43m)\u001b[49m\n",
      "File \u001b[0;32m~/GIT_REPOS/sotm-2024-ohsome-data-insights-workshop/venv/lib/python3.12/site-packages/lonboard/_layer.py:333\u001b[0m, in \u001b[0;36mBaseArrowLayer.from_geopandas\u001b[0;34m(cls, gdf, auto_downcast, **kwargs)\u001b[0m\n\u001b[1;32m    329\u001b[0m \u001b[38;5;28;01mif\u001b[39;00m auto_downcast:\n\u001b[1;32m    330\u001b[0m     \u001b[38;5;66;03m# Note: we don't deep copy because we don't need to clone geometries\u001b[39;00m\n\u001b[1;32m    331\u001b[0m     gdf \u001b[38;5;241m=\u001b[39m _auto_downcast(gdf\u001b[38;5;241m.\u001b[39mcopy())  \u001b[38;5;66;03m# type: ignore\u001b[39;00m\n\u001b[0;32m--> 333\u001b[0m table \u001b[38;5;241m=\u001b[39m \u001b[43mgeopandas_to_geoarrow\u001b[49m\u001b[43m(\u001b[49m\u001b[43mgdf\u001b[49m\u001b[43m)\u001b[49m\n\u001b[1;32m    334\u001b[0m \u001b[38;5;28;01mreturn\u001b[39;00m \u001b[38;5;28mcls\u001b[39m(table\u001b[38;5;241m=\u001b[39mtable, \u001b[38;5;241m*\u001b[39m\u001b[38;5;241m*\u001b[39mkwargs)\n",
      "File \u001b[0;32m~/GIT_REPOS/sotm-2024-ohsome-data-insights-workshop/venv/lib/python3.12/site-packages/lonboard/_geoarrow/geopandas_interop.py:21\u001b[0m, in \u001b[0;36mgeopandas_to_geoarrow\u001b[0;34m(gdf, columns, preserve_index)\u001b[0m\n\u001b[1;32m     18\u001b[0m     df_attr \u001b[38;5;241m=\u001b[39m df_attr[columns]\n\u001b[1;32m     20\u001b[0m table \u001b[38;5;241m=\u001b[39m pa\u001b[38;5;241m.\u001b[39mTable\u001b[38;5;241m.\u001b[39mfrom_pandas(df_attr, preserve_index\u001b[38;5;241m=\u001b[39mpreserve_index)\n\u001b[0;32m---> 21\u001b[0m field, geom_arr \u001b[38;5;241m=\u001b[39m \u001b[43mconstruct_geometry_array\u001b[49m\u001b[43m(\u001b[49m\n\u001b[1;32m     22\u001b[0m \u001b[43m    \u001b[49m\u001b[43mnp\u001b[49m\u001b[38;5;241;43m.\u001b[39;49m\u001b[43marray\u001b[49m\u001b[43m(\u001b[49m\u001b[43mgdf\u001b[49m\u001b[38;5;241;43m.\u001b[39;49m\u001b[43mgeometry\u001b[49m\u001b[43m)\u001b[49m\u001b[43m,\u001b[49m\n\u001b[1;32m     23\u001b[0m \u001b[43m    \u001b[49m\u001b[43mcrs_str\u001b[49m\u001b[38;5;241;43m=\u001b[39;49m\u001b[43mgdf\u001b[49m\u001b[38;5;241;43m.\u001b[39;49m\u001b[43mcrs\u001b[49m\u001b[38;5;241;43m.\u001b[39;49m\u001b[43mto_json\u001b[49m\u001b[43m(\u001b[49m\u001b[43m)\u001b[49m\u001b[43m \u001b[49m\u001b[38;5;28;43;01mif\u001b[39;49;00m\u001b[43m \u001b[49m\u001b[43mgdf\u001b[49m\u001b[38;5;241;43m.\u001b[39;49m\u001b[43mcrs\u001b[49m\u001b[43m \u001b[49m\u001b[38;5;129;43;01mis\u001b[39;49;00m\u001b[43m \u001b[49m\u001b[38;5;129;43;01mnot\u001b[39;49;00m\u001b[43m \u001b[49m\u001b[38;5;28;43;01mNone\u001b[39;49;00m\u001b[43m \u001b[49m\u001b[38;5;28;43;01melse\u001b[39;49;00m\u001b[43m \u001b[49m\u001b[38;5;28;43;01mNone\u001b[39;49;00m\u001b[43m,\u001b[49m\n\u001b[1;32m     24\u001b[0m \u001b[43m\u001b[49m\u001b[43m)\u001b[49m\n\u001b[1;32m     26\u001b[0m \u001b[38;5;28;01mreturn\u001b[39;00m table\u001b[38;5;241m.\u001b[39mappend_column(field, geom_arr)\n",
      "File \u001b[0;32m~/GIT_REPOS/sotm-2024-ohsome-data-insights-workshop/venv/lib/python3.12/site-packages/lonboard/_geoarrow/extension_types.py:292\u001b[0m, in \u001b[0;36mconstruct_geometry_array\u001b[0;34m(shapely_arr, include_z, field_name, crs_str)\u001b[0m\n\u001b[1;32m    282\u001b[0m \u001b[38;5;28;01mdef\u001b[39;00m \u001b[38;5;21mconstruct_geometry_array\u001b[39m(\n\u001b[1;32m    283\u001b[0m     shapely_arr: NDArray[np\u001b[38;5;241m.\u001b[39mobject_],\n\u001b[1;32m    284\u001b[0m     include_z: Optional[\u001b[38;5;28mbool\u001b[39m] \u001b[38;5;241m=\u001b[39m \u001b[38;5;28;01mNone\u001b[39;00m,\n\u001b[0;32m   (...)\u001b[0m\n\u001b[1;32m    290\u001b[0m     \u001b[38;5;66;03m# extension metadata on the field without instantiating extension types into the\u001b[39;00m\n\u001b[1;32m    291\u001b[0m     \u001b[38;5;66;03m# global pyarrow registry\u001b[39;00m\n\u001b[0;32m--> 292\u001b[0m     geom_type, coords, offsets \u001b[38;5;241m=\u001b[39m \u001b[43mshapely\u001b[49m\u001b[38;5;241;43m.\u001b[39;49m\u001b[43mto_ragged_array\u001b[49m\u001b[43m(\u001b[49m\n\u001b[1;32m    293\u001b[0m \u001b[43m        \u001b[49m\u001b[43mshapely_arr\u001b[49m\u001b[43m,\u001b[49m\u001b[43m \u001b[49m\u001b[43minclude_z\u001b[49m\u001b[38;5;241;43m=\u001b[39;49m\u001b[43minclude_z\u001b[49m\n\u001b[1;32m    294\u001b[0m \u001b[43m    \u001b[49m\u001b[43m)\u001b[49m\n\u001b[1;32m    296\u001b[0m     \u001b[38;5;28;01mif\u001b[39;00m coords\u001b[38;5;241m.\u001b[39mshape[\u001b[38;5;241m-\u001b[39m\u001b[38;5;241m1\u001b[39m] \u001b[38;5;241m==\u001b[39m \u001b[38;5;241m2\u001b[39m:\n\u001b[1;32m    297\u001b[0m         dims \u001b[38;5;241m=\u001b[39m CoordinateDimension\u001b[38;5;241m.\u001b[39mXY\n",
      "File \u001b[0;32m~/GIT_REPOS/sotm-2024-ohsome-data-insights-workshop/venv/lib/python3.12/site-packages/shapely/_ragged_array.py:292\u001b[0m, in \u001b[0;36mto_ragged_array\u001b[0;34m(geometries, include_z)\u001b[0m\n\u001b[1;32m    287\u001b[0m         \u001b[38;5;28;01mraise\u001b[39;00m \u001b[38;5;167;01mValueError\u001b[39;00m(\n\u001b[1;32m    288\u001b[0m             \u001b[38;5;124m\"\u001b[39m\u001b[38;5;124mGeometry type combination is not supported \u001b[39m\u001b[38;5;124m\"\u001b[39m\n\u001b[1;32m    289\u001b[0m             \u001b[38;5;124mf\u001b[39m\u001b[38;5;124m\"\u001b[39m\u001b[38;5;124m(\u001b[39m\u001b[38;5;132;01m{\u001b[39;00m[GeometryType(t)\u001b[38;5;241m.\u001b[39mname\u001b[38;5;250m \u001b[39m\u001b[38;5;28;01mfor\u001b[39;00m\u001b[38;5;250m \u001b[39mt\u001b[38;5;250m \u001b[39m\u001b[38;5;129;01min\u001b[39;00m\u001b[38;5;250m \u001b[39mgeom_types]\u001b[38;5;132;01m}\u001b[39;00m\u001b[38;5;124m)\u001b[39m\u001b[38;5;124m\"\u001b[39m\n\u001b[1;32m    290\u001b[0m         )\n\u001b[1;32m    291\u001b[0m \u001b[38;5;28;01melse\u001b[39;00m:\n\u001b[0;32m--> 292\u001b[0m     \u001b[38;5;28;01mraise\u001b[39;00m \u001b[38;5;167;01mValueError\u001b[39;00m(\n\u001b[1;32m    293\u001b[0m         \u001b[38;5;124m\"\u001b[39m\u001b[38;5;124mGeometry type combination is not supported \u001b[39m\u001b[38;5;124m\"\u001b[39m\n\u001b[1;32m    294\u001b[0m         \u001b[38;5;124mf\u001b[39m\u001b[38;5;124m\"\u001b[39m\u001b[38;5;124m(\u001b[39m\u001b[38;5;132;01m{\u001b[39;00m[GeometryType(t)\u001b[38;5;241m.\u001b[39mname\u001b[38;5;250m \u001b[39m\u001b[38;5;28;01mfor\u001b[39;00m\u001b[38;5;250m \u001b[39mt\u001b[38;5;250m \u001b[39m\u001b[38;5;129;01min\u001b[39;00m\u001b[38;5;250m \u001b[39mgeom_types]\u001b[38;5;132;01m}\u001b[39;00m\u001b[38;5;124m)\u001b[39m\u001b[38;5;124m\"\u001b[39m\n\u001b[1;32m    295\u001b[0m     )\n\u001b[1;32m    297\u001b[0m \u001b[38;5;28;01mreturn\u001b[39;00m typ, coords, offsets\n",
      "\u001b[0;31mValueError\u001b[0m: Geometry type combination is not supported ([])"
     ]
    }
   ],
   "source": [
    "import lonboard\n",
    "\n",
    "# the lonboard map definition\n",
    "osm_layer = lonboard.PathLayer.from_geopandas(\n",
    "    osm_data_gdf,\n",
    "    get_color=[0,255,255,255],\n",
    ")\n",
    "\n",
    "view_state = {\n",
    "    \"longitude\": xmin + ((xmax - xmin) / 2),\n",
    "    \"latitude\": ymin + ((ymax - ymin) / 2),\n",
    "    \"zoom\": 12\n",
    "}\n",
    "\n",
    "osm_map = lonboard.Map(\n",
    "    basemap_style=lonboard.basemap.CartoBasemap.Positron,\n",
    "    layers=[osm_layer],\n",
    "    view_state=view_state\n",
    ")\n",
    "\n",
    "display(osm_map)"
   ]
  },
  {
   "cell_type": "markdown",
   "id": "8874992b-af6f-4bd8-8354-02310f9f9821",
   "metadata": {},
   "source": [
    "# Get Mapillary Data"
   ]
  },
  {
   "cell_type": "code",
   "execution_count": 11,
   "id": "08b7b00d-3d96-4927-81cc-5f08d0ee5e5c",
   "metadata": {},
   "outputs": [
    {
     "name": "stdout",
     "output_type": "stream",
     "text": [
      "download took 1.247 sec.\n"
     ]
    }
   ],
   "source": [
    "import time\n",
    "start_time = time.time()\n",
    "\n",
    "query = f\"\"\"\n",
    "DROP TABLE IF EXISTS mapillary_data;\n",
    "CREATE TABLE mapillary_data AS \n",
    "(\n",
    "SELECT\n",
    "    a.id,\n",
    "    ST_GeomFromText(a.geometry) as geometry\n",
    "FROM\n",
    "    read_parquet('{mapillary_parquet_data_path}') as a,\n",
    "    st_read('{area_of_interest_file}') as aoi\n",
    "WHERE 1=1\n",
    "    and (a.bbox.xmax >= {xmin} AND a.bbox.xmin <= {xmax})\n",
    "    and (a.bbox.ymax >= {ymin} AND a.bbox.ymin <= {ymax})\n",
    "    and ST_Intersects(st_GeomFromText(a.geometry), aoi.geom)\n",
    ")\n",
    ";\n",
    "\"\"\"\n",
    "con.sql(query)\n",
    "\n",
    "download_time = round(time.time() - start_time, 3)\n",
    "print(f\"download took {download_time} sec.\")"
   ]
  },
  {
   "cell_type": "code",
   "execution_count": 14,
   "id": "3695df2a-3f3f-4ab1-a73e-be191a550e79",
   "metadata": {},
   "outputs": [],
   "source": [
    "map_query = \"\"\"\n",
    "    SELECT\n",
    "        id,\n",
    "        ST_AsText(geometry) as geometry\n",
    "    FROM mapillary_data;\n",
    "\"\"\"\n",
    "\n",
    "df = con.sql(map_query).df()\n",
    "\n",
    "# convert the data to geodata\n",
    "gdf = gpd.GeoDataFrame(\n",
    "    df,\n",
    "    geometry=gpd.GeoSeries.from_wkt(df['geometry'])\n",
    ").set_crs('epsg:4326')"
   ]
  },
  {
   "cell_type": "code",
   "execution_count": 15,
   "id": "27898d66-7197-4e3e-802f-30705f9e882c",
   "metadata": {},
   "outputs": [
    {
     "data": {
      "application/vnd.jupyter.widget-view+json": {
       "model_id": "8ac1aed14af542fbaf658988ebbf6734",
       "version_major": 2,
       "version_minor": 1
      },
      "text/plain": [
       "Map(basemap_style=<CartoBasemap.Positron: 'https://basemaps.cartocdn.com/gl/positron-gl-style/style.json'>, la…"
      ]
     },
     "metadata": {},
     "output_type": "display_data"
    }
   ],
   "source": [
    "# the lonboard map definition\n",
    "mapillary_layer = lonboard.PathLayer.from_geopandas(\n",
    "    gdf,\n",
    "    get_color=[255,0,255,255],\n",
    ")\n",
    "\n",
    "view_state = {\n",
    "    \"longitude\": xmin + ((xmax - xmin) / 2),\n",
    "    \"latitude\": ymin + ((ymax - ymin) / 2),\n",
    "    \"zoom\": 12\n",
    "}\n",
    "\n",
    "mapillary_map = lonboard.Map(\n",
    "    basemap_style=lonboard.basemap.CartoBasemap.Positron,\n",
    "    layers=[mapillary_layer],\n",
    "    view_state=view_state\n",
    ")\n",
    "\n",
    "display(mapillary_map)"
   ]
  },
  {
   "cell_type": "markdown",
   "id": "9cdefd71-ba3c-4051-9664-063ceb14c574",
   "metadata": {},
   "source": [
    "# Find OSM ways not covered by (buffered) Mapillary sequence"
   ]
  },
  {
   "cell_type": "code",
   "execution_count": 27,
   "id": "aca9d2b2-4151-4850-b405-d8d62b9dda0b",
   "metadata": {},
   "outputs": [
    {
     "data": {
      "application/vnd.jupyter.widget-view+json": {
       "model_id": "b923769266024fc2b7c6b15f9a7b2cca",
       "version_major": 2,
       "version_minor": 0
      },
      "text/plain": [
       "FloatProgress(value=0.0, layout=Layout(width='auto'), style=ProgressStyle(bar_color='black'))"
      ]
     },
     "metadata": {},
     "output_type": "display_data"
    }
   ],
   "source": [
    "query = \"\"\"\n",
    "CREATE TABLE not_covered_osm_data AS\n",
    "(\n",
    "WITH mapillary_coverage AS\n",
    "(\n",
    "SELECT\n",
    "    id,\n",
    "    geometry.ST_Transform('EPSG:4326', 'EPSG:32632')\n",
    "        .ST_Buffer(5)\n",
    "        .ST_Transform('EPSG:32632', 'EPSG:4326')\n",
    "    as geometry\n",
    "FROM mapillary_data\n",
    "),\n",
    "match as (\n",
    "SELECT\n",
    "    a.osm_id,\n",
    "    a.tags,\n",
    "    a.geometry,\n",
    "    SUM(\n",
    "        CASE WHEN b.id IS NOT NULL THEN 1 ELSE 0 END\n",
    "    ) as matching_mapillary_sequences\n",
    "FROM osm_data a\n",
    "LEFT JOIN mapillary_coverage b ON \n",
    "    ST_Intersects(a.geometry, b.geometry)\n",
    "GROUP BY a.*\n",
    ")\n",
    "select\n",
    "    osm_id,\n",
    "    tags,\n",
    "    tags['highway'][1] as highway_value,\n",
    "    ST_AsText(geometry) as geometry,\n",
    "    ST_Length_Spheroid(geometry) / 1000 as length_km,\n",
    "from match\n",
    "where matching_mapillary_sequences = 0\n",
    ");\n",
    "\"\"\"\n",
    "con.sql(query)"
   ]
  },
  {
   "cell_type": "code",
   "execution_count": 28,
   "id": "479e49af-d605-40e2-aca0-82fb25d89ef8",
   "metadata": {},
   "outputs": [],
   "source": [
    "query = \"SELECT * FROM not_covered_osm_data\"\n",
    "df = con.sql(query).df()\n",
    "\n",
    "# convert the data to geodata\n",
    "gdf = gpd.GeoDataFrame(\n",
    "    df,\n",
    "    geometry=gpd.GeoSeries.from_wkt(df['geometry'])\n",
    ").set_crs('epsg:4326')"
   ]
  },
  {
   "cell_type": "code",
   "execution_count": 53,
   "id": "c77d9fb1-f74e-4060-9f34-3542335d1465",
   "metadata": {},
   "outputs": [
    {
     "data": {
      "application/vnd.jupyter.widget-view+json": {
       "model_id": "519d5f1a28a04245a61acdce50e54981",
       "version_major": 2,
       "version_minor": 1
      },
      "text/plain": [
       "Map(basemap_style=<CartoBasemap.Positron: 'https://basemaps.cartocdn.com/gl/positron-gl-style/style.json'>, la…"
      ]
     },
     "metadata": {},
     "output_type": "display_data"
    }
   ],
   "source": [
    "# the lonboard map definition\n",
    "not_covered_osm_data = lonboard.PathLayer.from_geopandas(\n",
    "    gdf,\n",
    "    get_color=[0,0,0,255],\n",
    "    get_width=3\n",
    ")\n",
    "\n",
    "view_state = {\n",
    "    \"longitude\": xmin + ((xmax - xmin) / 2),\n",
    "    \"latitude\": ymin + ((ymax - ymin) / 2),\n",
    "    \"zoom\": 12\n",
    "}\n",
    "\n",
    "mapillary_map = lonboard.Map(\n",
    "    basemap_style=lonboard.basemap.CartoBasemap.Positron,\n",
    "    layers=[not_covered_osm_data, mapillary_layer],\n",
    "    view_state=view_state\n",
    ")\n",
    "\n",
    "display(mapillary_map)"
   ]
  },
  {
   "cell_type": "markdown",
   "id": "915f2efc-8c92-4e00-bdb4-8d55b1b26f4f",
   "metadata": {},
   "source": [
    "# Calculate share of road network covered by Mapillary"
   ]
  },
  {
   "cell_type": "code",
   "execution_count": 54,
   "id": "6270a460-ef7f-42fb-8aba-21db40fee454",
   "metadata": {},
   "outputs": [
    {
     "name": "stdout",
     "output_type": "stream",
     "text": [
      "Mapillary coverage: 0.258\n"
     ]
    }
   ],
   "source": [
    "total_osm_length = osm_data_df[\"length_km\"].sum()\n",
    "not_covered_osm_length = df[\"length_km\"].sum()\n",
    "mapillary_coverage = (total_osm_length - not_covered_osm_length) / total_osm_length\n",
    "\n",
    "print(f\"Mapillary coverage: {round(mapillary_coverage, 3)}\")"
   ]
  },
  {
   "cell_type": "markdown",
   "id": "b5e5dcca-e8ae-4f9b-a6e3-2d547ce49867",
   "metadata": {},
   "source": [
    "Calculate Mapillary coverage per road type. Here we list the top 20 only."
   ]
  },
  {
   "cell_type": "code",
   "execution_count": 58,
   "id": "d1db4e67-72f5-453f-8249-82780a2c1b4f",
   "metadata": {},
   "outputs": [
    {
     "name": "stdout",
     "output_type": "stream",
     "text": [
      "┌────────────────┬─────────────────┬───────────────────────┬────────────────────┐\n",
      "│ highway_value  │ total_length_km │ not_covered_length_km │ mapillary_coverage │\n",
      "│    varchar     │     double      │        double         │       double       │\n",
      "├────────────────┼─────────────────┼───────────────────────┼────────────────────┤\n",
      "│ motorway       │          40.216 │                 2.624 │              0.935 │\n",
      "│ trunk          │         183.263 │                19.269 │              0.895 │\n",
      "│ motorway_link  │          13.904 │                 1.776 │              0.872 │\n",
      "│ trunk_link     │          22.641 │                 4.927 │              0.782 │\n",
      "│ primary_link   │           12.95 │                  3.43 │              0.735 │\n",
      "│ primary        │         105.382 │                 34.93 │              0.669 │\n",
      "│ cycleway       │          29.469 │                12.762 │              0.567 │\n",
      "│ secondary      │         365.844 │               165.322 │              0.548 │\n",
      "│ secondary_link │           9.282 │                 4.257 │              0.541 │\n",
      "│ tertiary       │         180.208 │                 97.04 │              0.462 │\n",
      "│ tertiary_link  │           1.126 │                 0.694 │              0.384 │\n",
      "│ unclassified   │         354.191 │               226.411 │              0.361 │\n",
      "│ steps          │           1.386 │                 0.946 │              0.317 │\n",
      "│ pedestrian     │           4.059 │                 3.114 │              0.233 │\n",
      "│ residential    │        3576.012 │              2868.926 │              0.198 │\n",
      "│ footway        │         136.649 │               110.634 │               0.19 │\n",
      "│ service        │        1391.092 │               1134.82 │              0.184 │\n",
      "│ living_street  │           8.259 │                 6.841 │              0.172 │\n",
      "│ track          │         401.247 │               335.547 │              0.164 │\n",
      "│ path           │         212.552 │               194.438 │              0.085 │\n",
      "├────────────────┴─────────────────┴───────────────────────┴────────────────────┤\n",
      "│ 20 rows                                                             4 columns │\n",
      "└───────────────────────────────────────────────────────────────────────────────┘\n",
      "\n"
     ]
    }
   ],
   "source": [
    "query = \"\"\"\n",
    "with uncovered_stats AS\n",
    "(\n",
    "SELECT\n",
    "    a.highway_value,\n",
    "    SUM(a.length_km) as not_covered_length_km\n",
    "FROM not_covered_osm_data as a\n",
    "GROUP by a.highway_value\n",
    "ORDER BY 2 DESC \n",
    "),\n",
    "total_stats AS\n",
    "(\n",
    "SELECT\n",
    "    a.highway_value,\n",
    "    SUM(a.length_km) as total_length_km,\n",
    "FROM osm_data as a\n",
    "LEFT JOIN uncovered_stats b ON\n",
    "    a.highway_value = b.highway_value\n",
    "GROUP by a.highway_value\n",
    "ORDER BY 2 DESC\n",
    ")\n",
    "SELECT\n",
    "    a.highway_value,\n",
    "    round(a.total_length_km, 3) as total_length_km,\n",
    "    round(b.not_covered_length_km, 3) as not_covered_length_km ,\n",
    "    round((a.total_length_km - b.not_covered_length_km) / a.total_length_km, 3) as mapillary_coverage\n",
    "FROM total_stats a\n",
    "LEFT JOIN uncovered_stats b ON\n",
    "    a.highway_value = b.highway_value\n",
    "ORDER BY mapillary_coverage DESC\n",
    "LIMIT 20;\n",
    "\"\"\"\n",
    "con.sql(query).show()"
   ]
  }
 ],
 "metadata": {
  "kernelspec": {
   "display_name": "Python 3 (ipykernel)",
   "language": "python",
   "name": "python3"
  },
  "language_info": {
   "codemirror_mode": {
    "name": "ipython",
    "version": 3
   },
   "file_extension": ".py",
   "mimetype": "text/x-python",
   "name": "python",
   "nbconvert_exporter": "python",
   "pygments_lexer": "ipython3",
   "version": "3.12.3"
  }
 },
 "nbformat": 4,
 "nbformat_minor": 5
}
