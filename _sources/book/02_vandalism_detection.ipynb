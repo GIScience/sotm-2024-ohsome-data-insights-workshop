{
 "cells": [
  {
   "cell_type": "markdown",
   "id": "0bdfe714-e55b-419a-b6a3-325a026bf6b1",
   "metadata": {},
   "source": [
    "# Vandalism Detection for LineStrings\n",
    "In this notebook we demonstrate how you detect and visualize vandalism in OSM. We are going to make use of one of the **enriched attributes** we have added to ohsome-data-insights.\n",
    "\n",
    "These are the steps you see further down:\n",
    "\n",
    "* Set the connection parameters.\n",
    "* Prepare your input parameters, e.g. define area of interest and shape filters.\n",
    "* **Download data** using PyIceberg and DuckDB.\n",
    "* Filter and process data with DuckDB.\n",
    "* Visualize the results on a map."
   ]
  },
  {
   "cell_type": "markdown",
   "id": "99ee41dd-0e24-47c3-96cf-791eb82d15a0",
   "metadata": {},
   "source": [
    "## Getting started\n",
    "Set connection params."
   ]
  },
  {
   "cell_type": "code",
   "execution_count": 3,
   "id": "3c9da0b3-da38-40eb-b6a1-39b09fca8851",
   "metadata": {},
   "outputs": [],
   "source": [
    "import os\n",
    "\n",
    "s3_user = os.environ[\"S3_ACCESS_KEY_ID\"]  # add your user here\n",
    "s3_password = os.environ[\"S3_SECRET_ACCESS_KEY\"]  # add your password here"
   ]
  },
  {
   "cell_type": "markdown",
   "id": "8a6484a3-d34a-4010-9987-1200d6b30d54",
   "metadata": {},
   "source": [
    "Configure DuckDB."
   ]
  },
  {
   "cell_type": "code",
   "execution_count": 4,
   "id": "47a69811-5dd8-4e54-9d18-1170174a3f73",
   "metadata": {},
   "outputs": [],
   "source": [
    "import duckdb\n",
    "\n",
    "con = duckdb.connect(\n",
    "    config={\n",
    "        'threads': 8,\n",
    "        'max_memory': '8GB',\n",
    "    }\n",
    ")\n",
    "con.install_extension(\"spatial\")\n",
    "con.load_extension(\"spatial\")"
   ]
  },
  {
   "cell_type": "markdown",
   "id": "655c79b2-f02a-476e-a519-cf80dc2e6941",
   "metadata": {},
   "source": [
    "Set the connection params to Iceberg Rest Catalog."
   ]
  },
  {
   "cell_type": "code",
   "execution_count": null,
   "id": "bebd63ea-8ae4-4935-8973-a0a6cfc0f68b",
   "metadata": {},
   "outputs": [],
   "source": [
    "!pip install \"pyiceberg[s3fs,duckdb,sql-sqlite,pyarrow]\""
   ]
  },
  {
   "cell_type": "code",
   "execution_count": 7,
   "id": "8eeb2017-f7fc-4b55-aea3-9fa483b41ea4",
   "metadata": {},
   "outputs": [],
   "source": [
    "from pyiceberg.catalog.rest import RestCatalog\n",
    "\n",
    "catalog = RestCatalog(\n",
    "    name=\"default\",\n",
    "    **{\n",
    "        \"uri\": \"https://sotm2024.iceberg.ohsome.org\",\n",
    "        \"s3.endpoint\": \"https://sotm2024.minio.heigit.org\",\n",
    "        \"py-io-impl\": \"pyiceberg.io.pyarrow.PyArrowFileIO\",\n",
    "        \"s3.access-key-id\": s3_user,\n",
    "        \"s3.secret-access-key\": s3_password,\n",
    "        \"s3.region\": \"eu-central-1\"\n",
    "    }\n",
    ")"
   ]
  },
  {
   "cell_type": "markdown",
   "id": "785a8cb7-d465-4020-9d24-45156653e00d",
   "metadata": {},
   "source": [
    "## Prepare the input parameters for your analysis"
   ]
  },
  {
   "cell_type": "code",
   "execution_count": 23,
   "id": "e8b75c69-65cd-4087-8ce5-8461e423de2e",
   "metadata": {},
   "outputs": [],
   "source": [
    "# Set iceberg table\n",
    "namespace = 'geo_sort'\n",
    "tablename = 'contributions'\n",
    "icebergtable = catalog.load_table((namespace, tablename))\n",
    "\n",
    "# Define status filter\n",
    "status = 'history'\n",
    "\n",
    "# Define geometry type filter\n",
    "geometry_type = 'LineString'\n",
    "\n",
    "# Define time filter (optional)\n",
    "min_timestamp = '2023-01-01T00:00:00'\n",
    "\n",
    "\n",
    "# Define length_delta threshold in meter.\n",
    "# This is a 5000 kilometers!\n",
    "length_delta_threshold = 5_000_000"
   ]
  },
  {
   "cell_type": "markdown",
   "id": "eb76c76b-232d-4d15-9871-4ca0c9bac278",
   "metadata": {},
   "source": [
    "## Get the Data\n",
    "First, we do an iceberg table scan with a pre-filter. This is a fast way to download all potential OSM elements that are needed for our analysis.\n",
    "\n",
    "Here we use one of the **enriched attributes** we have calculated in advance for each OSM contribution. We use the `length_delta` attribute to inspect all the OSM elements with an unusual large change. Here we download all linestrings which changed more than 5000 kilometers in length."
   ]
  },
  {
   "cell_type": "code",
   "execution_count": 24,
   "id": "9ddaff8d-c333-4215-8bae-29db150a8c19",
   "metadata": {},
   "outputs": [
    {
     "name": "stdout",
     "output_type": "stream",
     "text": [
      "download took 10.675 sec.\n"
     ]
    }
   ],
   "source": [
    "import time\n",
    "start_time = time.time()\n",
    "\n",
    "icebergtable.scan(\n",
    "    row_filter=(\n",
    "        f\"status = '{status}' \"\n",
    "        f\"and geometry_type = '{geometry_type}' \"\n",
    "        f\"and length_delta >= '{length_delta_threshold}' \"\n",
    "    ),\n",
    "    selected_fields=(\n",
    "        \"user_id\",\n",
    "        \"osm_id\",\n",
    "        \"valid_from\",\n",
    "        \"tags\",\n",
    "        \"geometry\",\n",
    "    )\n",
    ").to_duckdb('raw_osm_data',connection=con)\n",
    "\n",
    "download_time = round(time.time() - start_time, 3)\n",
    "print(f\"download took {download_time} sec.\")"
   ]
  },
  {
   "cell_type": "markdown",
   "id": "a1454405-16e3-44e5-b0e6-097d03607eae",
   "metadata": {},
   "source": [
    "## Display OSM user activity on map\n",
    "Get data from DucDKB into GeoPandas dataframe."
   ]
  },
  {
   "cell_type": "code",
   "execution_count": 25,
   "id": "55df91e5-0d67-4d7d-ac69-2522f7b5ef60",
   "metadata": {},
   "outputs": [],
   "source": [
    "import geopandas as gpd\n",
    "\n",
    "map_query = \"\"\"\n",
    "    SELECT\n",
    "        osm_id,\n",
    "        user_id,\n",
    "        valid_from::varchar as date,\n",
    "        epoch_ms(valid_from) as valid_from,\n",
    "        geometry\n",
    "    FROM raw_osm_data;\n",
    "\"\"\"\n",
    "\n",
    "df = con.sql(map_query).df()\n",
    "\n",
    "# convert the data to geodata\n",
    "gdf = gpd.GeoDataFrame(\n",
    "    df,\n",
    "    geometry=gpd.GeoSeries.from_wkt(df['geometry'])\n",
    ").set_crs('epsg:4326')"
   ]
  },
  {
   "cell_type": "markdown",
   "id": "2148dba5-cc88-47c1-9d42-f844613a5b89",
   "metadata": {},
   "source": [
    "Define map parameters and style."
   ]
  },
  {
   "cell_type": "code",
   "execution_count": 60,
   "id": "ad79c9ee-cc45-43e5-bcde-49a18455e870",
   "metadata": {},
   "outputs": [],
   "source": [
    "import datetime\n",
    "import lonboard\n",
    "from palettable.matplotlib import Viridis_20\n",
    "\n",
    "# compute lonboard color style for contious color map\n",
    "min_valid_from = datetime.datetime(2008,1,1).timestamp()\n",
    "max_valid_from = datetime.datetime(2024,7,1).timestamp()\n",
    "\n",
    "\n",
    "# the lonboard map definition\n",
    "layer = lonboard.PathLayer.from_geopandas(\n",
    "    gdf,\n",
    "    extensions=[lonboard.layer_extension.DataFilterExtension(filter_size=1)],\n",
    "    get_filter_value=gdf[\"valid_from\"],  # replace with desired column\n",
    "    filter_range=[min_valid_from, max_valid_from],  # replace with desired filter range\n",
    "    get_color=[255, 0, 0, 125],\n",
    "    get_width=1.5,\n",
    "    width_units='pixels'\n",
    "\n",
    ")\n",
    "\n",
    "currentness_map = lonboard.Map(\n",
    "    basemap_style=lonboard.basemap.CartoBasemap.DarkMatter,\n",
    "    layers=[layer]\n",
    ")"
   ]
  },
  {
   "cell_type": "markdown",
   "id": "1c64c8e9-816f-4735-b165-807d332015e9",
   "metadata": {},
   "source": [
    "Define Dates Slider Selection Widget and link to map filter range."
   ]
  },
  {
   "cell_type": "code",
   "execution_count": 61,
   "id": "6d7587ad-7d28-43bc-9d4c-9fca5d7d7cdc",
   "metadata": {},
   "outputs": [
    {
     "data": {
      "text/plain": [
       "<traitlets.traitlets.directional_link at 0x7c7fa6da9ac0>"
      ]
     },
     "execution_count": 61,
     "metadata": {},
     "output_type": "execute_result"
    }
   ],
   "source": [
    "from datetime import date, timedelta\n",
    "import ipywidgets\n",
    "from traitlets import directional_link\n",
    "\n",
    "start = datetime.datetime(2008,1,1)\n",
    "end = datetime.datetime(2024,6,1)\n",
    "delta = end - start   # returns timedelta\n",
    "dates = [start + timedelta(days=i) for i in range(delta.days + 1)]\n",
    "options = [(i.strftime('%d-%b-%Y'), 1000 * i.timestamp()) for i in dates]\n",
    "\n",
    "date_slider = ipywidgets.SelectionRangeSlider(\n",
    "    options=options,\n",
    "    index=(0, len(dates)-1),\n",
    "    description='Last Edit:',\n",
    "    layout=ipywidgets.Layout(width='1000px'),\n",
    "    disabled=False\n",
    ")\n",
    "\n",
    "directional_link(\n",
    "    (date_slider, 'value'),\n",
    "    (layer, 'filter_range')\n",
    ")"
   ]
  },
  {
   "cell_type": "markdown",
   "id": "c12f0b00-75a3-44e2-addd-fdeda0de6ad7",
   "metadata": {},
   "source": [
    "Display the map. Have fun exploring and moving around the time slider!"
   ]
  },
  {
   "cell_type": "code",
   "execution_count": 62,
   "id": "ce294a3b-176a-42c2-84f5-63bee8237c65",
   "metadata": {},
   "outputs": [
    {
     "data": {
      "application/vnd.jupyter.widget-view+json": {
       "model_id": "cb329891e0034bf19f755c85c8e8133b",
       "version_major": 2,
       "version_minor": 1
      },
      "text/plain": [
       "Map(basemap_style=<CartoBasemap.DarkMatter: 'https://basemaps.cartocdn.com/gl/dark-matter-gl-style/style.json'…"
      ]
     },
     "metadata": {},
     "output_type": "display_data"
    },
    {
     "data": {
      "application/vnd.jupyter.widget-view+json": {
       "model_id": "bf3402b4961542c4bc64f2f7f4ae20c6",
       "version_major": 2,
       "version_minor": 0
      },
      "text/plain": [
       "SelectionRangeSlider(description='Last Edit:', index=(0, 5996), layout=Layout(width='1000px'), options=(('01-J…"
      ]
     },
     "metadata": {},
     "output_type": "display_data"
    }
   ],
   "source": [
    "display(currentness_map, date_slider)"
   ]
  },
  {
   "cell_type": "code",
   "execution_count": null,
   "id": "f5763cbc-6b08-4985-9a8c-8931f7c36fd3",
   "metadata": {},
   "outputs": [],
   "source": []
  }
 ],
 "metadata": {
  "kernelspec": {
   "display_name": "Python 3 (ipykernel)",
   "language": "python",
   "name": "python3"
  },
  "language_info": {
   "codemirror_mode": {
    "name": "ipython",
    "version": 3
   },
   "file_extension": ".py",
   "mimetype": "text/x-python",
   "name": "python",
   "nbconvert_exporter": "python",
   "pygments_lexer": "ipython3",
   "version": "3.12.3"
  }
 },
 "nbformat": 4,
 "nbformat_minor": 5
}
