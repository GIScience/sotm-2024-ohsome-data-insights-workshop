{
 "cells": [
  {
   "cell_type": "markdown",
   "id": "775ea76a-be8d-4abd-b13c-5fb96d54e8da",
   "metadata": {},
   "source": [
    "# Connect to MinIO Object Store\n",
    "\n",
    "### Log-In with OSM Account\n",
    "\n",
    "* Go to https://sotm2024.minio.heigit.org website.\n",
    "* Log-in with your OSM Account credentials.\n",
    "\n",
    "![minio_login](../figs/minio_login.png)\n",
    "\n",
    "### Create Access Key\n",
    "* Create a new access key.\n",
    " \n",
    "![minio_login](../figs/minio_access_key_1.png)\n",
    "\n",
    "* Copy both keys, you'll need them in the next step.\n",
    "  \n",
    "![minio_login](../figs/minio_access_key_2.png)"
   ]
  },
  {
   "cell_type": "markdown",
   "id": "8a8d65c2-8638-4385-a40d-0dfa190d4601",
   "metadata": {},
   "source": [
    "# Connect to MinIO via DuckDB"
   ]
  },
  {
   "cell_type": "code",
   "execution_count": 5,
   "id": "9682aa64-27d7-4b95-98e4-cb49b5a0c4c6",
   "metadata": {},
   "outputs": [],
   "source": [
    "import duckdb\n",
    "con = duckdb.connect()"
   ]
  },
  {
   "cell_type": "markdown",
   "id": "a9654816-9167-486b-9c68-0436ac5133e6",
   "metadata": {},
   "source": [
    "Adjust the code below and add your access keys in there:"
   ]
  },
  {
   "cell_type": "code",
   "execution_count": 6,
   "id": "c3c9bc77-45da-4c7e-8ec5-1276c5bf92f6",
   "metadata": {},
   "outputs": [],
   "source": [
    "import os\n",
    "s3_user = os.environ[\"S3_ACCESS_KEY_ID\"]  # s3_user = 'my_user_access_key'\n",
    "s3_password = os.environ[\"S3_SECRET_ACCESS_KEY\"]  # s3_password = 'my_user_secret_key'"
   ]
  },
  {
   "cell_type": "markdown",
   "id": "e1589972-7ef6-4a21-9bca-9b5f5303faa3",
   "metadata": {},
   "source": [
    "Create DuckDB connection to MinIO."
   ]
  },
  {
   "cell_type": "code",
   "execution_count": 3,
   "id": "289148f3-be4f-4650-946e-6e50e85dbc82",
   "metadata": {},
   "outputs": [
    {
     "name": "stdout",
     "output_type": "stream",
     "text": [
      "┌─────────┐\n",
      "│ Success │\n",
      "│ boolean │\n",
      "├─────────┤\n",
      "│ true    │\n",
      "└─────────┘\n",
      "\n"
     ]
    }
   ],
   "source": [
    "query = f\"\"\"\n",
    "DROP SECRET IF EXISTS \"__default_s3\";\n",
    "CREATE SECRET (\n",
    "      TYPE S3,\n",
    "      KEY_ID '{s3_user}',\n",
    "      SECRET '{s3_password}',\n",
    "      REGION 'eu-central-1',\n",
    "      endpoint 'sotm2024.minio.heigit.org',\n",
    "      use_ssl true,\n",
    "      url_style 'path'\n",
    "  );\n",
    "\"\"\"\n",
    "con.sql(query).show()"
   ]
  },
  {
   "cell_type": "markdown",
   "id": "1c482713-4ab0-411f-98f3-69f54826c5ca",
   "metadata": {},
   "source": [
    "Now you are ready to explore Apache Iceberg Catalog and Iceberg tables in the next step."
   ]
  }
 ],
 "metadata": {
  "kernelspec": {
   "display_name": "Python 3 (ipykernel)",
   "language": "python",
   "name": "python3"
  },
  "language_info": {
   "codemirror_mode": {
    "name": "ipython",
    "version": 3
   },
   "file_extension": ".py",
   "mimetype": "text/x-python",
   "name": "python",
   "nbconvert_exporter": "python",
   "pygments_lexer": "ipython3",
   "version": "3.12.3"
  }
 },
 "nbformat": 4,
 "nbformat_minor": 5
}
