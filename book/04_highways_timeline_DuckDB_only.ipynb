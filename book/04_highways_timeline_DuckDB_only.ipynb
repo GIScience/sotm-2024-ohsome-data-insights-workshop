{
 "cells": [
  {
   "cell_type": "markdown",
   "id": "4db2bafd-697e-4c56-a0aa-9aba263c72d6",
   "metadata": {},
   "source": [
    "# Road Network Evolution\n",
    "In this notebook we demonstrate how to analyze and visualize the development highways in OSM over time.\n",
    "\n",
    "These are the steps you see further down:\n",
    "\n",
    "* Set the connection parameters.\n",
    "* Prepare your input parameters, e.g. define area of interest and time interval.\n",
    "* **Download data** using DuckDB.\n",
    "* Create the mapping saturation **plot**.\n",
    "* Create a **Map**, an **interactive Slider** to filter the map data. "
   ]
  },
  {
   "cell_type": "markdown",
   "id": "3d674481-bbd1-41e8-af30-06f55ddca03c",
   "metadata": {},
   "source": [
    "## Getting started\n",
    "Set connection params."
   ]
  },
  {
   "cell_type": "code",
   "execution_count": 17,
   "id": "46ad1c15-4296-4431-b167-ddd2e0d75417",
   "metadata": {},
   "outputs": [
    {
     "data": {
      "text/plain": [
       "True"
      ]
     },
     "execution_count": 17,
     "metadata": {},
     "output_type": "execute_result"
    }
   ],
   "source": [
    "from dotenv import load_dotenv\n",
    "load_dotenv()"
   ]
  },
  {
   "cell_type": "code",
   "execution_count": 18,
   "id": "c9e38420-73a3-45d6-a84a-fb5448b3dedc",
   "metadata": {},
   "outputs": [],
   "source": [
    "import os\n",
    "\n",
    "s3_user = os.environ[\"S3_ACCESS_KEY_ID\"]  # add your user here\n",
    "s3_password = os.environ[\"S3_SECRET_ACCESS_KEY\"]  # add your password here"
   ]
  },
  {
   "cell_type": "markdown",
   "id": "ed4463d8-471d-4a23-9286-1e7cc8048e92",
   "metadata": {},
   "source": [
    "Configure DuckDB."
   ]
  },
  {
   "cell_type": "code",
   "execution_count": null,
   "id": "f3614762-a35a-4a1e-8c5b-9962541bcc4c",
   "metadata": {},
   "outputs": [],
   "source": "!pip install duckdb==1.2.0"
  },
  {
   "cell_type": "code",
   "execution_count": 19,
   "id": "86bcd8e2-9285-44f2-bd3c-948fe08c545f",
   "metadata": {},
   "outputs": [],
   "source": [
    "import duckdb\n",
    "\n",
    "con = duckdb.connect(\n",
    "    config={\n",
    "        'threads': 32,\n",
    "        'max_memory': '50GB'\n",
    "    }\n",
    ")\n",
    "con.install_extension(\"spatial\")\n",
    "con.load_extension(\"spatial\")"
   ]
  },
  {
   "cell_type": "markdown",
   "id": "6dca6f2a-15ff-45da-84e1-e033c4697a10",
   "metadata": {},
   "source": [
    "Set the connection params to Iceberg Rest Catalog."
   ]
  },
  {
   "cell_type": "code",
   "execution_count": null,
   "id": "89e176e1-f855-4c3d-bd7d-cfe37728b777",
   "metadata": {},
   "outputs": [],
   "source": [
    "!pip install \"pyiceberg[s3fs,duckdb,sql-sqlite,pyarrow]\""
   ]
  },
  {
   "cell_type": "code",
   "execution_count": 20,
   "id": "705608ac-3b13-4f3b-b8cf-685afa1ddbd2",
   "metadata": {},
   "outputs": [],
   "source": [
    "from pyiceberg.catalog.rest import RestCatalog\n",
    "\n",
    "catalog = RestCatalog(\n",
    "    name=\"default\",\n",
    "    **{\n",
    "        \"uri\": \"https://sotm2024.iceberg.ohsome.org\",\n",
    "        \"s3.endpoint\": \"https://sotm2024.minio.heigit.org\",\n",
    "        \"py-io-impl\": \"pyiceberg.io.pyarrow.PyArrowFileIO\",\n",
    "        \"s3.access-key-id\": s3_user,\n",
    "        \"s3.secret-access-key\": s3_password,\n",
    "        \"s3.region\": \"eu-central-1\"\n",
    "    }\n",
    ")"
   ]
  },
  {
   "cell_type": "markdown",
   "id": "1e729452-d070-4d4e-a59c-58cf7d9b54e0",
   "metadata": {},
   "source": [
    "Set connection to MinIO object storage."
   ]
  },
  {
   "cell_type": "code",
   "execution_count": 21,
   "id": "da021474-99e1-40b2-871f-0a817738e60f",
   "metadata": {},
   "outputs": [
    {
     "name": "stdout",
     "output_type": "stream",
     "text": [
      "┌─────────┐\n",
      "│ Success │\n",
      "│ boolean │\n",
      "├─────────┤\n",
      "│ true    │\n",
      "└─────────┘\n",
      "\n"
     ]
    }
   ],
   "source": [
    "query = f\"\"\"\n",
    "DROP SECRET IF EXISTS \"__default_s3\";\n",
    "CREATE SECRET (\n",
    "      TYPE S3,\n",
    "      KEY_ID '{s3_user}',\n",
    "      SECRET '{s3_password}',\n",
    "      REGION 'eu-central-1',\n",
    "      endpoint 'sotm2024.minio.heigit.org',\n",
    "      use_ssl true,\n",
    "      url_style 'path'\n",
    "  );\n",
    "\"\"\"\n",
    "con.sql(query).show()"
   ]
  },
  {
   "cell_type": "markdown",
   "id": "4d0dd278-6f1a-44ae-bf06-fbaa885a28ae",
   "metadata": {},
   "source": [
    "## Prepare the input parameters for your analysis"
   ]
  },
  {
   "cell_type": "code",
   "execution_count": 22,
   "id": "fdb4522d-9326-490d-b4fd-8999bda14553",
   "metadata": {},
   "outputs": [],
   "source": [
    "# Set iceberg table\n",
    "namespace = 'geo_sort'\n",
    "tablename = 'contributions'\n",
    "icebergtable = catalog.load_table((namespace, tablename))\n",
    "\n",
    "\n",
    "# Define location filter\n",
    "bboxes = {\n",
    "    'heidelberg': (8.629761, 49.379556, 8.742371, 49.437890),\n",
    "    'nairobi': (36.650938, -1.444471, 37.103887, -1.163522),\n",
    "    'mannheim': (8.41416, 49.410362, 8.58999, 49.590489), \n",
    "    'berlin': (13.088345, 52.338271, 13.761161, 52.675509)\n",
    "}\n",
    "\n",
    "selected_region = 'nairobi'\n",
    "xmin, ymin, xmax, ymax = bboxes[selected_region]\n",
    "area_of_interest_file = f\"s3a://heigit-ohsome-sotm24/data/sample_data/{selected_region}.geojson\"\n",
    "\n",
    "# Define geometry type filter\n",
    "geometry_type = 'LineString'\n",
    "\n",
    "# Define time range\n",
    "min_timestamp = '2008-01-01'\n",
    "max_timestamp = '2024-01-01'"
   ]
  },
  {
   "cell_type": "markdown",
   "id": "173104f5-0439-4259-97dd-82cc0ecbea5a",
   "metadata": {},
   "source": [
    "## Get the Data\n",
    "Download historic and latest OSM data for bounding box."
   ]
  },
  {
   "cell_type": "code",
   "execution_count": 23,
   "id": "95ce78e6-0b90-4449-8b12-d567005dc709",
   "metadata": {},
   "outputs": [
    {
     "name": "stdout",
     "output_type": "stream",
     "text": [
      "download took 12.624 sec.\n"
     ]
    }
   ],
   "source": [
    "import time\n",
    "start_time = time.time()\n",
    "\n",
    "icebergtable.scan(\n",
    "    row_filter=(\n",
    "        f\"(status = 'latest' or status = 'history')\"\n",
    "        f\"and geometry_type = '{geometry_type}' \"\n",
    "        f\"and (xmax >= {xmin} and xmin <= {xmax}) \"\n",
    "        f\"and (ymax >= {ymin} and ymin <= {ymax}) \"\n",
    "    ),\n",
    "    selected_fields=(\n",
    "        \"user_id\",\n",
    "        \"osm_id\",\n",
    "        \"osm_version\",\n",
    "        \"status\",\n",
    "        \"valid_from\",\n",
    "        \"valid_to\",\n",
    "        \"tags\",\n",
    "        \"geometry\",\n",
    "    ),\n",
    ").to_duckdb('raw_osm_data',connection=con)\n",
    "\n",
    "download_time = round(time.time() - start_time, 3)\n",
    "print(f\"download took {download_time} sec.\")"
   ]
  },
  {
   "cell_type": "markdown",
   "id": "6dbda76a-49e0-4bfb-8305-e30bdcbe4fd0",
   "metadata": {},
   "source": [
    "Clip OSM highways with to area of interest and calculate road length in kilometer."
   ]
  },
  {
   "cell_type": "code",
   "execution_count": 24,
   "id": "f6af5983-b350-4a8a-81b1-cdd27a327896",
   "metadata": {},
   "outputs": [
    {
     "data": {
      "application/vnd.jupyter.widget-view+json": {
       "model_id": "9d143ac0b3474bffb53bce3af2da880a",
       "version_major": 2,
       "version_minor": 0
      },
      "text/plain": [
       "FloatProgress(value=0.0, layout=Layout(width='auto'), style=ProgressStyle(bar_color='black'))"
      ]
     },
     "metadata": {},
     "output_type": "display_data"
    },
    {
     "name": "stdout",
     "output_type": "stream",
     "text": [
      "processing took 30.721 sec.\n"
     ]
    }
   ],
   "source": [
    "import time\n",
    "start_time = time.time()\n",
    "\n",
    "query = f\"\"\"\n",
    "DROP TABLE IF EXISTS osm_data;\n",
    "CREATE TABLE osm_data AS \n",
    "(\n",
    "SELECT\n",
    "    a.osm_id,\n",
    "    a.osm_version,\n",
    "    a.status,\n",
    "    a.valid_from,\n",
    "    a.valid_to,\n",
    "    a.tags,\n",
    "    ST_Intersection(ST_GeomFromText(a.geometry), aoi.geom) as clipped_geometry,\n",
    "    ST_Length_Spheroid(clipped_geometry) / 1000 as length_km\n",
    "FROM\n",
    "    raw_osm_data as a,\n",
    "    st_read('{area_of_interest_file}') as aoi\n",
    "WHERE 1=1\n",
    "    and tags['highway'] is not null\n",
    "    -- spatial filtering part\n",
    "    and ST_Intersects(st_GeomFromText(a.geometry), aoi.geom)\n",
    ")\n",
    ";\n",
    "\"\"\"\n",
    "con.sql(query)\n",
    "\n",
    "processing_time = round(time.time() - start_time, 3)\n",
    "print(f\"processing took {processing_time} sec.\")"
   ]
  },
  {
   "cell_type": "markdown",
   "id": "f23808c7-ce8f-4612-b90f-24b19f6c8879",
   "metadata": {},
   "source": [
    "## Plot chart"
   ]
  },
  {
   "cell_type": "code",
   "execution_count": 25,
   "id": "24a1943a-9f21-434d-b682-2c18daa94345",
   "metadata": {},
   "outputs": [],
   "source": [
    "query = f\"\"\"\n",
    "DROP TABLE IF EXISTS osm_stats;\n",
    "CREATE TABLE osm_stats AS\n",
    "(\n",
    "with \n",
    "snapshots as (\n",
    "    SELECT \n",
    "    row_number() OVER () as snapshot_index,\n",
    "    range AS datetime_key \n",
    "    FROM RANGE(DATE '{min_timestamp}', DATE '{max_timestamp}', INTERVAL 1 MONTH)\n",
    ")\n",
    "SELECT\n",
    "    snapshots.snapshot_index,\n",
    "    snapshots.datetime_key,\n",
    "    osm_id,\n",
    "    valid_from,\n",
    "    valid_to,\n",
    "    length_km,\n",
    "    clipped_geometry\n",
    "FROM snapshots\n",
    "JOIN osm_data on (\n",
    "    snapshots.datetime_key >= osm_data.valid_from\n",
    "    and\n",
    "    snapshots.datetime_key <= osm_data.valid_to\n",
    "    )\n",
    "ORDER BY snapshot_index\n",
    ");\n",
    "\"\"\"\n",
    "con.sql(query)"
   ]
  },
  {
   "cell_type": "code",
   "execution_count": 26,
   "id": "07dd3e0f-4002-4669-af00-7a300198c335",
   "metadata": {},
   "outputs": [
    {
     "data": {},
     "metadata": {},
     "output_type": "display_data"
    },
    {
     "data": {
      "application/vnd.holoviews_exec.v0+json": "",
      "text/html": [
       "<div id='p1081'>\n",
       "  <div id=\"aa78df35-6ad6-437e-a977-9c5e9eddfad5\" data-root-id=\"p1081\" style=\"display: contents;\"></div>\n",
       "</div>\n",
       "<script type=\"application/javascript\">(function(root) {\n",
       "  var docs_json = {\"d2004170-08e3-45fc-be28-8cdc21219027\":{\"version\":\"3.5.1\",\"title\":\"Bokeh Application\",\"roots\":[{\"type\":\"object\",\"name\":\"Row\",\"id\":\"p1081\",\"attributes\":{\"name\":\"Row01052\",\"tags\":[\"embedded\"],\"stylesheets\":[\"\\n:host(.pn-loading):before, .pn-loading:before {\\n  background-color: #c3c3c3;\\n  mask-size: auto calc(min(50%, 400px));\\n  -webkit-mask-size: auto calc(min(50%, 400px));\\n}\",{\"type\":\"object\",\"name\":\"ImportedStyleSheet\",\"id\":\"p1084\",\"attributes\":{\"url\":\"https://cdn.holoviz.org/panel/1.5.0-b.3/dist/css/loading.css\"}},{\"type\":\"object\",\"name\":\"ImportedStyleSheet\",\"id\":\"p1154\",\"attributes\":{\"url\":\"https://cdn.holoviz.org/panel/1.5.0-b.3/dist/css/listpanel.css\"}},{\"type\":\"object\",\"name\":\"ImportedStyleSheet\",\"id\":\"p1082\",\"attributes\":{\"url\":\"https://cdn.holoviz.org/panel/1.5.0-b.3/dist/bundled/theme/default.css\"}},{\"type\":\"object\",\"name\":\"ImportedStyleSheet\",\"id\":\"p1083\",\"attributes\":{\"url\":\"https://cdn.holoviz.org/panel/1.5.0-b.3/dist/bundled/theme/native.css\"}}],\"min_width\":700,\"margin\":0,\"sizing_mode\":\"stretch_width\",\"align\":\"start\",\"children\":[{\"type\":\"object\",\"name\":\"Spacer\",\"id\":\"p1085\",\"attributes\":{\"name\":\"HSpacer01059\",\"stylesheets\":[\"\\n:host(.pn-loading):before, .pn-loading:before {\\n  background-color: #c3c3c3;\\n  mask-size: auto calc(min(50%, 400px));\\n  -webkit-mask-size: auto calc(min(50%, 400px));\\n}\",{\"id\":\"p1084\"},{\"id\":\"p1082\"},{\"id\":\"p1083\"}],\"margin\":0,\"sizing_mode\":\"stretch_width\",\"align\":\"start\"}},{\"type\":\"object\",\"name\":\"Figure\",\"id\":\"p1093\",\"attributes\":{\"width\":700,\"height\":300,\"margin\":[5,10],\"sizing_mode\":\"fixed\",\"align\":\"start\",\"x_range\":{\"type\":\"object\",\"name\":\"Range1d\",\"id\":\"p1086\",\"attributes\":{\"tags\":[[[\"month\",null]],[]],\"start\":1199145600000.0,\"end\":1701388800000.0,\"reset_start\":1199145600000.0,\"reset_end\":1701388800000.0}},\"y_range\":{\"type\":\"object\",\"name\":\"Range1d\",\"id\":\"p1087\",\"attributes\":{\"tags\":[[[\"length_km\",null]],{\"type\":\"map\",\"entries\":[[\"invert_yaxis\",false],[\"autorange\",false]]}],\"start\":-450.68110350868596,\"end\":7525.142515130926,\"reset_start\":-450.68110350868596,\"reset_end\":7525.142515130926}},\"x_scale\":{\"type\":\"object\",\"name\":\"LinearScale\",\"id\":\"p1103\"},\"y_scale\":{\"type\":\"object\",\"name\":\"LinearScale\",\"id\":\"p1104\"},\"title\":{\"type\":\"object\",\"name\":\"Title\",\"id\":\"p1096\",\"attributes\":{\"text_color\":\"black\",\"text_font_size\":\"12pt\"}},\"renderers\":[{\"type\":\"object\",\"name\":\"GlyphRenderer\",\"id\":\"p1147\",\"attributes\":{\"data_source\":{\"type\":\"object\",\"name\":\"ColumnDataSource\",\"id\":\"p1138\",\"attributes\":{\"selected\":{\"type\":\"object\",\"name\":\"Selection\",\"id\":\"p1139\",\"attributes\":{\"indices\":[],\"line_indices\":[]}},\"selection_policy\":{\"type\":\"object\",\"name\":\"UnionRenderers\",\"id\":\"p1140\"},\"data\":{\"type\":\"map\",\"entries\":[[\"month\",{\"type\":\"ndarray\",\"array\":{\"type\":\"bytes\",\"data\":\"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\"},\"shape\":[192],\"dtype\":\"float64\",\"order\":\"little\"}],[\"length_km\",{\"type\":\"ndarray\",\"array\":{\"type\":\"bytes\",\"data\":\"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\"},\"shape\":[192],\"dtype\":\"float64\",\"order\":\"little\"}]]}}},\"view\":{\"type\":\"object\",\"name\":\"CDSView\",\"id\":\"p1148\",\"attributes\":{\"filter\":{\"type\":\"object\",\"name\":\"AllIndices\",\"id\":\"p1149\"}}},\"glyph\":{\"type\":\"object\",\"name\":\"Line\",\"id\":\"p1144\",\"attributes\":{\"tags\":[\"apply_ranges\"],\"x\":{\"type\":\"field\",\"field\":\"month\"},\"y\":{\"type\":\"field\",\"field\":\"length_km\"},\"line_color\":\"#30a2da\",\"line_width\":2}},\"selection_glyph\":{\"type\":\"object\",\"name\":\"Line\",\"id\":\"p1150\",\"attributes\":{\"tags\":[\"apply_ranges\"],\"x\":{\"type\":\"field\",\"field\":\"month\"},\"y\":{\"type\":\"field\",\"field\":\"length_km\"},\"line_color\":\"#30a2da\",\"line_width\":2}},\"nonselection_glyph\":{\"type\":\"object\",\"name\":\"Line\",\"id\":\"p1145\",\"attributes\":{\"tags\":[\"apply_ranges\"],\"x\":{\"type\":\"field\",\"field\":\"month\"},\"y\":{\"type\":\"field\",\"field\":\"length_km\"},\"line_color\":\"#30a2da\",\"line_alpha\":0.1,\"line_width\":2}},\"muted_glyph\":{\"type\":\"object\",\"name\":\"Line\",\"id\":\"p1146\",\"attributes\":{\"tags\":[\"apply_ranges\"],\"x\":{\"type\":\"field\",\"field\":\"month\"},\"y\":{\"type\":\"field\",\"field\":\"length_km\"},\"line_color\":\"#30a2da\",\"line_alpha\":0.2,\"line_width\":2}}}}],\"toolbar\":{\"type\":\"object\",\"name\":\"Toolbar\",\"id\":\"p1102\",\"attributes\":{\"tools\":[{\"type\":\"object\",\"name\":\"WheelZoomTool\",\"id\":\"p1091\",\"attributes\":{\"tags\":[\"hv_created\"],\"renderers\":\"auto\",\"zoom_together\":\"none\"}},{\"type\":\"object\",\"name\":\"HoverTool\",\"id\":\"p1092\",\"attributes\":{\"tags\":[\"hv_created\"],\"renderers\":[{\"id\":\"p1147\"}],\"tooltips\":[[\"month\",\"@{month}{%F %T}\"],[\"length_km\",\"@{length_km}\"]],\"formatters\":{\"type\":\"map\",\"entries\":[[\"@{month}\",\"datetime\"]]}}},{\"type\":\"object\",\"name\":\"SaveTool\",\"id\":\"p1127\"},{\"type\":\"object\",\"name\":\"PanTool\",\"id\":\"p1128\"},{\"type\":\"object\",\"name\":\"BoxZoomTool\",\"id\":\"p1129\",\"attributes\":{\"overlay\":{\"type\":\"object\",\"name\":\"BoxAnnotation\",\"id\":\"p1130\",\"attributes\":{\"syncable\":false,\"line_color\":\"black\",\"line_alpha\":1.0,\"line_width\":2,\"line_dash\":[4,4],\"fill_color\":\"lightgrey\",\"fill_alpha\":0.5,\"level\":\"overlay\",\"visible\":false,\"left\":{\"type\":\"number\",\"value\":\"nan\"},\"right\":{\"type\":\"number\",\"value\":\"nan\"},\"top\":{\"type\":\"number\",\"value\":\"nan\"},\"bottom\":{\"type\":\"number\",\"value\":\"nan\"},\"left_units\":\"canvas\",\"right_units\":\"canvas\",\"top_units\":\"canvas\",\"bottom_units\":\"canvas\",\"handles\":{\"type\":\"object\",\"name\":\"BoxInteractionHandles\",\"id\":\"p1136\",\"attributes\":{\"all\":{\"type\":\"object\",\"name\":\"AreaVisuals\",\"id\":\"p1135\",\"attributes\":{\"fill_color\":\"white\",\"hover_fill_color\":\"lightgray\"}}}}}}}},{\"type\":\"object\",\"name\":\"ResetTool\",\"id\":\"p1137\"}],\"active_drag\":{\"id\":\"p1128\"},\"active_scroll\":{\"id\":\"p1091\"}}},\"left\":[{\"type\":\"object\",\"name\":\"LinearAxis\",\"id\":\"p1122\",\"attributes\":{\"ticker\":{\"type\":\"object\",\"name\":\"BasicTicker\",\"id\":\"p1123\",\"attributes\":{\"mantissas\":[1,2,5]}},\"formatter\":{\"type\":\"object\",\"name\":\"BasicTickFormatter\",\"id\":\"p1124\"},\"axis_label\":\"length_km\",\"major_label_policy\":{\"type\":\"object\",\"name\":\"AllLabels\",\"id\":\"p1125\"}}}],\"below\":[{\"type\":\"object\",\"name\":\"DatetimeAxis\",\"id\":\"p1105\",\"attributes\":{\"ticker\":{\"type\":\"object\",\"name\":\"DatetimeTicker\",\"id\":\"p1106\",\"attributes\":{\"num_minor_ticks\":5,\"tickers\":[{\"type\":\"object\",\"name\":\"AdaptiveTicker\",\"id\":\"p1107\",\"attributes\":{\"num_minor_ticks\":0,\"mantissas\":[1,2,5],\"max_interval\":500.0}},{\"type\":\"object\",\"name\":\"AdaptiveTicker\",\"id\":\"p1108\",\"attributes\":{\"num_minor_ticks\":0,\"base\":60,\"mantissas\":[1,2,5,10,15,20,30],\"min_interval\":1000.0,\"max_interval\":1800000.0}},{\"type\":\"object\",\"name\":\"AdaptiveTicker\",\"id\":\"p1109\",\"attributes\":{\"num_minor_ticks\":0,\"base\":24,\"mantissas\":[1,2,4,6,8,12],\"min_interval\":3600000.0,\"max_interval\":43200000.0}},{\"type\":\"object\",\"name\":\"DaysTicker\",\"id\":\"p1110\",\"attributes\":{\"days\":[1,2,3,4,5,6,7,8,9,10,11,12,13,14,15,16,17,18,19,20,21,22,23,24,25,26,27,28,29,30,31]}},{\"type\":\"object\",\"name\":\"DaysTicker\",\"id\":\"p1111\",\"attributes\":{\"days\":[1,4,7,10,13,16,19,22,25,28]}},{\"type\":\"object\",\"name\":\"DaysTicker\",\"id\":\"p1112\",\"attributes\":{\"days\":[1,8,15,22]}},{\"type\":\"object\",\"name\":\"DaysTicker\",\"id\":\"p1113\",\"attributes\":{\"days\":[1,15]}},{\"type\":\"object\",\"name\":\"MonthsTicker\",\"id\":\"p1114\",\"attributes\":{\"months\":[0,1,2,3,4,5,6,7,8,9,10,11]}},{\"type\":\"object\",\"name\":\"MonthsTicker\",\"id\":\"p1115\",\"attributes\":{\"months\":[0,2,4,6,8,10]}},{\"type\":\"object\",\"name\":\"MonthsTicker\",\"id\":\"p1116\",\"attributes\":{\"months\":[0,4,8]}},{\"type\":\"object\",\"name\":\"MonthsTicker\",\"id\":\"p1117\",\"attributes\":{\"months\":[0,6]}},{\"type\":\"object\",\"name\":\"YearsTicker\",\"id\":\"p1118\"}]}},\"formatter\":{\"type\":\"object\",\"name\":\"DatetimeTickFormatter\",\"id\":\"p1119\"},\"axis_label\":\"month\",\"major_label_policy\":{\"type\":\"object\",\"name\":\"AllLabels\",\"id\":\"p1120\"}}}],\"center\":[{\"type\":\"object\",\"name\":\"Grid\",\"id\":\"p1121\",\"attributes\":{\"axis\":{\"id\":\"p1105\"},\"grid_line_color\":null}},{\"type\":\"object\",\"name\":\"Grid\",\"id\":\"p1126\",\"attributes\":{\"dimension\":1,\"axis\":{\"id\":\"p1122\"},\"grid_line_color\":null}}],\"min_border_top\":10,\"min_border_bottom\":10,\"min_border_left\":10,\"min_border_right\":10,\"output_backend\":\"webgl\"}},{\"type\":\"object\",\"name\":\"Spacer\",\"id\":\"p1152\",\"attributes\":{\"name\":\"HSpacer01060\",\"stylesheets\":[\"\\n:host(.pn-loading):before, .pn-loading:before {\\n  background-color: #c3c3c3;\\n  mask-size: auto calc(min(50%, 400px));\\n  -webkit-mask-size: auto calc(min(50%, 400px));\\n}\",{\"id\":\"p1084\"},{\"id\":\"p1082\"},{\"id\":\"p1083\"}],\"margin\":0,\"sizing_mode\":\"stretch_width\",\"align\":\"start\"}}]}}],\"defs\":[{\"type\":\"model\",\"name\":\"ReactiveHTML1\"},{\"type\":\"model\",\"name\":\"FlexBox1\",\"properties\":[{\"name\":\"align_content\",\"kind\":\"Any\",\"default\":\"flex-start\"},{\"name\":\"align_items\",\"kind\":\"Any\",\"default\":\"flex-start\"},{\"name\":\"flex_direction\",\"kind\":\"Any\",\"default\":\"row\"},{\"name\":\"flex_wrap\",\"kind\":\"Any\",\"default\":\"wrap\"},{\"name\":\"gap\",\"kind\":\"Any\",\"default\":\"\"},{\"name\":\"justify_content\",\"kind\":\"Any\",\"default\":\"flex-start\"}]},{\"type\":\"model\",\"name\":\"FloatPanel1\",\"properties\":[{\"name\":\"config\",\"kind\":\"Any\",\"default\":{\"type\":\"map\"}},{\"name\":\"contained\",\"kind\":\"Any\",\"default\":true},{\"name\":\"position\",\"kind\":\"Any\",\"default\":\"right-top\"},{\"name\":\"offsetx\",\"kind\":\"Any\",\"default\":null},{\"name\":\"offsety\",\"kind\":\"Any\",\"default\":null},{\"name\":\"theme\",\"kind\":\"Any\",\"default\":\"primary\"},{\"name\":\"status\",\"kind\":\"Any\",\"default\":\"normalized\"}]},{\"type\":\"model\",\"name\":\"GridStack1\",\"properties\":[{\"name\":\"mode\",\"kind\":\"Any\",\"default\":\"warn\"},{\"name\":\"ncols\",\"kind\":\"Any\",\"default\":null},{\"name\":\"nrows\",\"kind\":\"Any\",\"default\":null},{\"name\":\"allow_resize\",\"kind\":\"Any\",\"default\":true},{\"name\":\"allow_drag\",\"kind\":\"Any\",\"default\":true},{\"name\":\"state\",\"kind\":\"Any\",\"default\":[]}]},{\"type\":\"model\",\"name\":\"drag1\",\"properties\":[{\"name\":\"slider_width\",\"kind\":\"Any\",\"default\":5},{\"name\":\"slider_color\",\"kind\":\"Any\",\"default\":\"black\"},{\"name\":\"value\",\"kind\":\"Any\",\"default\":50}]},{\"type\":\"model\",\"name\":\"click1\",\"properties\":[{\"name\":\"terminal_output\",\"kind\":\"Any\",\"default\":\"\"},{\"name\":\"debug_name\",\"kind\":\"Any\",\"default\":\"\"},{\"name\":\"clears\",\"kind\":\"Any\",\"default\":0}]},{\"type\":\"model\",\"name\":\"FastWrapper1\",\"properties\":[{\"name\":\"object\",\"kind\":\"Any\",\"default\":null},{\"name\":\"style\",\"kind\":\"Any\",\"default\":null}]},{\"type\":\"model\",\"name\":\"NotificationAreaBase1\",\"properties\":[{\"name\":\"js_events\",\"kind\":\"Any\",\"default\":{\"type\":\"map\"}},{\"name\":\"position\",\"kind\":\"Any\",\"default\":\"bottom-right\"},{\"name\":\"_clear\",\"kind\":\"Any\",\"default\":0}]},{\"type\":\"model\",\"name\":\"NotificationArea1\",\"properties\":[{\"name\":\"js_events\",\"kind\":\"Any\",\"default\":{\"type\":\"map\"}},{\"name\":\"notifications\",\"kind\":\"Any\",\"default\":[]},{\"name\":\"position\",\"kind\":\"Any\",\"default\":\"bottom-right\"},{\"name\":\"_clear\",\"kind\":\"Any\",\"default\":0},{\"name\":\"types\",\"kind\":\"Any\",\"default\":[{\"type\":\"map\",\"entries\":[[\"type\",\"warning\"],[\"background\",\"#ffc107\"],[\"icon\",{\"type\":\"map\",\"entries\":[[\"className\",\"fas fa-exclamation-triangle\"],[\"tagName\",\"i\"],[\"color\",\"white\"]]}]]},{\"type\":\"map\",\"entries\":[[\"type\",\"info\"],[\"background\",\"#007bff\"],[\"icon\",{\"type\":\"map\",\"entries\":[[\"className\",\"fas fa-info-circle\"],[\"tagName\",\"i\"],[\"color\",\"white\"]]}]]}]}]},{\"type\":\"model\",\"name\":\"Notification\",\"properties\":[{\"name\":\"background\",\"kind\":\"Any\",\"default\":null},{\"name\":\"duration\",\"kind\":\"Any\",\"default\":3000},{\"name\":\"icon\",\"kind\":\"Any\",\"default\":null},{\"name\":\"message\",\"kind\":\"Any\",\"default\":\"\"},{\"name\":\"notification_type\",\"kind\":\"Any\",\"default\":null},{\"name\":\"_destroyed\",\"kind\":\"Any\",\"default\":false}]},{\"type\":\"model\",\"name\":\"TemplateActions1\",\"properties\":[{\"name\":\"open_modal\",\"kind\":\"Any\",\"default\":0},{\"name\":\"close_modal\",\"kind\":\"Any\",\"default\":0}]},{\"type\":\"model\",\"name\":\"BootstrapTemplateActions1\",\"properties\":[{\"name\":\"open_modal\",\"kind\":\"Any\",\"default\":0},{\"name\":\"close_modal\",\"kind\":\"Any\",\"default\":0}]},{\"type\":\"model\",\"name\":\"TemplateEditor1\",\"properties\":[{\"name\":\"layout\",\"kind\":\"Any\",\"default\":[]}]},{\"type\":\"model\",\"name\":\"MaterialTemplateActions1\",\"properties\":[{\"name\":\"open_modal\",\"kind\":\"Any\",\"default\":0},{\"name\":\"close_modal\",\"kind\":\"Any\",\"default\":0}]},{\"type\":\"model\",\"name\":\"copy_to_clipboard1\",\"properties\":[{\"name\":\"fill\",\"kind\":\"Any\",\"default\":\"none\"},{\"name\":\"value\",\"kind\":\"Any\",\"default\":null}]}]}};\n",
       "  var render_items = [{\"docid\":\"d2004170-08e3-45fc-be28-8cdc21219027\",\"roots\":{\"p1081\":\"aa78df35-6ad6-437e-a977-9c5e9eddfad5\"},\"root_ids\":[\"p1081\"]}];\n",
       "  var docs = Object.values(docs_json)\n",
       "  if (!docs) {\n",
       "    return\n",
       "  }\n",
       "  const py_version = docs[0].version.replace('rc', '-rc.').replace('.dev', '-dev.')\n",
       "  async function embed_document(root) {\n",
       "    var Bokeh = get_bokeh(root)\n",
       "    await Bokeh.embed.embed_items_notebook(docs_json, render_items);\n",
       "    for (const render_item of render_items) {\n",
       "      for (const root_id of render_item.root_ids) {\n",
       "\tconst id_el = document.getElementById(root_id)\n",
       "\tif (id_el.children.length && id_el.children[0].hasAttribute('data-root-id')) {\n",
       "\t  const root_el = id_el.children[0]\n",
       "\t  root_el.id = root_el.id + '-rendered'\n",
       "\t  for (const child of root_el.children) {\n",
       "            // Ensure JupyterLab does not capture keyboard shortcuts\n",
       "            // see: https://jupyterlab.readthedocs.io/en/4.1.x/extension/notebook.html#keyboard-interaction-model\n",
       "\t    child.setAttribute('data-lm-suppress-shortcuts', 'true')\n",
       "\t  }\n",
       "\t}\n",
       "      }\n",
       "    }\n",
       "  }\n",
       "  function get_bokeh(root) {\n",
       "    if (root.Bokeh === undefined) {\n",
       "      return null\n",
       "    } else if (root.Bokeh.version !== py_version) {\n",
       "      if (root.Bokeh.versions === undefined || !root.Bokeh.versions.has(py_version)) {\n",
       "\treturn null\n",
       "      }\n",
       "      return root.Bokeh.versions.get(py_version);\n",
       "    } else if (root.Bokeh.version === py_version) {\n",
       "      return root.Bokeh\n",
       "    }\n",
       "    return null\n",
       "  }\n",
       "  function is_loaded(root) {\n",
       "    var Bokeh = get_bokeh(root)\n",
       "    return (Bokeh != null && Bokeh.Panel !== undefined)\n",
       "  }\n",
       "  if (is_loaded(root)) {\n",
       "    embed_document(root);\n",
       "  } else {\n",
       "    var attempts = 0;\n",
       "    var timer = setInterval(function(root) {\n",
       "      if (is_loaded(root)) {\n",
       "        clearInterval(timer);\n",
       "        embed_document(root);\n",
       "      } else if (document.readyState == \"complete\") {\n",
       "        attempts++;\n",
       "        if (attempts > 200) {\n",
       "          clearInterval(timer);\n",
       "\t  var Bokeh = get_bokeh(root)\n",
       "\t  if (Bokeh == null || Bokeh.Panel == null) {\n",
       "            console.warn(\"Panel: ERROR: Unable to run Panel code because Bokeh or Panel library is missing\");\n",
       "\t  } else {\n",
       "\t    console.warn(\"Panel: WARNING: Attempting to render but not all required libraries could be resolved.\")\n",
       "\t    embed_document(root)\n",
       "\t  }\n",
       "        }\n",
       "      }\n",
       "    }, 25, root)\n",
       "  }\n",
       "})(window);</script>"
      ],
      "text/plain": [
       ":Curve   [month]   (length_km)"
      ]
     },
     "metadata": {
      "application/vnd.holoviews_exec.v0+json": {
       "id": "p1081"
      }
     },
     "output_type": "display_data"
    }
   ],
   "source": [
    "chart_query = f\"\"\"\n",
    "SELECT\n",
    "  DATE '{min_timestamp}' + INTERVAL (snapshot_index-1) MONTH as month,\n",
    "  --(sum(road_length)/1000)::int8 as length_km\n",
    "  sum(length_km) as length_km\n",
    "FROM osm_stats\n",
    "GROUP BY month\n",
    "ORDER BY month ASC\n",
    "\"\"\"\n",
    "\n",
    "chart_data = con.sql(chart_query).pl()\n",
    "chart = chart_data.plot.line(x=\"month\", y=\"length_km\", xaxis='top', width=700, responsive=False)\n",
    "display(chart)"
   ]
  },
  {
   "cell_type": "markdown",
   "id": "827c7cb8-147e-4301-a607-9ded8602e06a",
   "metadata": {},
   "source": [
    "## Display OSM highway evolution on map\n",
    "Get data from DucDKB into GeoPandas dataframe."
   ]
  },
  {
   "cell_type": "code",
   "execution_count": 27,
   "id": "efab832a-569a-4bea-9422-0a50ac1afb49",
   "metadata": {},
   "outputs": [],
   "source": [
    "import pandas as pd\n",
    "import geopandas as gpd\n",
    "\n",
    "map_query = f\"\"\"\n",
    "SELECT\n",
    "    osm_id,\n",
    "    epoch_ms(valid_from) as valid_from,\n",
    "    epoch_ms(valid_to) as valid_to,\n",
    "    ST_asText(clipped_geometry) as geometry,\n",
    "FROM osm_data\n",
    "WHERE ST_GeometryType(clipped_geometry) in ('LINESTRING', 'MULTILINESTRING');\n",
    "\"\"\"\n",
    "\n",
    "df = con.sql(map_query).df()\n",
    "\n",
    "# convert the data to geodata\n",
    "gdf = gpd.GeoDataFrame(\n",
    "    df,\n",
    "    geometry=gpd.GeoSeries.from_wkt(df['geometry'])\n",
    ").set_crs('epsg:4326')"
   ]
  },
  {
   "cell_type": "markdown",
   "id": "6bb0b3fe-7c12-4381-b906-ecfa95a9c4c7",
   "metadata": {},
   "source": [
    "Define map parameters and style."
   ]
  },
  {
   "cell_type": "code",
   "execution_count": 29,
   "id": "ff149fef-9f16-47fb-8f5d-953ca5b4b53c",
   "metadata": {},
   "outputs": [],
   "source": [
    "import lonboard\n",
    "import numpy as np\n",
    "import datetime\n",
    "\n",
    "# compute lonboard color style for contious color map\n",
    "min_valid_from = float(gdf[\"valid_from\"].min())\n",
    "max_valid_to = float(gdf[\"valid_to\"].max())\n",
    "default_snapshot = 1000 * datetime.datetime(2012,1,1).timestamp()\n",
    "\n",
    "# lonboard gpu filtering\n",
    "filter_values =  np.column_stack(\n",
    "    [gdf[\"valid_from\"], gdf[\"valid_to\"]]\n",
    ")\n",
    "\n",
    "initial_filter_range = [\n",
    "    [min_valid_from, default_snapshot],\n",
    "    [default_snapshot, max_valid_to]\n",
    "]\n",
    "\n",
    "\n",
    "# the lonboard map definition\n",
    "layer = lonboard.PathLayer.from_geopandas(\n",
    "    gdf,\n",
    "    extensions=[lonboard.layer_extension.DataFilterExtension(filter_size=2)],\n",
    "    get_filter_value=filter_values,  # replace with desired column\n",
    "    filter_range=initial_filter_range,  # replace with desired filter range\n",
    "    get_color=[0,255,255,255],\n",
    "    width_min_pixels=0.8,\n",
    ")\n",
    "\n",
    "view_state = {\n",
    "    \"longitude\": xmin + ((xmax - xmin) / 2),\n",
    "    \"latitude\": ymin + ((ymax - ymin) / 2),\n",
    "    \"zoom\": 9,\n",
    "}\n",
    "\n",
    "osm_evolution_map = lonboard.Map(\n",
    "    basemap_style=lonboard.basemap.CartoBasemap.DarkMatter,\n",
    "    layers=[layer],\n",
    "    view_state=view_state\n",
    ")"
   ]
  },
  {
   "cell_type": "markdown",
   "id": "eaaaba55-2a47-45ec-94a7-3c7c4aa07d8e",
   "metadata": {},
   "source": [
    "Set date slider."
   ]
  },
  {
   "cell_type": "code",
   "execution_count": null,
   "id": "f53b828c-fbf2-4e7b-980a-a9799d621434",
   "metadata": {},
   "outputs": [],
   "source": [
    "import datetime\n",
    "from dateutil.relativedelta import relativedelta\n",
    "import ipywidgets\n",
    "from traitlets import directional_link\n",
    "\n",
    "dates = pd.date_range(min_timestamp, max_timestamp, freq='MS').tolist()\n",
    "options = [(date.strftime('%d-%b-%Y'), 1000 * date.timestamp()) for i, date in enumerate(dates)]\n",
    "\n",
    "date_slider = ipywidgets.SelectionSlider(\n",
    "    options=options,\n",
    "    description='Day:',\n",
    "    layout=ipywidgets.Layout(width='1000px'),\n",
    "    disabled=False\n",
    ")\n",
    "\n",
    "directional_link(\n",
    "    (date_slider, 'value'),\n",
    "    (layer, \"filter_range\"),\n",
    "    transform=lambda v: ((min_valid_from,v),(v,max_valid_to))\n",
    ")"
   ]
  },
  {
   "cell_type": "markdown",
   "id": "fad04322-bb80-4be1-801f-23ffddc36b58",
   "metadata": {},
   "source": [
    "Display the map. Have fun exploring and moving around the time slider!"
   ]
  },
  {
   "cell_type": "code",
   "execution_count": null,
   "id": "42ac6bb9-fd86-41a2-a84a-141802abeaf9",
   "metadata": {},
   "outputs": [],
   "source": [
    "display(osm_evolution_map, date_slider)"
   ]
  },
  {
   "cell_type": "code",
   "execution_count": null,
   "id": "6e2db5c7-1c6a-4884-8c84-54f251be2bae",
   "metadata": {},
   "outputs": [],
   "source": []
  }
 ],
 "metadata": {
  "kernelspec": {
   "display_name": "Python 3 (ipykernel)",
   "language": "python",
   "name": "python3"
  },
  "language_info": {
   "codemirror_mode": {
    "name": "ipython",
    "version": 3
   },
   "file_extension": ".py",
   "mimetype": "text/x-python",
   "name": "python",
   "nbconvert_exporter": "python",
   "pygments_lexer": "ipython3",
   "version": "3.12.3"
  }
 },
 "nbformat": 4,
 "nbformat_minor": 5
}
