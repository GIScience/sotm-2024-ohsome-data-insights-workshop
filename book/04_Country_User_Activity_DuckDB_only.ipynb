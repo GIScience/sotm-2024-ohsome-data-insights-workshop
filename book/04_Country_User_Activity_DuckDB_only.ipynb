{
 "cells": [
  {
   "cell_type": "markdown",
   "id": "e9dc6612-474d-4acc-b582-c1938fc934e7",
   "metadata": {},
   "source": [
    "# User activity map\n",
    "In this notebook we demonstrate how to analyze and visualize daily OSM user activity for a country.\n",
    "\n",
    "These are the steps you see further down:\n",
    "\n",
    "* Set the connection parameters.\n",
    "* Prepare your input parameters, e.g. define area of interest and time interval.\n",
    "* **Download data** using DuckDB.\n",
    "* Create a **Map**, an **interactive Slider** to filter the map data. "
   ]
  },
  {
   "cell_type": "markdown",
   "id": "c05030dc-5478-4d48-a1c3-514393d1ce1c",
   "metadata": {},
   "source": [
    "## Getting started\n",
    "Set connection params."
   ]
  },
  {
   "cell_type": "code",
   "execution_count": 3,
   "id": "28abef98-ce6d-416f-b9e5-6902792febec",
   "metadata": {},
   "outputs": [],
   "source": [
    "import os\n",
    "\n",
    "s3_user = os.environ[\"S3_ACCESS_KEY_ID\"]  # add your user here\n",
    "s3_password = os.environ[\"S3_SECRET_ACCESS_KEY\"]  # add your password here"
   ]
  },
  {
   "cell_type": "markdown",
   "id": "af71f416-dd81-4b3d-bef1-5a6b86a0ae14",
   "metadata": {},
   "source": [
    "Configure DuckDB."
   ]
  },
  {
   "cell_type": "code",
   "execution_count": 4,
   "id": "d025997b-17a6-42b9-9b76-e95c5293fc79",
   "metadata": {},
   "outputs": [],
   "source": [
    "import duckdb\n",
    "\n",
    "con = duckdb.connect(\n",
    "    config={\n",
    "        'threads': 32,\n",
    "        'max_memory': '50GB',\n",
    "        'enable_object_cache': True\n",
    "    }\n",
    ")\n",
    "con.install_extension(\"spatial\")\n",
    "con.load_extension(\"spatial\")"
   ]
  },
  {
   "cell_type": "markdown",
   "id": "3698a75f-ff95-463b-98dd-2dd05680c94e",
   "metadata": {},
   "source": [
    "Set the connection params to Iceberg Rest Catalog."
   ]
  },
  {
   "cell_type": "code",
   "execution_count": null,
   "id": "39b78ffb-9f49-4a66-bbb3-b752992deb07",
   "metadata": {},
   "outputs": [],
   "source": [
    "!pip install \"pyiceberg[s3fs,duckdb,sql-sqlite,pyarrow]\""
   ]
  },
  {
   "cell_type": "code",
   "execution_count": 5,
   "id": "939cfc99-0c29-4e09-872a-083d7364a957",
   "metadata": {},
   "outputs": [],
   "source": [
    "from pyiceberg.catalog.rest import RestCatalog\n",
    "\n",
    "catalog = RestCatalog(\n",
    "    name=\"default\",\n",
    "    **{\n",
    "        \"uri\": \"https://sotm2024.iceberg.ohsome.org\",\n",
    "        \"s3.endpoint\": \"https://sotm2024.minio.heigit.org\",\n",
    "        \"py-io-impl\": \"pyiceberg.io.pyarrow.PyArrowFileIO\",\n",
    "        \"s3.access-key-id\": s3_user,\n",
    "        \"s3.secret-access-key\": s3_password,\n",
    "        \"s3.region\": \"eu-central-1\"\n",
    "    }\n",
    ")"
   ]
  },
  {
   "cell_type": "markdown",
   "id": "7da992ee-ac70-4d31-98f7-a3a2d301855a",
   "metadata": {},
   "source": [
    "Set connection to MinIO object storage."
   ]
  },
  {
   "cell_type": "code",
   "execution_count": 3,
   "id": "6fb2ba14-0d20-433d-b87a-e10aa7dd2eaa",
   "metadata": {},
   "outputs": [
    {
     "name": "stdout",
     "output_type": "stream",
     "text": [
      "┌─────────┐\n",
      "│ Success │\n",
      "│ boolean │\n",
      "├─────────┤\n",
      "│ true    │\n",
      "└─────────┘\n",
      "\n"
     ]
    }
   ],
   "source": [
    "query = f\"\"\"\n",
    "DROP SECRET IF EXISTS \"__default_s3\";\n",
    "CREATE SECRET (\n",
    "      TYPE S3,\n",
    "      KEY_ID '{s3_user}',\n",
    "      SECRET '{s3_password}',\n",
    "      REGION 'eu-central-1',\n",
    "      endpoint 'sotm2024.minio.heigit.org',\n",
    "      use_ssl true,\n",
    "      url_style 'path'\n",
    "  );\n",
    "\"\"\"\n",
    "con.sql(query).show()"
   ]
  },
  {
   "cell_type": "markdown",
   "id": "c5be4fd3-e1ce-4ca8-8822-e4bba45ba52d",
   "metadata": {},
   "source": [
    "## Prepare the input parameters for your analysis\n",
    "For this analysis mainly two parameters matter:\n",
    "* **time range**\n",
    "* **location** (approximated by country bounding boxes)"
   ]
  },
  {
   "cell_type": "code",
   "execution_count": 77,
   "id": "c125effb-70cc-4b35-9246-72e334c8f4e4",
   "metadata": {},
   "outputs": [],
   "source": [
    "# Set iceberg table\n",
    "namespace = 'geo_sort'\n",
    "tablename = 'contributions'\n",
    "icebergtable = catalog.load_table((namespace, tablename))\n",
    "\n",
    "# Define location filter\n",
    "bboxes = {\n",
    "    'kenya': (33.89, -4.68, 41.86, 5.51),\n",
    "    'germany': (5.99, 47.3, 15.02, 54.98),\n",
    "    'brazil': (-73.99, -33.77, -34.73, 5.24)\n",
    "}\n",
    "\n",
    "selected_region = 'kenya'\n",
    "xmin, ymin, xmax, ymax = bboxes[selected_region]\n",
    "\n",
    "# Define time range filter\n",
    "start_timestamp = '2024-01-01T00:00:00'\n",
    "time_interval = 'day'"
   ]
  },
  {
   "cell_type": "markdown",
   "id": "846d2d91-56f6-4542-ae8e-45c5f6ee8d08",
   "metadata": {},
   "source": [
    "## Get the Data\n",
    "Here we download the H3 cell ID instead of the actual OSM geometry. This allows  us to download the entire history of OSM. Furthermore, we get the OSM user ID and contribution timestamp."
   ]
  },
  {
   "cell_type": "code",
   "execution_count": 78,
   "id": "b951b95d-11a7-4d2b-a81f-3ab8e5339a1b",
   "metadata": {},
   "outputs": [
    {
     "name": "stdout",
     "output_type": "stream",
     "text": [
      "download took 16.318 sec.\n"
     ]
    }
   ],
   "source": [
    "import time\n",
    "start_time = time.time()\n",
    "\n",
    "icebergtable.scan(\n",
    "    row_filter=(\n",
    "        f\"(status = 'latest' or status = 'history')\"\n",
    "        f\"and (xmax >= {xmin} and xmin <= {xmax}) \"\n",
    "        f\"and (ymax >= {ymin} and ymin <= {ymax}) \"\n",
    "        f\"and valid_from >= '{start_timestamp}'\"\n",
    "    ),\n",
    "    selected_fields=(\n",
    "        \"user_id\",\n",
    "        \"valid_from\",\n",
    "        \"h3_r5\"\n",
    "    ),\n",
    ").to_duckdb('raw_osm_data',connection=con)\n",
    "\n",
    "download_time = round(time.time() - start_time, 3)\n",
    "print(f\"download took {download_time} sec.\")"
   ]
  },
  {
   "cell_type": "markdown",
   "id": "4f81e35f-21a5-447e-8e1d-144a9f1de82a",
   "metadata": {},
   "source": [
    "Count number of users per time interval.\n",
    "\n",
    "Use H3 library to calculate H3 polygon geometries."
   ]
  },
  {
   "cell_type": "code",
   "execution_count": 79,
   "id": "7bde9b9b-b4bd-488e-8dc3-b0b5ccbdba79",
   "metadata": {},
   "outputs": [
    {
     "name": "stdout",
     "output_type": "stream",
     "text": [
      "processing took 0.166 sec.\n"
     ]
    }
   ],
   "source": [
    "start_time = time.time()\n",
    "\n",
    "query = f\"\"\"\n",
    "INSTALL h3 FROM community;\n",
    "LOAD h3;\n",
    "\n",
    "SELECT\n",
    "    h3_r5,\n",
    "    1.0 * epoch_ms(date_trunc('{time_interval}', valid_from)) as time_interval,\n",
    "    count(distinct user_id) as n_users,\n",
    "    h3_cell_to_boundary_wkt(h3_r5) as geometry\n",
    "FROM raw_osm_data\n",
    "GROUP BY 1, 2\n",
    "ORDER BY 2, 1;\n",
    "\"\"\"\n",
    "\n",
    "df = con.sql(query).df()\n",
    "\n",
    "processing_time = round(time.time() - start_time, 3)\n",
    "print(f\"processing took {processing_time} sec.\")"
   ]
  },
  {
   "cell_type": "markdown",
   "id": "926db904-8ffa-4348-b44b-da081c452ee9",
   "metadata": {},
   "source": [
    "## Display OSM user activity on map\n",
    "Get data from DucDKB into GeoPandas dataframe."
   ]
  },
  {
   "cell_type": "code",
   "execution_count": 80,
   "id": "1d7426fa-44ab-461a-97f3-7f378cc15c6d",
   "metadata": {},
   "outputs": [],
   "source": [
    "import pandas as pd\n",
    "import geopandas as gpd\n",
    "\n",
    "# convert the data to geodata\n",
    "gdf = gpd.GeoDataFrame(\n",
    "    df,\n",
    "    geometry=gpd.GeoSeries.from_wkt(df['geometry'])\n",
    ").set_crs('epsg:4326')"
   ]
  },
  {
   "cell_type": "markdown",
   "id": "e7a3b59d-74b7-4a6b-8886-a2f2892d1c44",
   "metadata": {},
   "source": [
    "Define map parameters and style."
   ]
  },
  {
   "cell_type": "code",
   "execution_count": 81,
   "id": "9153d200-dbd6-45dd-ad91-1d6823b32d8a",
   "metadata": {},
   "outputs": [],
   "source": [
    "import numpy as np\n",
    "import datetime\n",
    "import lonboard\n",
    "from palettable.colorbrewer.sequential import Blues_9\n",
    "\n",
    "min_value = 0\n",
    "max_value = gdf[\"n_users\"].max()\n",
    "\n",
    "# normalized color values from 0 to 1\n",
    "user_activity_style = gdf[\"n_users\"].apply(\n",
    "    lambda x: (x - min_value) / (max_value - min_value))\n",
    "\n",
    "gdf[\"height\"] = 2500 * gdf[\"n_users\"] \n",
    "heights = gdf[\"height\"].to_numpy()\n",
    "heights = np.nan_to_num(heights, nan=1)\n",
    "\n",
    "min_valid_from = 1000 * datetime.datetime(2023,1,1).replace(tzinfo=datetime.timezone.utc).timestamp()\n",
    "max_valid_from = 1000 * datetime.datetime(2024,6,1).replace(tzinfo=datetime.timezone.utc).timestamp()\n",
    "\n",
    "# the lonboard map definition\n",
    "layer = lonboard.PolygonLayer.from_geopandas(\n",
    "    gdf,\n",
    "    get_fill_color=lonboard.colormap.apply_continuous_cmap(user_activity_style, Blues_9, alpha=.85),\n",
    "    extruded=True,\n",
    "    get_elevation=heights,\n",
    "    extensions=[lonboard.layer_extension.DataFilterExtension(filter_size=1)],\n",
    "    get_filter_value=gdf[\"time_interval\"],  # replace with desired column\n",
    "    filter_range=[min_valid_from, max_valid_from]  # replace with desired filter range\n",
    ")\n",
    "\n",
    "view_state = {\n",
    "    \"longitude\": xmin + ((xmax - xmin) / 2),\n",
    "    \"latitude\": ymin + ((ymax - ymin) / 2),\n",
    "    \"zoom\": 5,\n",
    "    \"pitch\": 25\n",
    "}\n",
    "\n",
    "user_activity_map = lonboard.Map(\n",
    "    basemap_style=lonboard.basemap.CartoBasemap.Positron,\n",
    "    layers=[layer],\n",
    "    view_state=view_state\n",
    ")"
   ]
  },
  {
   "cell_type": "markdown",
   "id": "ebade266-951f-4844-b398-34a69fe2c2c6",
   "metadata": {},
   "source": [
    "Set date slider."
   ]
  },
  {
   "cell_type": "code",
   "execution_count": 82,
   "id": "b6151959-5eb1-414f-a6d9-1b4d9dab41f3",
   "metadata": {},
   "outputs": [
    {
     "data": {
      "text/plain": [
       "<traitlets.traitlets.directional_link at 0x7da1d41f6720>"
      ]
     },
     "execution_count": 82,
     "metadata": {},
     "output_type": "execute_result"
    }
   ],
   "source": [
    "from datetime import date, timedelta\n",
    "import ipywidgets\n",
    "from traitlets import directional_link\n",
    "\n",
    "start = datetime.datetime(2024,1,1)\n",
    "end = datetime.datetime(2024,6,1)\n",
    "delta = end - start   # returns timedelta\n",
    "dates = [start + timedelta(days=i) for i in range(delta.days + 1)]\n",
    "options = [(i.strftime('%d-%b-%Y'), 1000* i.replace(tzinfo=datetime.timezone.utc).timestamp()) for i in dates]\n",
    "\n",
    "date_slider = ipywidgets.SelectionSlider(\n",
    "    options=options,\n",
    "    description='Day:',\n",
    "    layout=ipywidgets.Layout(width='1000px'),\n",
    "    disabled=False\n",
    ")\n",
    "\n",
    "directional_link(\n",
    "    (date_slider, 'value'),\n",
    "    (layer, \"filter_range\"),\n",
    "    transform=lambda v: (v,v)\n",
    ")"
   ]
  },
  {
   "cell_type": "markdown",
   "id": "5e14a36b-da1e-403c-a36a-b68ff35a5e7f",
   "metadata": {},
   "source": [
    "Display the map. Have fun exploring and moving around the time slider!"
   ]
  },
  {
   "cell_type": "code",
   "execution_count": 83,
   "id": "d4a7fba3-f047-464e-9c2d-ba3ce2a89726",
   "metadata": {},
   "outputs": [
    {
     "data": {
      "application/vnd.jupyter.widget-view+json": {
       "model_id": "f0abda2707564f008a48071ccd169db0",
       "version_major": 2,
       "version_minor": 1
      },
      "text/plain": [
       "Map(basemap_style=<CartoBasemap.Positron: 'https://basemaps.cartocdn.com/gl/positron-gl-style/style.json'>, la…"
      ]
     },
     "metadata": {},
     "output_type": "display_data"
    },
    {
     "data": {
      "application/vnd.jupyter.widget-view+json": {
       "model_id": "9b62e0719de04a948fb41741e2e977a8",
       "version_major": 2,
       "version_minor": 0
      },
      "text/plain": [
       "SelectionSlider(description='Day:', layout=Layout(width='1000px'), options=(('01-Jan-2024', 1704067200000.0), …"
      ]
     },
     "metadata": {},
     "output_type": "display_data"
    }
   ],
   "source": [
    "display(user_activity_map, date_slider)"
   ]
  },
  {
   "cell_type": "code",
   "execution_count": null,
   "id": "50080fac-8b9b-4f45-a64a-e9dac20750f0",
   "metadata": {},
   "outputs": [],
   "source": []
  }
 ],
 "metadata": {
  "kernelspec": {
   "display_name": "Python 3 (ipykernel)",
   "language": "python",
   "name": "python3"
  },
  "language_info": {
   "codemirror_mode": {
    "name": "ipython",
    "version": 3
   },
   "file_extension": ".py",
   "mimetype": "text/x-python",
   "name": "python",
   "nbconvert_exporter": "python",
   "pygments_lexer": "ipython3",
   "version": "3.12.3"
  }
 },
 "nbformat": 4,
 "nbformat_minor": 5
}
