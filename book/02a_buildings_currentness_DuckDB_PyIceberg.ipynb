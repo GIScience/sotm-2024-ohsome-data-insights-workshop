{
 "cells": [
  {
   "cell_type": "markdown",
   "id": "376bf8342197f6a6",
   "metadata": {},
   "source": [
    "# Currentness of Buildings\n",
    "In this notebook we demonstrate how to analyze and visualize the up-to-date-ness or currentness of the latest OSM data.\n",
    "\n",
    "These are the steps you see further down:\n",
    "\n",
    "* Set the connection parameters.\n",
    "* Prepare your input parameters, e.g. define area of interest and OSM tag filter.\n",
    "* **Download data** using PyIceberg and DuckDB.\n",
    "* Plot **currentness chart** with Polars.\n",
    "* Create a **Map**, an **interactive Slider** to filter the map data. "
   ]
  },
  {
   "cell_type": "markdown",
   "id": "23f48837-22c6-4c12-ab34-a99881cd844b",
   "metadata": {},
   "source": [
    "## Getting started\n",
    "Set connection params."
   ]
  },
  {
   "cell_type": "code",
   "execution_count": 1,
   "id": "331fd063-1ce7-46c9-96ea-e2984cf5459b",
   "metadata": {},
   "outputs": [],
   "source": [
    "import os\n",
    "\n",
    "s3_user = os.environ[\"S3_ACCESS_KEY_ID\"]  # add your user here\n",
    "s3_password = os.environ[\"S3_SECRET_ACCESS_KEY\"]  # add your password here"
   ]
  },
  {
   "cell_type": "markdown",
   "id": "31ceb832-6d27-4b40-b7fd-9905d9f8af13",
   "metadata": {},
   "source": [
    "Configure DuckDB."
   ]
  },
  {
   "cell_type": "code",
   "execution_count": 2,
   "id": "96acb582-a7e9-440d-914d-969fcf25a5c1",
   "metadata": {},
   "outputs": [],
   "source": [
    "import duckdb\n",
    "\n",
    "con = duckdb.connect(\n",
    "    config={\n",
    "        'threads': 8,\n",
    "        'max_memory': '8GB'\n",
    "    }\n",
    ")\n",
    "con.install_extension(\"spatial\")\n",
    "con.load_extension(\"spatial\")"
   ]
  },
  {
   "cell_type": "markdown",
   "id": "bea906d3-d6b0-46bf-a772-c2d8829d7d81",
   "metadata": {},
   "source": [
    "Set the connection params to Iceberg Rest Catalog."
   ]
  },
  {
   "cell_type": "code",
   "execution_count": 3,
   "id": "d668f6b2-5d83-43d0-8f36-93f676385216",
   "metadata": {},
   "outputs": [],
   "source": [
    "from pyiceberg.catalog.rest import RestCatalog\n",
    "\n",
    "catalog = RestCatalog(\n",
    "    name=\"default\",\n",
    "    **{\n",
    "        \"uri\": \"https://sotm2024.iceberg.ohsome.org\",\n",
    "        \"s3.endpoint\": \"https://sotm2024.minio.heigit.org\",\n",
    "        \"py-io-impl\": \"pyiceberg.io.pyarrow.PyArrowFileIO\",\n",
    "        \"s3.access-key-id\": s3_user,\n",
    "        \"s3.secret-access-key\": s3_password,\n",
    "        \"s3.region\": \"eu-central-1\"\n",
    "    }\n",
    ")"
   ]
  },
  {
   "cell_type": "markdown",
   "id": "7cacf3cf2ce91a41",
   "metadata": {},
   "source": [
    "## Prepare the input parameters for your analysis"
   ]
  },
  {
   "cell_type": "code",
   "execution_count": 10,
   "id": "f79d24f5f976b9e3",
   "metadata": {
    "ExecuteTime": {
     "end_time": "2024-08-16T08:47:02.611845Z",
     "start_time": "2024-08-16T08:47:02.601357Z"
    }
   },
   "outputs": [],
   "source": [
    "# Set iceberg table\n",
    "namespace = 'geo_sort'\n",
    "tablename = 'contributions_germany'\n",
    "#tablename = 'contributions'\n",
    "icebergtable = catalog.load_table((namespace, tablename))\n",
    "\n",
    "# Define status filter\n",
    "status = 'latest'\n",
    "\n",
    "# Define location filter\n",
    "bboxes = {\n",
    "    'heidelberg': (8.629761, 49.379556, 8.742371, 49.437890),\n",
    "    'nairobi': (36.650938, -1.444471, 37.103887, -1.163522),\n",
    "    'mannheim': (8.41416, 49.410362, 8.58999, 49.590489), \n",
    "    'berlin': (13.088345, 52.338271, 13.761161, 52.675509)\n",
    "}\n",
    "\n",
    "selected_region = 'heidelberg'\n",
    "xmin, ymin, xmax, ymax = bboxes[selected_region]\n",
    "\n",
    "# Define geometry type filter\n",
    "geometry_type = 'Polygon'"
   ]
  },
  {
   "cell_type": "markdown",
   "id": "fc4cd889-af4b-4706-9efc-37b2f4495c2d",
   "metadata": {},
   "source": [
    "## Get the Data\n",
    "First, we do an iceberg table scan with a pre-filter. This is a fast way to download all potential OSM elements that are needed for our analysis.\n",
    "\n",
    "We have optmized the Iceberg table to allow filtering for:\n",
    "* **status**\n",
    "* **geometry type**\n",
    "* **location** (approximated by the bounding box of each contribution)"
   ]
  },
  {
   "cell_type": "code",
   "execution_count": 7,
   "id": "30a0e2f1-4efc-46b4-a0c8-89ced449a456",
   "metadata": {},
   "outputs": [
    {
     "name": "stdout",
     "output_type": "stream",
     "text": [
      "download took 5.492 sec.\n"
     ]
    }
   ],
   "source": [
    "import time\n",
    "start_time = time.time()\n",
    "\n",
    "icebergtable.scan(\n",
    "    row_filter=(\n",
    "        f\"status = '{status}' \"\n",
    "        f\"and geometry_type = '{geometry_type}' \"\n",
    "        f\"and (bbox.xmax >= {xmin} and bbox.xmin <= {xmax}) \"\n",
    "        f\"and (bbox.ymax >= {ymin} and bbox.ymin <= {ymax}) \"\n",
    "    ),\n",
    "    selected_fields=(\n",
    "        \"valid_from\",\n",
    "        \"tags\",\n",
    "        \"geometry\",\n",
    "        \"bbox\"\n",
    "    )\n",
    ").to_duckdb('raw_osm_data',connection=con)\n",
    "\n",
    "download_time = round(time.time() - start_time, 3)\n",
    "print(f\"download took {download_time} sec.\")"
   ]
  },
  {
   "cell_type": "markdown",
   "id": "a36e801d-c1db-4ca1-8936-cafead7fedbd",
   "metadata": {},
   "source": [
    "Second, we use DuckDB to perform the more detailed filtering. In this step we can filter for:\n",
    "* **tags**\n",
    "* **location** (using the exact geometry of each OSM contribution)"
   ]
  },
  {
   "cell_type": "code",
   "execution_count": 11,
   "id": "4c0e802d-013b-43ac-87fa-5b22059f93fa",
   "metadata": {},
   "outputs": [
    {
     "name": "stdout",
     "output_type": "stream",
     "text": [
      "processing took 0.229 sec.\n"
     ]
    }
   ],
   "source": [
    "import time\n",
    "start_time = time.time()\n",
    "\n",
    "query = f\"\"\"\n",
    "DROP TABLE IF EXISTS osm_data;\n",
    "CREATE TABLE osm_data AS\n",
    "(\n",
    "SELECT\n",
    "    a.valid_from,\n",
    "    a.tags,\n",
    "    a.geometry   \n",
    "FROM\n",
    "    raw_osm_data as a,\n",
    "WHERE 1=1\n",
    "    and tags['building'][1] is not null\n",
    "    and tags['building'][1] != 'no'\n",
    ")\n",
    ";\n",
    "\"\"\"\n",
    "con.sql(query)\n",
    "\n",
    "processing_time = round(time.time() - start_time, 3)\n",
    "print(f\"processing took {processing_time} sec.\")"
   ]
  },
  {
   "cell_type": "markdown",
   "id": "68ed309a-2e60-4ad5-aa00-c2edcd858cf5",
   "metadata": {},
   "source": [
    "## Plot currentness chart with polars and hvplot"
   ]
  },
  {
   "cell_type": "code",
   "execution_count": 12,
   "id": "07f16b43-3cda-4a76-a99d-1ce96633ca66",
   "metadata": {},
   "outputs": [
    {
     "data": {},
     "metadata": {},
     "output_type": "display_data"
    },
    {
     "data": {
      "application/vnd.holoviews_exec.v0+json": "",
      "text/html": [
       "<div id='p1079'>\n",
       "  <div id=\"ebe0ad18-b92e-4406-9f42-6ab7b448b1d7\" data-root-id=\"p1079\" style=\"display: contents;\"></div>\n",
       "</div>\n",
       "<script type=\"application/javascript\">(function(root) {\n",
       "  var docs_json = {\"1d2b37cc-3516-4f93-b7d2-a930c98a3e8b\":{\"version\":\"3.4.3\",\"title\":\"Bokeh Application\",\"roots\":[{\"type\":\"object\",\"name\":\"Row\",\"id\":\"p1079\",\"attributes\":{\"name\":\"Row01103\",\"tags\":[\"embedded\"],\"stylesheets\":[\"\\n:host(.pn-loading):before, .pn-loading:before {\\n  background-color: #c3c3c3;\\n  mask-size: auto calc(min(50%, 400px));\\n  -webkit-mask-size: auto calc(min(50%, 400px));\\n}\",{\"type\":\"object\",\"name\":\"ImportedStyleSheet\",\"id\":\"p1082\",\"attributes\":{\"url\":\"https://cdn.holoviz.org/panel/1.4.5/dist/css/loading.css\"}},{\"type\":\"object\",\"name\":\"ImportedStyleSheet\",\"id\":\"p1150\",\"attributes\":{\"url\":\"https://cdn.holoviz.org/panel/1.4.5/dist/css/listpanel.css\"}},{\"type\":\"object\",\"name\":\"ImportedStyleSheet\",\"id\":\"p1080\",\"attributes\":{\"url\":\"https://cdn.holoviz.org/panel/1.4.5/dist/bundled/theme/default.css\"}},{\"type\":\"object\",\"name\":\"ImportedStyleSheet\",\"id\":\"p1081\",\"attributes\":{\"url\":\"https://cdn.holoviz.org/panel/1.4.5/dist/bundled/theme/native.css\"}}],\"min_width\":700,\"margin\":0,\"sizing_mode\":\"stretch_width\",\"align\":\"start\",\"children\":[{\"type\":\"object\",\"name\":\"Spacer\",\"id\":\"p1083\",\"attributes\":{\"name\":\"HSpacer01110\",\"stylesheets\":[\"\\n:host(.pn-loading):before, .pn-loading:before {\\n  background-color: #c3c3c3;\\n  mask-size: auto calc(min(50%, 400px));\\n  -webkit-mask-size: auto calc(min(50%, 400px));\\n}\",{\"id\":\"p1082\"},{\"id\":\"p1080\"},{\"id\":\"p1081\"}],\"margin\":0,\"sizing_mode\":\"stretch_width\",\"align\":\"start\"}},{\"type\":\"object\",\"name\":\"Figure\",\"id\":\"p1091\",\"attributes\":{\"width\":700,\"height\":300,\"margin\":[5,10],\"sizing_mode\":\"fixed\",\"align\":\"start\",\"x_range\":{\"type\":\"object\",\"name\":\"Range1d\",\"id\":\"p1084\",\"attributes\":{\"tags\":[[[\"month\",null]],[]],\"start\":1217548800000.0,\"end\":1719792000000.0,\"reset_start\":1217548800000.0,\"reset_end\":1719792000000.0}},\"y_range\":{\"type\":\"object\",\"name\":\"Range1d\",\"id\":\"p1085\",\"attributes\":{\"tags\":[[[\"n_edits\",null]],{\"type\":\"map\",\"entries\":[[\"invert_yaxis\",false],[\"autorange\",false]]}],\"start\":-259.5,\"end\":2866.5,\"reset_start\":-259.5,\"reset_end\":2866.5}},\"x_scale\":{\"type\":\"object\",\"name\":\"LinearScale\",\"id\":\"p1101\"},\"y_scale\":{\"type\":\"object\",\"name\":\"LinearScale\",\"id\":\"p1102\"},\"title\":{\"type\":\"object\",\"name\":\"Title\",\"id\":\"p1094\",\"attributes\":{\"text_color\":\"black\",\"text_font_size\":\"12pt\"}},\"renderers\":[{\"type\":\"object\",\"name\":\"GlyphRenderer\",\"id\":\"p1143\",\"attributes\":{\"data_source\":{\"type\":\"object\",\"name\":\"ColumnDataSource\",\"id\":\"p1134\",\"attributes\":{\"selected\":{\"type\":\"object\",\"name\":\"Selection\",\"id\":\"p1135\",\"attributes\":{\"indices\":[],\"line_indices\":[]}},\"selection_policy\":{\"type\":\"object\",\"name\":\"UnionRenderers\",\"id\":\"p1136\"},\"data\":{\"type\":\"map\",\"entries\":[[\"month\",{\"type\":\"ndarray\",\"array\":{\"type\":\"bytes\",\"data\":\"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\"},\"shape\":[330],\"dtype\":\"float64\",\"order\":\"little\"}],[\"n_edits\",{\"type\":\"ndarray\",\"array\":{\"type\":\"bytes\",\"data\":\"AQAAAAEAAAABAAAAAQAAAAQAAAAEAAAAHQAAAB0AAAAjAAAAIwAAABwAAAAcAAAACQAAAAkAAAAJAAAACQAAAAIAAAACAAAABgAAAAYAAAAMAAAADAAAAAsAAAALAAAACgAAAAoAAAABAAAAAQAAAAUAAAAFAAAAAwAAAAMAAAABAAAAAQAAAAYAAAAGAAAADgAAAA4AAAAXAAAAFwAAALcAAAC3AAAAAwAAAAMAAAA7AAAAOwAAAAEAAAABAAAAEAAAABAAAAADAAAAAwAAALUAAAC1AAAAAwAAAAMAAABJAAAASQAAAF8AAABfAAAAfgAAAH4AAAAXAAAAFwAAAEAAAABAAAAAIQAAACEAAAB/AAAAfwAAACkAAAApAAAAKwAAACsAAADSAAAA0gAAAJIAAACSAAAAQwAAAEMAAAD4AAAA+AAAAEIAAABCAAAAMwAAADMAAABMAAAATAAAAIIAAACCAAAAYwAAAGMAAABhAwAAYQMAAIMAAACDAAAARwAAAEcAAAB2AAAAdgAAAKEAAAChAAAAGAAAABgAAAAIAAAACAAAAB4AAAAeAAAAGgAAABoAAAAIAAAACAAAAAkAAAAJAAAAFgAAABYAAAAGAAAABgAAAC8AAAAvAAAAGwAAABsAAAAXAAAAFwAAAAIBAAACAQAACAAAAAgAAABZAAAAWQAAADEAAAAxAAAADgAAAA4AAAAMAAAADAAAACEAAAAhAAAAKQEAACkBAAARAAAAEQAAAA4AAAAOAAAAEgAAABIAAADVAAAA1QAAABoAAAAaAAAAAQAAAAEAAAAgAAAAIAAAACIAAAAiAAAAGAAAABgAAAA7AAAAOwAAAAMAAAADAAAAPgAAAD4AAAA1AAAANQAAABcAAAAXAAAAqQAAAKkAAAB1AAAAdQAAALIAAACyAAAAyAAAAMgAAACwAAAAsAAAAC8AAAAvAAAAKgAAACoAAAAOAAAADgAAAAwAAAAMAAAAAgAAAAIAAAAKAAAACgAAAC4AAAAuAAAAKgAAACoAAAAfAAAAHwAAAA0AAAANAAAAjgAAAI4AAABfAAAAXwAAACwAAAAsAAAAPAAAADwAAAACAAAAAgAAABkAAAAZAAAAEwAAABMAAAAqAAAAKgAAAAUAAAAFAAAAFwAAABcAAAAVAAAAFQAAAAwAAAAMAAAADwAAAA8AAAAVAAAAFQAAAF8AAABfAAAAQQAAAEEAAAA0AAAANAAAABwAAAAcAAAADwAAAA8AAAAMAAAADAAAAEIAAABCAAAAKgAAACoAAABxAAAAcQAAALMAAACzAAAAyAEAAMgBAABeAgAAXgIAALQBAAC0AQAAVAIAAFQCAABjAAAAYwAAAEkAAABJAAAARwMAAEcDAACtAAAArQAAAE8BAABPAQAA7wEAAO8BAACrAAAAqwAAAKEBAAChAQAAiwEAAIsBAADZAQAA2QEAAEABAABAAQAAggAAAIIAAAAWAQAAFgEAAMgBAADIAQAAiwAAAIsAAAA0AAAANAAAAEsAAABLAAAAcwAAAHMAAACbAAAAmwAAAEEBAABBAQAAIAAAACAAAACRAQAAkQEAAMMAAADDAAAA6wAAAOsAAABkAQAAZAEAAF8BAABfAQAAuwAAALsAAAAuCgAALgoAAMgCAADIAgAAagAAAGoAAABtAAAAbQAAAFcAAABXAAAAVQAAAFUAAAD1AAAA9QAAAG8AAABvAAAAgAEAAIABAAAKAgAACgIAANAEAADQBAAA\"},\"shape\":[330],\"dtype\":\"int32\",\"order\":\"little\"}]]}}},\"view\":{\"type\":\"object\",\"name\":\"CDSView\",\"id\":\"p1144\",\"attributes\":{\"filter\":{\"type\":\"object\",\"name\":\"AllIndices\",\"id\":\"p1145\"}}},\"glyph\":{\"type\":\"object\",\"name\":\"Line\",\"id\":\"p1140\",\"attributes\":{\"tags\":[\"apply_ranges\"],\"x\":{\"type\":\"field\",\"field\":\"month\"},\"y\":{\"type\":\"field\",\"field\":\"n_edits\"},\"line_color\":\"#30a2da\",\"line_width\":2}},\"selection_glyph\":{\"type\":\"object\",\"name\":\"Line\",\"id\":\"p1146\",\"attributes\":{\"tags\":[\"apply_ranges\"],\"x\":{\"type\":\"field\",\"field\":\"month\"},\"y\":{\"type\":\"field\",\"field\":\"n_edits\"},\"line_color\":\"#30a2da\",\"line_width\":2}},\"nonselection_glyph\":{\"type\":\"object\",\"name\":\"Line\",\"id\":\"p1141\",\"attributes\":{\"tags\":[\"apply_ranges\"],\"x\":{\"type\":\"field\",\"field\":\"month\"},\"y\":{\"type\":\"field\",\"field\":\"n_edits\"},\"line_color\":\"#30a2da\",\"line_alpha\":0.1,\"line_width\":2}},\"muted_glyph\":{\"type\":\"object\",\"name\":\"Line\",\"id\":\"p1142\",\"attributes\":{\"tags\":[\"apply_ranges\"],\"x\":{\"type\":\"field\",\"field\":\"month\"},\"y\":{\"type\":\"field\",\"field\":\"n_edits\"},\"line_color\":\"#30a2da\",\"line_alpha\":0.2,\"line_width\":2}}}}],\"toolbar\":{\"type\":\"object\",\"name\":\"Toolbar\",\"id\":\"p1100\",\"attributes\":{\"tools\":[{\"type\":\"object\",\"name\":\"WheelZoomTool\",\"id\":\"p1089\",\"attributes\":{\"tags\":[\"hv_created\"],\"renderers\":\"auto\",\"zoom_together\":\"none\"}},{\"type\":\"object\",\"name\":\"HoverTool\",\"id\":\"p1090\",\"attributes\":{\"tags\":[\"hv_created\"],\"renderers\":[{\"id\":\"p1143\"}],\"tooltips\":[[\"month\",\"@{month}{%F %T}\"],[\"n_edits\",\"@{n_edits}\"]],\"formatters\":{\"type\":\"map\",\"entries\":[[\"@{month}\",\"datetime\"]]}}},{\"type\":\"object\",\"name\":\"SaveTool\",\"id\":\"p1125\"},{\"type\":\"object\",\"name\":\"PanTool\",\"id\":\"p1126\"},{\"type\":\"object\",\"name\":\"BoxZoomTool\",\"id\":\"p1127\",\"attributes\":{\"overlay\":{\"type\":\"object\",\"name\":\"BoxAnnotation\",\"id\":\"p1128\",\"attributes\":{\"syncable\":false,\"level\":\"overlay\",\"visible\":false,\"left\":{\"type\":\"number\",\"value\":\"nan\"},\"right\":{\"type\":\"number\",\"value\":\"nan\"},\"top\":{\"type\":\"number\",\"value\":\"nan\"},\"bottom\":{\"type\":\"number\",\"value\":\"nan\"},\"left_units\":\"canvas\",\"right_units\":\"canvas\",\"top_units\":\"canvas\",\"bottom_units\":\"canvas\",\"line_color\":\"black\",\"line_alpha\":1.0,\"line_width\":2,\"line_dash\":[4,4],\"fill_color\":\"lightgrey\",\"fill_alpha\":0.5}}}},{\"type\":\"object\",\"name\":\"ResetTool\",\"id\":\"p1133\"}],\"active_drag\":{\"id\":\"p1126\"},\"active_scroll\":{\"id\":\"p1089\"}}},\"left\":[{\"type\":\"object\",\"name\":\"LinearAxis\",\"id\":\"p1120\",\"attributes\":{\"ticker\":{\"type\":\"object\",\"name\":\"BasicTicker\",\"id\":\"p1121\",\"attributes\":{\"mantissas\":[1,2,5]}},\"formatter\":{\"type\":\"object\",\"name\":\"BasicTickFormatter\",\"id\":\"p1122\"},\"axis_label\":\"n_edits\",\"major_label_policy\":{\"type\":\"object\",\"name\":\"AllLabels\",\"id\":\"p1123\"}}}],\"below\":[{\"type\":\"object\",\"name\":\"DatetimeAxis\",\"id\":\"p1103\",\"attributes\":{\"ticker\":{\"type\":\"object\",\"name\":\"DatetimeTicker\",\"id\":\"p1104\",\"attributes\":{\"num_minor_ticks\":5,\"tickers\":[{\"type\":\"object\",\"name\":\"AdaptiveTicker\",\"id\":\"p1105\",\"attributes\":{\"num_minor_ticks\":0,\"mantissas\":[1,2,5],\"max_interval\":500.0}},{\"type\":\"object\",\"name\":\"AdaptiveTicker\",\"id\":\"p1106\",\"attributes\":{\"num_minor_ticks\":0,\"base\":60,\"mantissas\":[1,2,5,10,15,20,30],\"min_interval\":1000.0,\"max_interval\":1800000.0}},{\"type\":\"object\",\"name\":\"AdaptiveTicker\",\"id\":\"p1107\",\"attributes\":{\"num_minor_ticks\":0,\"base\":24,\"mantissas\":[1,2,4,6,8,12],\"min_interval\":3600000.0,\"max_interval\":43200000.0}},{\"type\":\"object\",\"name\":\"DaysTicker\",\"id\":\"p1108\",\"attributes\":{\"days\":[1,2,3,4,5,6,7,8,9,10,11,12,13,14,15,16,17,18,19,20,21,22,23,24,25,26,27,28,29,30,31]}},{\"type\":\"object\",\"name\":\"DaysTicker\",\"id\":\"p1109\",\"attributes\":{\"days\":[1,4,7,10,13,16,19,22,25,28]}},{\"type\":\"object\",\"name\":\"DaysTicker\",\"id\":\"p1110\",\"attributes\":{\"days\":[1,8,15,22]}},{\"type\":\"object\",\"name\":\"DaysTicker\",\"id\":\"p1111\",\"attributes\":{\"days\":[1,15]}},{\"type\":\"object\",\"name\":\"MonthsTicker\",\"id\":\"p1112\",\"attributes\":{\"months\":[0,1,2,3,4,5,6,7,8,9,10,11]}},{\"type\":\"object\",\"name\":\"MonthsTicker\",\"id\":\"p1113\",\"attributes\":{\"months\":[0,2,4,6,8,10]}},{\"type\":\"object\",\"name\":\"MonthsTicker\",\"id\":\"p1114\",\"attributes\":{\"months\":[0,4,8]}},{\"type\":\"object\",\"name\":\"MonthsTicker\",\"id\":\"p1115\",\"attributes\":{\"months\":[0,6]}},{\"type\":\"object\",\"name\":\"YearsTicker\",\"id\":\"p1116\"}]}},\"formatter\":{\"type\":\"object\",\"name\":\"DatetimeTickFormatter\",\"id\":\"p1117\"},\"axis_label\":\"month\",\"major_label_policy\":{\"type\":\"object\",\"name\":\"AllLabels\",\"id\":\"p1118\"}}}],\"center\":[{\"type\":\"object\",\"name\":\"Grid\",\"id\":\"p1119\",\"attributes\":{\"axis\":{\"id\":\"p1103\"},\"grid_line_color\":null}},{\"type\":\"object\",\"name\":\"Grid\",\"id\":\"p1124\",\"attributes\":{\"dimension\":1,\"axis\":{\"id\":\"p1120\"},\"grid_line_color\":null}}],\"min_border_top\":10,\"min_border_bottom\":10,\"min_border_left\":10,\"min_border_right\":10,\"output_backend\":\"webgl\"}},{\"type\":\"object\",\"name\":\"Spacer\",\"id\":\"p1148\",\"attributes\":{\"name\":\"HSpacer01111\",\"stylesheets\":[\"\\n:host(.pn-loading):before, .pn-loading:before {\\n  background-color: #c3c3c3;\\n  mask-size: auto calc(min(50%, 400px));\\n  -webkit-mask-size: auto calc(min(50%, 400px));\\n}\",{\"id\":\"p1082\"},{\"id\":\"p1080\"},{\"id\":\"p1081\"}],\"margin\":0,\"sizing_mode\":\"stretch_width\",\"align\":\"start\"}}]}}],\"defs\":[{\"type\":\"model\",\"name\":\"ReactiveHTML1\"},{\"type\":\"model\",\"name\":\"FlexBox1\",\"properties\":[{\"name\":\"align_content\",\"kind\":\"Any\",\"default\":\"flex-start\"},{\"name\":\"align_items\",\"kind\":\"Any\",\"default\":\"flex-start\"},{\"name\":\"flex_direction\",\"kind\":\"Any\",\"default\":\"row\"},{\"name\":\"flex_wrap\",\"kind\":\"Any\",\"default\":\"wrap\"},{\"name\":\"gap\",\"kind\":\"Any\",\"default\":\"\"},{\"name\":\"justify_content\",\"kind\":\"Any\",\"default\":\"flex-start\"}]},{\"type\":\"model\",\"name\":\"FloatPanel1\",\"properties\":[{\"name\":\"config\",\"kind\":\"Any\",\"default\":{\"type\":\"map\"}},{\"name\":\"contained\",\"kind\":\"Any\",\"default\":true},{\"name\":\"position\",\"kind\":\"Any\",\"default\":\"right-top\"},{\"name\":\"offsetx\",\"kind\":\"Any\",\"default\":null},{\"name\":\"offsety\",\"kind\":\"Any\",\"default\":null},{\"name\":\"theme\",\"kind\":\"Any\",\"default\":\"primary\"},{\"name\":\"status\",\"kind\":\"Any\",\"default\":\"normalized\"}]},{\"type\":\"model\",\"name\":\"GridStack1\",\"properties\":[{\"name\":\"mode\",\"kind\":\"Any\",\"default\":\"warn\"},{\"name\":\"ncols\",\"kind\":\"Any\",\"default\":null},{\"name\":\"nrows\",\"kind\":\"Any\",\"default\":null},{\"name\":\"allow_resize\",\"kind\":\"Any\",\"default\":true},{\"name\":\"allow_drag\",\"kind\":\"Any\",\"default\":true},{\"name\":\"state\",\"kind\":\"Any\",\"default\":[]}]},{\"type\":\"model\",\"name\":\"drag1\",\"properties\":[{\"name\":\"slider_width\",\"kind\":\"Any\",\"default\":5},{\"name\":\"slider_color\",\"kind\":\"Any\",\"default\":\"black\"},{\"name\":\"value\",\"kind\":\"Any\",\"default\":50}]},{\"type\":\"model\",\"name\":\"click1\",\"properties\":[{\"name\":\"terminal_output\",\"kind\":\"Any\",\"default\":\"\"},{\"name\":\"debug_name\",\"kind\":\"Any\",\"default\":\"\"},{\"name\":\"clears\",\"kind\":\"Any\",\"default\":0}]},{\"type\":\"model\",\"name\":\"FastWrapper1\",\"properties\":[{\"name\":\"object\",\"kind\":\"Any\",\"default\":null},{\"name\":\"style\",\"kind\":\"Any\",\"default\":null}]},{\"type\":\"model\",\"name\":\"NotificationAreaBase1\",\"properties\":[{\"name\":\"js_events\",\"kind\":\"Any\",\"default\":{\"type\":\"map\"}},{\"name\":\"position\",\"kind\":\"Any\",\"default\":\"bottom-right\"},{\"name\":\"_clear\",\"kind\":\"Any\",\"default\":0}]},{\"type\":\"model\",\"name\":\"NotificationArea1\",\"properties\":[{\"name\":\"js_events\",\"kind\":\"Any\",\"default\":{\"type\":\"map\"}},{\"name\":\"notifications\",\"kind\":\"Any\",\"default\":[]},{\"name\":\"position\",\"kind\":\"Any\",\"default\":\"bottom-right\"},{\"name\":\"_clear\",\"kind\":\"Any\",\"default\":0},{\"name\":\"types\",\"kind\":\"Any\",\"default\":[{\"type\":\"map\",\"entries\":[[\"type\",\"warning\"],[\"background\",\"#ffc107\"],[\"icon\",{\"type\":\"map\",\"entries\":[[\"className\",\"fas fa-exclamation-triangle\"],[\"tagName\",\"i\"],[\"color\",\"white\"]]}]]},{\"type\":\"map\",\"entries\":[[\"type\",\"info\"],[\"background\",\"#007bff\"],[\"icon\",{\"type\":\"map\",\"entries\":[[\"className\",\"fas fa-info-circle\"],[\"tagName\",\"i\"],[\"color\",\"white\"]]}]]}]}]},{\"type\":\"model\",\"name\":\"Notification\",\"properties\":[{\"name\":\"background\",\"kind\":\"Any\",\"default\":null},{\"name\":\"duration\",\"kind\":\"Any\",\"default\":3000},{\"name\":\"icon\",\"kind\":\"Any\",\"default\":null},{\"name\":\"message\",\"kind\":\"Any\",\"default\":\"\"},{\"name\":\"notification_type\",\"kind\":\"Any\",\"default\":null},{\"name\":\"_destroyed\",\"kind\":\"Any\",\"default\":false}]},{\"type\":\"model\",\"name\":\"TemplateActions1\",\"properties\":[{\"name\":\"open_modal\",\"kind\":\"Any\",\"default\":0},{\"name\":\"close_modal\",\"kind\":\"Any\",\"default\":0}]},{\"type\":\"model\",\"name\":\"BootstrapTemplateActions1\",\"properties\":[{\"name\":\"open_modal\",\"kind\":\"Any\",\"default\":0},{\"name\":\"close_modal\",\"kind\":\"Any\",\"default\":0}]},{\"type\":\"model\",\"name\":\"TemplateEditor1\",\"properties\":[{\"name\":\"layout\",\"kind\":\"Any\",\"default\":[]}]},{\"type\":\"model\",\"name\":\"MaterialTemplateActions1\",\"properties\":[{\"name\":\"open_modal\",\"kind\":\"Any\",\"default\":0},{\"name\":\"close_modal\",\"kind\":\"Any\",\"default\":0}]},{\"type\":\"model\",\"name\":\"copy_to_clipboard1\",\"properties\":[{\"name\":\"fill\",\"kind\":\"Any\",\"default\":\"none\"},{\"name\":\"value\",\"kind\":\"Any\",\"default\":null}]}]}};\n",
       "  var render_items = [{\"docid\":\"1d2b37cc-3516-4f93-b7d2-a930c98a3e8b\",\"roots\":{\"p1079\":\"ebe0ad18-b92e-4406-9f42-6ab7b448b1d7\"},\"root_ids\":[\"p1079\"]}];\n",
       "  var docs = Object.values(docs_json)\n",
       "  if (!docs) {\n",
       "    return\n",
       "  }\n",
       "  const py_version = docs[0].version.replace('rc', '-rc.').replace('.dev', '-dev.')\n",
       "  async function embed_document(root) {\n",
       "    var Bokeh = get_bokeh(root)\n",
       "    await Bokeh.embed.embed_items_notebook(docs_json, render_items);\n",
       "    for (const render_item of render_items) {\n",
       "      for (const root_id of render_item.root_ids) {\n",
       "\tconst id_el = document.getElementById(root_id)\n",
       "\tif (id_el.children.length && id_el.children[0].hasAttribute('data-root-id')) {\n",
       "\t  const root_el = id_el.children[0]\n",
       "\t  root_el.id = root_el.id + '-rendered'\n",
       "\t  for (const child of root_el.children) {\n",
       "            // Ensure JupyterLab does not capture keyboard shortcuts\n",
       "            // see: https://jupyterlab.readthedocs.io/en/4.1.x/extension/notebook.html#keyboard-interaction-model\n",
       "\t    child.setAttribute('data-lm-suppress-shortcuts', 'true')\n",
       "\t  }\n",
       "\t}\n",
       "      }\n",
       "    }\n",
       "  }\n",
       "  function get_bokeh(root) {\n",
       "    if (root.Bokeh === undefined) {\n",
       "      return null\n",
       "    } else if (root.Bokeh.version !== py_version) {\n",
       "      if (root.Bokeh.versions === undefined || !root.Bokeh.versions.has(py_version)) {\n",
       "\treturn null\n",
       "      }\n",
       "      return root.Bokeh.versions.get(py_version);\n",
       "    } else if (root.Bokeh.version === py_version) {\n",
       "      return root.Bokeh\n",
       "    }\n",
       "    return null\n",
       "  }\n",
       "  function is_loaded(root) {\n",
       "    var Bokeh = get_bokeh(root)\n",
       "    return (Bokeh != null && Bokeh.Panel !== undefined)\n",
       "  }\n",
       "  if (is_loaded(root)) {\n",
       "    embed_document(root);\n",
       "  } else {\n",
       "    var attempts = 0;\n",
       "    var timer = setInterval(function(root) {\n",
       "      if (is_loaded(root)) {\n",
       "        clearInterval(timer);\n",
       "        embed_document(root);\n",
       "      } else if (document.readyState == \"complete\") {\n",
       "        attempts++;\n",
       "        if (attempts > 200) {\n",
       "          clearInterval(timer);\n",
       "\t  var Bokeh = get_bokeh(root)\n",
       "\t  if (Bokeh == null || Bokeh.Panel == null) {\n",
       "            console.warn(\"Panel: ERROR: Unable to run Panel code because Bokeh or Panel library is missing\");\n",
       "\t  } else {\n",
       "\t    console.warn(\"Panel: WARNING: Attempting to render but not all required libraries could be resolved.\")\n",
       "\t    embed_document(root)\n",
       "\t  }\n",
       "        }\n",
       "      }\n",
       "    }, 25, root)\n",
       "  }\n",
       "})(window);</script>"
      ],
      "text/plain": [
       ":Curve   [month]   (n_edits)"
      ]
     },
     "execution_count": 12,
     "metadata": {
      "application/vnd.holoviews_exec.v0+json": {
       "id": "p1079"
      }
     },
     "output_type": "execute_result"
    }
   ],
   "source": [
    "import polars as pl\n",
    "\n",
    "chart_query = \"\"\"\n",
    "SELECT\n",
    "    date_trunc('month', valid_from) as month,\n",
    "    count(*) as n_edits\n",
    "    FROM osm_data\n",
    "    GROUP BY month\n",
    "    ORDER BY month\n",
    "\"\"\"\n",
    "\n",
    "df = con.sql(chart_query).pl()\n",
    "df.plot.step(\n",
    "    x=\"month\",\n",
    "    y=\"n_edits\"\n",
    ")"
   ]
  },
  {
   "cell_type": "markdown",
   "id": "d01df2fe0eea7c06",
   "metadata": {},
   "source": [
    "## Display currentness of OSM features on map\n",
    "Get data from DucDKB into GeoPandas dataframe.\n"
   ]
  },
  {
   "cell_type": "code",
   "execution_count": 13,
   "id": "9550233a-592f-4d4c-9d97-f334bdd503d2",
   "metadata": {},
   "outputs": [],
   "source": [
    "import geopandas as gpd\n",
    "\n",
    "map_query = \"\"\"\n",
    "    SELECT\n",
    "        epoch_ms(valid_from) as valid_from,\n",
    "        geometry\n",
    "    FROM osm_data;\n",
    "\"\"\"\n",
    "\n",
    "df = con.sql(map_query).df()\n",
    "\n",
    "# convert the data to geodata\n",
    "gdf = gpd.GeoDataFrame(\n",
    "    df,\n",
    "    geometry=gpd.GeoSeries.from_wkt(df['geometry'])\n",
    ").set_crs('epsg:4326')"
   ]
  },
  {
   "cell_type": "markdown",
   "id": "5210192e-6497-458b-8da0-12683f865cc1",
   "metadata": {},
   "source": [
    "Define map parameters and style."
   ]
  },
  {
   "cell_type": "code",
   "execution_count": 14,
   "id": "6d5bf28a-a70c-4cc6-8633-8dad9d36a744",
   "metadata": {},
   "outputs": [],
   "source": [
    "import datetime\n",
    "import lonboard\n",
    "from palettable.matplotlib import Viridis_20\n",
    "\n",
    "\n",
    "# compute lonboard color style for contious color map\n",
    "min_valid_from = 1000 * datetime.datetime(2007,1,1).timestamp()\n",
    "max_valid_from = 1000 * datetime.datetime(2024,6,1).timestamp()\n",
    "\n",
    "# normalized color values from 0 to 1\n",
    "valid_from_style = gdf[\"valid_from\"].apply(\n",
    "    lambda x: (x - min_valid_from) / (max_valid_from - min_valid_from))\n",
    "\n",
    "\n",
    "# the lonboard map definition\n",
    "layer = lonboard.SolidPolygonLayer.from_geopandas(\n",
    "    gdf,\n",
    "    extensions=[lonboard.layer_extension.DataFilterExtension(filter_size=1)],\n",
    "    get_filter_value=gdf[\"valid_from\"],  # replace with desired column\n",
    "    filter_range=[min_valid_from, max_valid_from],  # replace with desired filter range\n",
    "    get_fill_color=lonboard.colormap.apply_continuous_cmap(valid_from_style, Viridis_20, alpha=1)\n",
    "\n",
    ")\n",
    "\n",
    "currentness_map = lonboard.Map(\n",
    "    basemap_style=lonboard.basemap.CartoBasemap.DarkMatter,\n",
    "    layers=[layer]\n",
    ")"
   ]
  },
  {
   "cell_type": "markdown",
   "id": "eb992d0f-1fd1-49b0-ada7-ee5960f0e0f1",
   "metadata": {},
   "source": [
    "Define Dates Slider Selection Widget and link to map filter range."
   ]
  },
  {
   "cell_type": "code",
   "execution_count": 15,
   "id": "95b75d40-3a35-40a3-b215-6e673892af7e",
   "metadata": {},
   "outputs": [
    {
     "data": {
      "text/plain": [
       "<traitlets.traitlets.directional_link at 0x754e04508110>"
      ]
     },
     "execution_count": 15,
     "metadata": {},
     "output_type": "execute_result"
    }
   ],
   "source": [
    "from datetime import date, timedelta\n",
    "import ipywidgets\n",
    "from traitlets import directional_link\n",
    "\n",
    "start = datetime.datetime(2007,1,1)\n",
    "end = datetime.datetime(2024,6,1)\n",
    "delta = end - start   # returns timedelta\n",
    "dates = [start + timedelta(days=i) for i in range(delta.days + 1)]\n",
    "options = [(i.strftime('%d-%b-%Y'), int(1000* i.timestamp())) for i in dates]\n",
    "\n",
    "date_slider = ipywidgets.SelectionRangeSlider(\n",
    "    options=options,\n",
    "    index=(0, len(dates)-1),\n",
    "    description='Last Edit:',\n",
    "    layout=ipywidgets.Layout(width='1000px'),\n",
    "    disabled=False\n",
    ")\n",
    "\n",
    "directional_link(\n",
    "    (date_slider, 'value'),\n",
    "    (layer, \"filter_range\"),\n",
    "    #(slider, 'value')\n",
    ")"
   ]
  },
  {
   "cell_type": "markdown",
   "id": "a1d9503c-c51f-42d0-8215-992eeacf9084",
   "metadata": {},
   "source": [
    "Display the map. Have fun exploring and moving around the time slider!"
   ]
  },
  {
   "cell_type": "code",
   "execution_count": 16,
   "id": "d79e15a5-d969-4fb6-a548-06d147334c1b",
   "metadata": {},
   "outputs": [
    {
     "data": {
      "application/vnd.jupyter.widget-view+json": {
       "model_id": "9b46fb7f5bc342cb895be8b4b243badd",
       "version_major": 2,
       "version_minor": 1
      },
      "text/plain": [
       "Map(basemap_style=<CartoBasemap.DarkMatter: 'https://basemaps.cartocdn.com/gl/dark-matter-gl-style/style.json'…"
      ]
     },
     "metadata": {},
     "output_type": "display_data"
    },
    {
     "data": {
      "application/vnd.jupyter.widget-view+json": {
       "model_id": "bcd2f0f5aa3449adb6fa6bd29f88d691",
       "version_major": 2,
       "version_minor": 0
      },
      "text/plain": [
       "SelectionRangeSlider(description='Last Edit:', index=(0, 6361), layout=Layout(width='1000px'), options=(('01-J…"
      ]
     },
     "metadata": {},
     "output_type": "display_data"
    }
   ],
   "source": [
    "display(currentness_map, date_slider)"
   ]
  },
  {
   "cell_type": "code",
   "execution_count": null,
   "id": "f4e1e7f0-ed52-48bf-a17a-215721d22c4c",
   "metadata": {},
   "outputs": [],
   "source": []
  }
 ],
 "metadata": {
  "kernelspec": {
   "display_name": "Python 3 (ipykernel)",
   "language": "python",
   "name": "python3"
  },
  "language_info": {
   "codemirror_mode": {
    "name": "ipython",
    "version": 3
   },
   "file_extension": ".py",
   "mimetype": "text/x-python",
   "name": "python",
   "nbconvert_exporter": "python",
   "pygments_lexer": "ipython3",
   "version": "3.12.3"
  }
 },
 "nbformat": 4,
 "nbformat_minor": 5
}
