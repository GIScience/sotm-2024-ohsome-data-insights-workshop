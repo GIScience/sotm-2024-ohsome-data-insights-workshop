{
 "cells": [
  {
   "cell_type": "markdown",
   "id": "0aabe61e-c6fe-49e5-babf-3108f7aef591",
   "metadata": {},
   "source": [
    "# PyIceberg: Connect to Iceberg Catalog"
   ]
  },
  {
   "cell_type": "code",
   "execution_count": null,
   "id": "b79af493-a3cd-4e08-9b3b-4a5fa7e19329",
   "metadata": {},
   "outputs": [],
   "source": []
  }
 ],
 "metadata": {
  "kernelspec": {
   "display_name": "Python 3 (ipykernel)",
   "language": "python",
   "name": "python3"
  },
  "language_info": {
   "codemirror_mode": {
    "name": "ipython",
    "version": 3
   },
   "file_extension": ".py",
   "mimetype": "text/x-python",
   "name": "python",
   "nbconvert_exporter": "python",
   "pygments_lexer": "ipython3",
   "version": "3.12.3"
  }
 },
 "nbformat": 4,
 "nbformat_minor": 5
}
